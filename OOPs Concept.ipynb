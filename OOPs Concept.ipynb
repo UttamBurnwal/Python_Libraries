{
 "cells": [
  {
   "cell_type": "code",
   "execution_count": 1,
   "id": "a49c8b2f",
   "metadata": {},
   "outputs": [],
   "source": [
    "class Phone:\n",
    "    \n",
    "    def make_call(self):\n",
    "        print('I am making a call')\n",
    "        \n",
    "    def play_game(self):\n",
    "        print('I am playing games')"
   ]
  },
  {
   "cell_type": "code",
   "execution_count": 2,
   "id": "7dc33041",
   "metadata": {},
   "outputs": [],
   "source": [
    "p1 = Phone()"
   ]
  },
  {
   "cell_type": "code",
   "execution_count": 3,
   "id": "b4bd6f6e",
   "metadata": {},
   "outputs": [
    {
     "name": "stdout",
     "output_type": "stream",
     "text": [
      "I am making a call\n"
     ]
    }
   ],
   "source": [
    "p1.make_call()"
   ]
  },
  {
   "cell_type": "code",
   "execution_count": 4,
   "id": "349d1485",
   "metadata": {},
   "outputs": [
    {
     "name": "stdout",
     "output_type": "stream",
     "text": [
      "I am playing games\n"
     ]
    }
   ],
   "source": [
    "p1.play_game()"
   ]
  },
  {
   "cell_type": "markdown",
   "id": "0c8eb962",
   "metadata": {},
   "source": [
    "# Adding Multiple Parameters or features of an object"
   ]
  },
  {
   "cell_type": "code",
   "execution_count": 5,
   "id": "3cd70367",
   "metadata": {},
   "outputs": [],
   "source": [
    "class smartphone:\n",
    "    def set_color(self, color):\n",
    "        self.color = color\n",
    "    def set_cost(self, cost):\n",
    "        self.cost = cost\n",
    "    def show_color(self):\n",
    "        return self.color\n",
    "    def show_cost(self):\n",
    "        return self.cost\n",
    "    def make_call(self):\n",
    "        print('You can make a call')\n",
    "    def play_games(self):\n",
    "        print('You can play games')"
   ]
  },
  {
   "cell_type": "code",
   "execution_count": 6,
   "id": "37efd423",
   "metadata": {},
   "outputs": [],
   "source": [
    "samsung = smartphone()"
   ]
  },
  {
   "cell_type": "code",
   "execution_count": 7,
   "id": "72076154",
   "metadata": {},
   "outputs": [],
   "source": [
    "samsung.set_color('Black')"
   ]
  },
  {
   "cell_type": "code",
   "execution_count": 8,
   "id": "8ef38d36",
   "metadata": {},
   "outputs": [],
   "source": [
    "samsung.set_cost(14000)"
   ]
  },
  {
   "cell_type": "code",
   "execution_count": 9,
   "id": "67cc8386",
   "metadata": {},
   "outputs": [
    {
     "data": {
      "text/plain": [
       "'Black'"
      ]
     },
     "execution_count": 9,
     "metadata": {},
     "output_type": "execute_result"
    }
   ],
   "source": [
    "samsung.show_color()"
   ]
  },
  {
   "cell_type": "code",
   "execution_count": 10,
   "id": "589bd3ac",
   "metadata": {},
   "outputs": [
    {
     "data": {
      "text/plain": [
       "14000"
      ]
     },
     "execution_count": 10,
     "metadata": {},
     "output_type": "execute_result"
    }
   ],
   "source": [
    "samsung.show_cost()"
   ]
  },
  {
   "cell_type": "code",
   "execution_count": 11,
   "id": "967182aa",
   "metadata": {},
   "outputs": [
    {
     "name": "stdout",
     "output_type": "stream",
     "text": [
      "You can make a call\n"
     ]
    }
   ],
   "source": [
    "samsung.make_call()"
   ]
  },
  {
   "cell_type": "code",
   "execution_count": 12,
   "id": "02a6a72f",
   "metadata": {},
   "outputs": [
    {
     "name": "stdout",
     "output_type": "stream",
     "text": [
      "You can play games\n"
     ]
    }
   ],
   "source": [
    "samsung.play_games()"
   ]
  },
  {
   "cell_type": "markdown",
   "id": "aa41c3a4",
   "metadata": {},
   "source": [
    "# Adding Multiple parameters or features of an object in a single line using __init__"
   ]
  },
  {
   "cell_type": "code",
   "execution_count": 13,
   "id": "eacedb27",
   "metadata": {},
   "outputs": [],
   "source": [
    "class employee:\n",
    "    def __init__(self, name, age, gender, salary):\n",
    "        self.name = name\n",
    "        self.age = age\n",
    "        self.gender = gender\n",
    "        self.salary = salary\n",
    "    def show_employee_details(self):\n",
    "        print('The name of the employee is',self.name)\n",
    "        print('The age of the employee is',self.age)\n",
    "        print('The gender of the employee is',self.gender)\n",
    "        print('The salary of the employee is',self.salary)"
   ]
  },
  {
   "cell_type": "code",
   "execution_count": 14,
   "id": "42d7e100",
   "metadata": {},
   "outputs": [],
   "source": [
    "e1 = employee('Karn', 32, 'Male', 80000)"
   ]
  },
  {
   "cell_type": "code",
   "execution_count": 15,
   "id": "3f2882c7",
   "metadata": {},
   "outputs": [
    {
     "name": "stdout",
     "output_type": "stream",
     "text": [
      "The name of the employee is Karn\n",
      "The age of the employee is 32\n",
      "The gender of the employee is Male\n",
      "The salary of the employee is 80000\n"
     ]
    }
   ],
   "source": [
    "e1.show_employee_details()"
   ]
  },
  {
   "cell_type": "markdown",
   "id": "baa05e24",
   "metadata": {},
   "source": [
    "# Inheritance"
   ]
  },
  {
   "cell_type": "markdown",
   "id": "45b571dd",
   "metadata": {},
   "source": [
    "# *Single Inheritance: Single parent (super) and child class*"
   ]
  },
  {
   "cell_type": "code",
   "execution_count": 16,
   "id": "64806704",
   "metadata": {},
   "outputs": [],
   "source": [
    "class vehicle:\n",
    "    def __init__(self, mileage, cost):\n",
    "        self.mileage= mileage\n",
    "        self.cost= cost\n",
    "    def show_vehicle_details(self):\n",
    "        print('The mileage of the vehicle is',self.mileage)\n",
    "        print('The cost of the vehicle is',self.cost)"
   ]
  },
  {
   "cell_type": "code",
   "execution_count": 17,
   "id": "252bbcd1",
   "metadata": {},
   "outputs": [],
   "source": [
    "v1 = vehicle(200, 500000)"
   ]
  },
  {
   "cell_type": "code",
   "execution_count": 18,
   "id": "39eae639",
   "metadata": {},
   "outputs": [
    {
     "name": "stdout",
     "output_type": "stream",
     "text": [
      "The mileage of the vehicle is 200\n",
      "The cost of the vehicle is 500000\n"
     ]
    }
   ],
   "source": [
    "v1.show_vehicle_details()"
   ]
  },
  {
   "cell_type": "code",
   "execution_count": 19,
   "id": "c43af012",
   "metadata": {},
   "outputs": [],
   "source": [
    "class car(vehicle):\n",
    "    def show_car_details(self):\n",
    "        print('It is a car')"
   ]
  },
  {
   "cell_type": "code",
   "execution_count": 20,
   "id": "a18643a0",
   "metadata": {},
   "outputs": [],
   "source": [
    "c1 = car(100, 800000)"
   ]
  },
  {
   "cell_type": "code",
   "execution_count": 21,
   "id": "0fbce8d5",
   "metadata": {},
   "outputs": [
    {
     "name": "stdout",
     "output_type": "stream",
     "text": [
      "The mileage of the vehicle is 100\n",
      "The cost of the vehicle is 800000\n"
     ]
    }
   ],
   "source": [
    "c1.show_vehicle_details()"
   ]
  },
  {
   "cell_type": "code",
   "execution_count": 22,
   "id": "324e806e",
   "metadata": {},
   "outputs": [
    {
     "name": "stdout",
     "output_type": "stream",
     "text": [
      "It is a car\n"
     ]
    }
   ],
   "source": [
    "c1.show_car_details()"
   ]
  },
  {
   "cell_type": "markdown",
   "id": "1bf7da06",
   "metadata": {},
   "source": [
    "# Overriding the Super Class"
   ]
  },
  {
   "cell_type": "code",
   "execution_count": 23,
   "id": "7b66d569",
   "metadata": {},
   "outputs": [],
   "source": [
    "class vehicle:\n",
    "    def __init__(self, mileage, cost):\n",
    "        self.mileage= mileage\n",
    "        self.cost= cost\n",
    "    def show_vehicle_details(self):\n",
    "        print('The mileage of the vehicle is',self.mileage)\n",
    "        print('The cost of the vehicle is',self.cost)"
   ]
  },
  {
   "cell_type": "code",
   "execution_count": 24,
   "id": "aaa84e32",
   "metadata": {},
   "outputs": [],
   "source": [
    "class car(vehicle):\n",
    "    def __init__(self, mileage, cost, tyres, hp):\n",
    "        super().__init__(mileage, cost)\n",
    "        self.tyres = tyres\n",
    "        self.hp = hp\n",
    "    def show_car_details(self):\n",
    "        print('Number of tyres in vehicle is',self.tyres)\n",
    "        print('HP of vehicle is',self.hp)"
   ]
  },
  {
   "cell_type": "code",
   "execution_count": 25,
   "id": "7972ccfc",
   "metadata": {},
   "outputs": [],
   "source": [
    "truck = car(100, 4000000, 8, 240)"
   ]
  },
  {
   "cell_type": "code",
   "execution_count": 26,
   "id": "1dabacd9",
   "metadata": {},
   "outputs": [
    {
     "name": "stdout",
     "output_type": "stream",
     "text": [
      "The mileage of the vehicle is 100\n",
      "The cost of the vehicle is 4000000\n"
     ]
    }
   ],
   "source": [
    "truck.show_vehicle_details()"
   ]
  },
  {
   "cell_type": "code",
   "execution_count": 27,
   "id": "699166bf",
   "metadata": {},
   "outputs": [
    {
     "name": "stdout",
     "output_type": "stream",
     "text": [
      "Number of tyres in vehicle is 8\n",
      "HP of vehicle is 240\n"
     ]
    }
   ],
   "source": [
    "truck.show_car_details()"
   ]
  },
  {
   "cell_type": "markdown",
   "id": "0e8be319",
   "metadata": {},
   "source": [
    "# *Multiple Inheritance: Multiple Parents(super) and single child class*"
   ]
  },
  {
   "cell_type": "markdown",
   "id": "17f64482",
   "metadata": {},
   "source": [
    "##### *Example 1:*"
   ]
  },
  {
   "cell_type": "code",
   "execution_count": 28,
   "id": "837fad02",
   "metadata": {},
   "outputs": [],
   "source": [
    "class parent1:\n",
    "    def assign_value_1(self, str1):\n",
    "        self.str1 =str1\n",
    "    def show_value_1(self):\n",
    "        return self.str1"
   ]
  },
  {
   "cell_type": "code",
   "execution_count": 29,
   "id": "d8f8904e",
   "metadata": {},
   "outputs": [],
   "source": [
    "class parent2:\n",
    "    def assign_value_2(self, str2):\n",
    "        self.str2= str2\n",
    "    def show_value_2(self):\n",
    "        return self.str2"
   ]
  },
  {
   "cell_type": "code",
   "execution_count": 30,
   "id": "a56735a2",
   "metadata": {},
   "outputs": [],
   "source": [
    "class child(parent1, parent2):\n",
    "    def assign_value_3(self, str3):\n",
    "        self.str3 = str3\n",
    "    def show_value_3(self):\n",
    "        return self.str3"
   ]
  },
  {
   "cell_type": "code",
   "execution_count": 31,
   "id": "c3dbb26f",
   "metadata": {},
   "outputs": [],
   "source": [
    "my_child = child()"
   ]
  },
  {
   "cell_type": "code",
   "execution_count": 32,
   "id": "df9f9b30",
   "metadata": {},
   "outputs": [],
   "source": [
    "my_child.assign_value_1('I am from parent 1')"
   ]
  },
  {
   "cell_type": "code",
   "execution_count": 33,
   "id": "06c4380d",
   "metadata": {},
   "outputs": [],
   "source": [
    "my_child.assign_value_2('I am from parent 2')"
   ]
  },
  {
   "cell_type": "code",
   "execution_count": 34,
   "id": "d35c17f0",
   "metadata": {},
   "outputs": [],
   "source": [
    "my_child.assign_value_3('I am a child inheriting from my parents 1 and 2')"
   ]
  },
  {
   "cell_type": "code",
   "execution_count": 35,
   "id": "a026eb4a",
   "metadata": {},
   "outputs": [
    {
     "data": {
      "text/plain": [
       "'I am from parent 1'"
      ]
     },
     "execution_count": 35,
     "metadata": {},
     "output_type": "execute_result"
    }
   ],
   "source": [
    "my_child.show_value_1()"
   ]
  },
  {
   "cell_type": "code",
   "execution_count": 36,
   "id": "866e1225",
   "metadata": {},
   "outputs": [
    {
     "data": {
      "text/plain": [
       "'I am from parent 2'"
      ]
     },
     "execution_count": 36,
     "metadata": {},
     "output_type": "execute_result"
    }
   ],
   "source": [
    "my_child.show_value_2()"
   ]
  },
  {
   "cell_type": "code",
   "execution_count": 37,
   "id": "f1e9b298",
   "metadata": {},
   "outputs": [
    {
     "data": {
      "text/plain": [
       "'I am a child inheriting from my parents 1 and 2'"
      ]
     },
     "execution_count": 37,
     "metadata": {},
     "output_type": "execute_result"
    }
   ],
   "source": [
    "my_child.show_value_3()"
   ]
  },
  {
   "cell_type": "markdown",
   "id": "9547f7ec",
   "metadata": {},
   "source": [
    "#### *Example 2:*"
   ]
  },
  {
   "cell_type": "code",
   "execution_count": 38,
   "id": "c84a4382",
   "metadata": {},
   "outputs": [],
   "source": [
    "class Human():\n",
    "    def __init__(self, name, age):\n",
    "        self.name = name\n",
    "        self.age = age\n",
    "        \n",
    "class Dancer():\n",
    "    def __init__(self, style):\n",
    "        self.style = style\n",
    "        \n",
    "class student(Human, Dancer):\n",
    "    def __init__(self, name, age, style):\n",
    "        Human.__init__(self, name, age)\n",
    "        Dancer.__init__(self, style)"
   ]
  },
  {
   "cell_type": "code",
   "execution_count": 39,
   "id": "9131f1d9",
   "metadata": {},
   "outputs": [],
   "source": [
    "s1 = student('Karn', 21, 'Hiphop')"
   ]
  },
  {
   "cell_type": "code",
   "execution_count": 40,
   "id": "dda1cdf4",
   "metadata": {},
   "outputs": [
    {
     "data": {
      "text/plain": [
       "'Hiphop'"
      ]
     },
     "execution_count": 40,
     "metadata": {},
     "output_type": "execute_result"
    }
   ],
   "source": [
    "s1.style"
   ]
  },
  {
   "cell_type": "markdown",
   "id": "72a2be68",
   "metadata": {},
   "source": [
    "# *Mutlilevel Inheritance: Parent, Child and Grand-child class relationship*"
   ]
  },
  {
   "cell_type": "code",
   "execution_count": 41,
   "id": "d2089d94",
   "metadata": {},
   "outputs": [],
   "source": [
    "class parent():\n",
    "    def get_name(self, name):\n",
    "        self.name = name\n",
    "    def show_name(self):\n",
    "        return self.name"
   ]
  },
  {
   "cell_type": "code",
   "execution_count": 42,
   "id": "30f3b582",
   "metadata": {},
   "outputs": [],
   "source": [
    "class child(parent):\n",
    "    def get_age(self, age):\n",
    "        self.age =age\n",
    "    def show_age(self):\n",
    "        return self.age"
   ]
  },
  {
   "cell_type": "code",
   "execution_count": 43,
   "id": "d08af4bb",
   "metadata": {},
   "outputs": [],
   "source": [
    "class grandchild(child):\n",
    "    def get_gender(self, gender):\n",
    "        self.gender = gender\n",
    "    def show_gender(self):\n",
    "        return self.gender"
   ]
  },
  {
   "cell_type": "code",
   "execution_count": 44,
   "id": "cd339de0",
   "metadata": {},
   "outputs": [],
   "source": [
    "gc = grandchild()"
   ]
  },
  {
   "cell_type": "code",
   "execution_count": 45,
   "id": "8bd338d6",
   "metadata": {},
   "outputs": [],
   "source": [
    "gc.get_name('Karn')"
   ]
  },
  {
   "cell_type": "code",
   "execution_count": 46,
   "id": "c4def945",
   "metadata": {},
   "outputs": [],
   "source": [
    "gc.get_age(21)"
   ]
  },
  {
   "cell_type": "code",
   "execution_count": 47,
   "id": "c9499350",
   "metadata": {},
   "outputs": [],
   "source": [
    "gc.get_gender('Male')"
   ]
  },
  {
   "cell_type": "code",
   "execution_count": 48,
   "id": "abde2f16",
   "metadata": {},
   "outputs": [
    {
     "data": {
      "text/plain": [
       "'Karn'"
      ]
     },
     "execution_count": 48,
     "metadata": {},
     "output_type": "execute_result"
    }
   ],
   "source": [
    "gc.show_name()"
   ]
  },
  {
   "cell_type": "code",
   "execution_count": 49,
   "id": "5990f3de",
   "metadata": {},
   "outputs": [
    {
     "data": {
      "text/plain": [
       "21"
      ]
     },
     "execution_count": 49,
     "metadata": {},
     "output_type": "execute_result"
    }
   ],
   "source": [
    "gc.show_age()"
   ]
  },
  {
   "cell_type": "code",
   "execution_count": 50,
   "id": "c1f16f38",
   "metadata": {},
   "outputs": [
    {
     "data": {
      "text/plain": [
       "'Male'"
      ]
     },
     "execution_count": 50,
     "metadata": {},
     "output_type": "execute_result"
    }
   ],
   "source": [
    "gc.show_gender()"
   ]
  },
  {
   "cell_type": "markdown",
   "id": "052163b0",
   "metadata": {},
   "source": [
    "# Practice "
   ]
  },
  {
   "cell_type": "code",
   "execution_count": 51,
   "id": "81eb4a96",
   "metadata": {},
   "outputs": [],
   "source": [
    "# Area of a circle\n",
    "\n",
    "class Circle:\n",
    "    def cal_area(self, radius):\n",
    "        self.radius = radius\n",
    "        print('Radius',radius)\n",
    "        return 3.14*radius**2"
   ]
  },
  {
   "cell_type": "code",
   "execution_count": 52,
   "id": "5d930e10",
   "metadata": {},
   "outputs": [],
   "source": [
    "ob1 = Circle()"
   ]
  },
  {
   "cell_type": "code",
   "execution_count": 53,
   "id": "615d7a86",
   "metadata": {},
   "outputs": [
    {
     "name": "stdout",
     "output_type": "stream",
     "text": [
      "Radius 5\n",
      "The area of circle is 78.5\n"
     ]
    }
   ],
   "source": [
    "print('The area of circle is',ob1.cal_area(5))"
   ]
  },
  {
   "cell_type": "code",
   "execution_count": 54,
   "id": "92152b71",
   "metadata": {},
   "outputs": [],
   "source": [
    "# Rectangle Class\n",
    "\n",
    "class Rectangle():\n",
    "    def __init__(self, length, breadth):\n",
    "        self.length = length\n",
    "        self.breadth = breadth\n",
    "      \n",
    "    def area_rect(self):\n",
    "        print('Length:',self.length)\n",
    "        print('Breadth:',self.breadth)\n",
    "        print('Area of rectangle is', self.length*self.breadth)\n",
    "        \n",
    "    def perimeter(self):\n",
    "        print('Length:',self.length)\n",
    "        print('Breadth:',self.breadth)\n",
    "        print('Perimeter of rectangle is', 2*(self.length+self.breadth))"
   ]
  },
  {
   "cell_type": "code",
   "execution_count": 55,
   "id": "7c0b2740",
   "metadata": {},
   "outputs": [],
   "source": [
    "r1 = Rectangle(10, 8)"
   ]
  },
  {
   "cell_type": "code",
   "execution_count": 56,
   "id": "008c3ca2",
   "metadata": {},
   "outputs": [
    {
     "name": "stdout",
     "output_type": "stream",
     "text": [
      "Length: 10\n",
      "Breadth: 8\n",
      "Area of rectangle is 80\n"
     ]
    }
   ],
   "source": [
    "r1.area_rect()"
   ]
  },
  {
   "cell_type": "code",
   "execution_count": 57,
   "id": "0aa5b4da",
   "metadata": {},
   "outputs": [
    {
     "name": "stdout",
     "output_type": "stream",
     "text": [
      "Length: 10\n",
      "Breadth: 8\n",
      "Perimeter of rectangle is 36\n"
     ]
    }
   ],
   "source": [
    "r1.perimeter()"
   ]
  },
  {
   "cell_type": "code",
   "execution_count": 58,
   "id": "5e96d1ed",
   "metadata": {},
   "outputs": [],
   "source": [
    "# Method Overloading\n",
    "\n",
    "class Demo:\n",
    "    result = 0\n",
    "    def add(self, instanceOf = None, *args):\n",
    "        if instanceOf == 'int':\n",
    "            self.result = 0\n",
    "        if instanceOf == 'str':\n",
    "            self.result = ''\n",
    "        for i in args:\n",
    "            self.result = self.result + i\n",
    "        return self.result"
   ]
  },
  {
   "cell_type": "code",
   "execution_count": 59,
   "id": "b2d95855",
   "metadata": {},
   "outputs": [],
   "source": [
    "D1 = Demo()"
   ]
  },
  {
   "cell_type": "code",
   "execution_count": 60,
   "id": "99630b0b",
   "metadata": {},
   "outputs": [
    {
     "data": {
      "text/plain": [
       "60"
      ]
     },
     "execution_count": 60,
     "metadata": {},
     "output_type": "execute_result"
    }
   ],
   "source": [
    "D1.add('int',10,20,30)"
   ]
  },
  {
   "cell_type": "code",
   "execution_count": 61,
   "id": "f789fb3c",
   "metadata": {},
   "outputs": [
    {
     "data": {
      "text/plain": [
       "'I Love Python Programming'"
      ]
     },
     "execution_count": 61,
     "metadata": {},
     "output_type": "execute_result"
    }
   ],
   "source": [
    "D1.add('str', 'I', ' Love', ' Python', ' Programming')"
   ]
  },
  {
   "cell_type": "markdown",
   "id": "6e5169f4",
   "metadata": {},
   "source": [
    "# Operator Overloading"
   ]
  },
  {
   "cell_type": "code",
   "execution_count": 62,
   "id": "b1ccf29b",
   "metadata": {},
   "outputs": [],
   "source": [
    "class Book():\n",
    "    def __init__(self, price):\n",
    "        self.price = price\n",
    "        \n",
    "    def __add__(self, other):\n",
    "        return self.price + other.price\n",
    "    \n",
    "    def __lt__(self, other):\n",
    "        return self.price<other.price"
   ]
  },
  {
   "cell_type": "code",
   "execution_count": 63,
   "id": "04622830",
   "metadata": {},
   "outputs": [
    {
     "data": {
      "text/plain": [
       "30"
      ]
     },
     "execution_count": 63,
     "metadata": {},
     "output_type": "execute_result"
    }
   ],
   "source": [
    "b1 = Book(10)\n",
    "b2 = Book(20)\n",
    "total_price = b1+b2\n",
    "total_price"
   ]
  },
  {
   "cell_type": "code",
   "execution_count": 64,
   "id": "9e8179ea",
   "metadata": {},
   "outputs": [
    {
     "data": {
      "text/plain": [
       "True"
      ]
     },
     "execution_count": 64,
     "metadata": {},
     "output_type": "execute_result"
    }
   ],
   "source": [
    "compare = b1 < b2\n",
    "compare"
   ]
  },
  {
   "cell_type": "markdown",
   "id": "8748fa2c",
   "metadata": {},
   "source": [
    "# Decorators"
   ]
  },
  {
   "cell_type": "code",
   "execution_count": 65,
   "id": "2fc41cef",
   "metadata": {},
   "outputs": [],
   "source": [
    "def add(func):\n",
    "    def dummy():\n",
    "        print('before')\n",
    "        func()\n",
    "        print('after')\n",
    "    return dummy\n",
    "\n",
    "def operation():\n",
    "    print('hello')"
   ]
  },
  {
   "cell_type": "code",
   "execution_count": 66,
   "id": "7ef84763",
   "metadata": {},
   "outputs": [
    {
     "name": "stdout",
     "output_type": "stream",
     "text": [
      "before\n",
      "hello\n",
      "after\n"
     ]
    }
   ],
   "source": [
    "opt = add(operation)\n",
    "opt()"
   ]
  },
  {
   "cell_type": "code",
   "execution_count": 67,
   "id": "52a584cb",
   "metadata": {},
   "outputs": [
    {
     "name": "stdout",
     "output_type": "stream",
     "text": [
      "hello\n"
     ]
    }
   ],
   "source": [
    "operation()"
   ]
  },
  {
   "cell_type": "code",
   "execution_count": 68,
   "id": "d541a6d3",
   "metadata": {},
   "outputs": [
    {
     "name": "stdout",
     "output_type": "stream",
     "text": [
      "before\n",
      "hello\n",
      "after\n"
     ]
    }
   ],
   "source": [
    "operation = add(operation)\n",
    "operation()"
   ]
  },
  {
   "cell_type": "code",
   "execution_count": null,
   "id": "f4e1284e",
   "metadata": {},
   "outputs": [],
   "source": []
  }
 ],
 "metadata": {
  "kernelspec": {
   "display_name": "Python 3",
   "language": "python",
   "name": "python3"
  },
  "language_info": {
   "codemirror_mode": {
    "name": "ipython",
    "version": 3
   },
   "file_extension": ".py",
   "mimetype": "text/x-python",
   "name": "python",
   "nbconvert_exporter": "python",
   "pygments_lexer": "ipython3",
   "version": "3.8.8"
  }
 },
 "nbformat": 4,
 "nbformat_minor": 5
}
