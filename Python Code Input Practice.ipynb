{
 "cells": [
  {
   "cell_type": "code",
   "execution_count": 1,
   "id": "f8769ce9",
   "metadata": {},
   "outputs": [
    {
     "name": "stdout",
     "output_type": "stream",
     "text": [
      "Enter a number:4\n",
      "The square of 4 is 16\n"
     ]
    }
   ],
   "source": [
    "a= int(input('Enter a number:', ))\n",
    "X = a**2 \n",
    "print('The square of', a, 'is', X)"
   ]
  },
  {
   "cell_type": "code",
   "execution_count": 2,
   "id": "cceb62cd",
   "metadata": {},
   "outputs": [
    {
     "name": "stdout",
     "output_type": "stream",
     "text": [
      "Enter the value of base:4\n",
      "Enter the value of height6\n",
      "Base: 4 cm\n",
      "Height: 6 cm\n",
      "Hypetenuse: 7.211102550927978 cm\n"
     ]
    }
   ],
   "source": [
    "import numpy as np\n",
    "base = int(input('Enter the value of base:', ))\n",
    "height = int(input('Enter the value of height', ))\n",
    "hyp = float(np.sqrt(base**2 + height**2))\n",
    "print('Base:', base, 'cm')\n",
    "print('Height:', height, 'cm')\n",
    "print('Hypetenuse:', hyp, 'cm')"
   ]
  },
  {
   "cell_type": "code",
   "execution_count": 3,
   "id": "ecaf9787",
   "metadata": {},
   "outputs": [
    {
     "name": "stdout",
     "output_type": "stream",
     "text": [
      "Letter \t ASCII Value\n",
      "A \t 65\n",
      "Z \t 90\n",
      "Difference between the ASCII code = 65 - 90 = -25\n"
     ]
    }
   ],
   "source": [
    "chr1 ='A'\n",
    "chr2 = 'Z'\n",
    "print('Letter \\t ASCII Value')\n",
    "print(chr1,'\\t',ord(chr1))\n",
    "print(chr2,'\\t',ord(chr2))\n",
    "print('Difference between the ASCII code =', end=' ')\n",
    "print(ord(chr1),'-',ord(chr2),'=', end=' ')\n",
    "print(ord(chr1)-ord(chr2))"
   ]
  },
  {
   "cell_type": "code",
   "execution_count": 4,
   "id": "aa7e84f1",
   "metadata": {},
   "outputs": [
    {
     "name": "stdout",
     "output_type": "stream",
     "text": [
      "Enter a four-digit number: 5642\n",
      "Entered Number: 5642\n",
      "The reversed number is 2 4 6 5\n"
     ]
    }
   ],
   "source": [
    "num =eval(input('Enter a four-digit number: '))\n",
    "print('Entered Number:',num)\n",
    "r1 = num%10\n",
    "q1 = num//10\n",
    "r2 = q1%10\n",
    "q2 = q1//10\n",
    "r3 = q2%10\n",
    "r4 = q2//10\n",
    "print('The reversed number is',r1,r2,r3,r4)"
   ]
  },
  {
   "cell_type": "code",
   "execution_count": 5,
   "id": "37297cde",
   "metadata": {},
   "outputs": [
    {
     "name": "stdout",
     "output_type": "stream",
     "text": [
      "Enter the X coordinate of Point 1: 6\n",
      "Enter the Y coordinate of Point 1: 5\n",
      "Point1: ( 6 , 5 )\n",
      "Enter the X coordinate of Point 2: 7\n",
      "Enter the Y coordinate of Point 2: 3\n",
      "Point2: ( 7 , 3 )\n",
      "Distance between Point 1 and Point 2 is 2.23606797749979\n"
     ]
    }
   ],
   "source": [
    "X1 = int(input('Enter the X coordinate of Point 1: '))\n",
    "Y1 = int(input('Enter the Y coordinate of Point 1: '))\n",
    "print('Point1:','(',X1,',',Y1,')')\n",
    "X2= int(input('Enter the X coordinate of Point 2: '))\n",
    "Y2= int(input('Enter the Y coordinate of Point 2: '))\n",
    "print('Point2:','(',X2,',',Y2,')')\n",
    "d = np.sqrt((X1-X2)**2+(Y1-Y2)**2)\n",
    "print('Distance between Point 1 and Point 2 is',d)"
   ]
  },
  {
   "cell_type": "code",
   "execution_count": 6,
   "id": "756c4a0c",
   "metadata": {},
   "outputs": [
    {
     "name": "stdout",
     "output_type": "stream",
     "text": [
      " X \t Y \t X**Y\n",
      "10 \t 2 \t 100\n",
      "10 \t 3 \t 1000\n",
      "10 \t 4 \t 10000\n",
      "10 \t 5 \t 100000\n"
     ]
    }
   ],
   "source": [
    "print(' X \\t Y \\t X**Y')\n",
    "print('10 \\t 2 \\t',10**2)\n",
    "print('10 \\t 3 \\t',10**3)\n",
    "print('10 \\t 4 \\t',10**4)\n",
    "print('10 \\t 5 \\t',10**5)"
   ]
  },
  {
   "cell_type": "code",
   "execution_count": 7,
   "id": "2016012e",
   "metadata": {},
   "outputs": [
    {
     "name": "stdout",
     "output_type": "stream",
     "text": [
      "Enter the Cost Price of the Product: 7000\n",
      "Enter the tax % imposed by Centre i.e. CGST: 8\n",
      "Enter the tax % imposed by State i.e. SGST: 7\n",
      "Total Cost of the Product is:  8050.0\n"
     ]
    }
   ],
   "source": [
    "cp = int(input('Enter the Cost Price of the Product: '))\n",
    "cgst= float(input('Enter the tax % imposed by Centre i.e. CGST: '))\n",
    "sgst= float(input('Enter the tax % imposed by State i.e. SGST: '))\n",
    "acgst = (cgst/100)*cp\n",
    "asgst = (sgst/100)*cp\n",
    "total = cp + acgst + asgst\n",
    "print('Total Cost of the Product is: ',total)"
   ]
  },
  {
   "cell_type": "code",
   "execution_count": 8,
   "id": "269b1dff",
   "metadata": {},
   "outputs": [
    {
     "name": "stdout",
     "output_type": "stream",
     "text": [
      "Enter sales for the month: 170000\n",
      "Salary Receipt of the Employee\n",
      "Basic:  4000\n",
      "HRA:  800.0\n",
      "DA:  4400.0\n",
      "Conveyance:  500\n",
      "Incentive:  17000.0\n",
      "Bonus:  1000\n",
      "Gross Salary:  27700.0\n"
     ]
    }
   ],
   "source": [
    "sales = int(input('Enter sales for the month: '))\n",
    "if sales>=100000:\n",
    "    basic = 4000\n",
    "    HRA = (20/100)*basic\n",
    "    da = (110/100)*basic\n",
    "    conv = 500\n",
    "    incentive = (10/100)*sales\n",
    "    bonus = 1000\n",
    "else:\n",
    "    basic = 4000\n",
    "    HRA = (10/100)*basic\n",
    "    da = (110/100)*basic\n",
    "    conv = 500\n",
    "    incentive = (4/100)*sales\n",
    "    bonus = 500\n",
    "salary = basic + HRA+da+conv+incentive+bonus\n",
    "print('Salary Receipt of the Employee')\n",
    "print('Basic: ',basic)\n",
    "print('HRA: ', HRA)\n",
    "print('DA: ', da)\n",
    "print('Conveyance: ',conv)\n",
    "print('Incentive: ',incentive)\n",
    "print('Bonus: ',bonus)\n",
    "print('Gross Salary: ',salary)"
   ]
  },
  {
   "cell_type": "code",
   "execution_count": 9,
   "id": "26a82b66",
   "metadata": {},
   "outputs": [
    {
     "name": "stdout",
     "output_type": "stream",
     "text": [
      "Enter a number: 54\n",
      "54 is neither divisible by 5 nor 10\n"
     ]
    }
   ],
   "source": [
    "num = int(input('Enter a number: '))\n",
    "if num % 5 == 0 and num%10 ==0:\n",
    "    print(num,'is divisible by number 5 and 10')\n",
    "elif num%5==0 and num%10!=0:\n",
    "    print(num,'is only divisible by number 5')\n",
    "else:\n",
    "    print(num,'is neither divisible by 5 nor 10')\n",
    "\n",
    "\n"
   ]
  },
  {
   "cell_type": "code",
   "execution_count": 10,
   "id": "66f6f80f",
   "metadata": {},
   "outputs": [
    {
     "name": "stdout",
     "output_type": "stream",
     "text": [
      "Enter the first number: 4765\n",
      "Enter the second number: 95\n",
      "Enter your choice:\n",
      "1 for Addition\n",
      "2 for Subtraction\n",
      "3 for Multiplication\n",
      "4 for Division\n",
      "Enter your Choice: 3\n",
      "Multiplication of 4765.0 and 95.0 is 452675.0\n"
     ]
    }
   ],
   "source": [
    "num1 = float(input('Enter the first number: '))\n",
    "num2 = float(input('Enter the second number: '))\n",
    "print('Enter your choice:')\n",
    "print('1 for Addition')\n",
    "print('2 for Subtraction')\n",
    "print('3 for Multiplication')\n",
    "print('4 for Division')\n",
    "c = int(input('Enter your Choice: '))\n",
    "if c == 1:\n",
    "    print('Addition of',num1,'and',num2,'is',num1+num2)\n",
    "elif c == 2:\n",
    "    print('Subtraction of',num1,'and',num2,'is',num1-num2)\n",
    "elif c==3:\n",
    "    print('Multiplication of', num1,'and',num2,'is',num1*num2)\n",
    "elif c==4:\n",
    "    print('Division of',num1,'and',num2,'is',num1/num2)\n",
    "else:\n",
    "    print('Sorry!! Wrong Input')"
   ]
  },
  {
   "cell_type": "code",
   "execution_count": null,
   "id": "58af07f9",
   "metadata": {},
   "outputs": [],
   "source": []
  }
 ],
 "metadata": {
  "kernelspec": {
   "display_name": "Python 3",
   "language": "python",
   "name": "python3"
  },
  "language_info": {
   "codemirror_mode": {
    "name": "ipython",
    "version": 3
   },
   "file_extension": ".py",
   "mimetype": "text/x-python",
   "name": "python",
   "nbconvert_exporter": "python",
   "pygments_lexer": "ipython3",
   "version": "3.8.8"
  }
 },
 "nbformat": 4,
 "nbformat_minor": 5
}
