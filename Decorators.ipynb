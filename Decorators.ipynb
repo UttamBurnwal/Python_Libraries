{
 "cells": [
  {
   "cell_type": "markdown",
   "id": "25c45309",
   "metadata": {},
   "source": [
    "# First Class Function"
   ]
  },
  {
   "cell_type": "code",
   "execution_count": 11,
   "id": "7f7565d0",
   "metadata": {},
   "outputs": [],
   "source": [
    "def my_map(func, arg_list):\n",
    "    result = []\n",
    "    for i in arg_list:\n",
    "        result.append(func(i))\n",
    "    return result"
   ]
  },
  {
   "cell_type": "code",
   "execution_count": 12,
   "id": "d0483bbe",
   "metadata": {},
   "outputs": [],
   "source": [
    "def square(x):\n",
    "    return x*x"
   ]
  },
  {
   "cell_type": "code",
   "execution_count": 13,
   "id": "75607895",
   "metadata": {},
   "outputs": [],
   "source": [
    "squares = my_map(square, [1,2,3,4,5])"
   ]
  },
  {
   "cell_type": "code",
   "execution_count": 14,
   "id": "981b80f0",
   "metadata": {},
   "outputs": [
    {
     "data": {
      "text/plain": [
       "[1, 4, 9, 16, 25]"
      ]
     },
     "execution_count": 14,
     "metadata": {},
     "output_type": "execute_result"
    }
   ],
   "source": [
    "squares"
   ]
  },
  {
   "cell_type": "code",
   "execution_count": 15,
   "id": "34c0aaec",
   "metadata": {},
   "outputs": [],
   "source": [
    "def cube(x):\n",
    "    return x*x*x"
   ]
  },
  {
   "cell_type": "code",
   "execution_count": 16,
   "id": "dbce5c0e",
   "metadata": {},
   "outputs": [
    {
     "data": {
      "text/plain": [
       "[1, 8, 27, 64, 125]"
      ]
     },
     "execution_count": 16,
     "metadata": {},
     "output_type": "execute_result"
    }
   ],
   "source": [
    "numbers = [1,2,3,4,5]\n",
    "cubes = my_map(cube, numbers)\n",
    "cubes"
   ]
  },
  {
   "cell_type": "markdown",
   "id": "098edd77",
   "metadata": {},
   "source": [
    "# ********************************************************************"
   ]
  },
  {
   "cell_type": "code",
   "execution_count": 17,
   "id": "6da93724",
   "metadata": {},
   "outputs": [],
   "source": [
    "def logger(msg):\n",
    "    def log_message():\n",
    "        print('log:',msg)\n",
    "    return log_message"
   ]
  },
  {
   "cell_type": "code",
   "execution_count": 19,
   "id": "ae24abc5",
   "metadata": {},
   "outputs": [
    {
     "name": "stdout",
     "output_type": "stream",
     "text": [
      "log: hi\n"
     ]
    }
   ],
   "source": [
    "log = logger('hi')\n",
    "log()"
   ]
  },
  {
   "cell_type": "code",
   "execution_count": 26,
   "id": "3e9d3def",
   "metadata": {},
   "outputs": [],
   "source": [
    "def html_tag(tag):\n",
    "    def wrap_text(msg):\n",
    "        print('<{0}>{1}</{0}>'.format(tag, msg))\n",
    "    return wrap_text "
   ]
  },
  {
   "cell_type": "code",
   "execution_count": 27,
   "id": "14f2930c",
   "metadata": {},
   "outputs": [
    {
     "name": "stdout",
     "output_type": "stream",
     "text": [
      "<h1>Text is wrapped here</h1>\n"
     ]
    }
   ],
   "source": [
    "pr1 = html_tag('h1')\n",
    "pr1('Text is wrapped here')"
   ]
  },
  {
   "cell_type": "markdown",
   "id": "623bd3b0",
   "metadata": {},
   "source": [
    "# ****************************************************"
   ]
  },
  {
   "cell_type": "code",
   "execution_count": 28,
   "id": "9845e895",
   "metadata": {},
   "outputs": [],
   "source": [
    "def logger(func):\n",
    "    def log_func(*args):\n",
    "        print(func(*args))\n",
    "    return log_func\n",
    "\n",
    "def add(x, y):\n",
    "    return x+y\n",
    "\n",
    "def sub(x, y):\n",
    "    return x - y"
   ]
  },
  {
   "cell_type": "code",
   "execution_count": 31,
   "id": "e8071f98",
   "metadata": {},
   "outputs": [
    {
     "name": "stdout",
     "output_type": "stream",
     "text": [
      "10\n"
     ]
    }
   ],
   "source": [
    "log1 = logger(add)\n",
    "log1(3, 7)"
   ]
  },
  {
   "cell_type": "code",
   "execution_count": 32,
   "id": "7a8fc1e6",
   "metadata": {},
   "outputs": [
    {
     "name": "stdout",
     "output_type": "stream",
     "text": [
      "7\n"
     ]
    }
   ],
   "source": [
    "log2 = logger(sub)\n",
    "log2(10, 3)"
   ]
  },
  {
   "cell_type": "code",
   "execution_count": null,
   "id": "c2cb86c2",
   "metadata": {},
   "outputs": [],
   "source": []
  }
 ],
 "metadata": {
  "kernelspec": {
   "display_name": "Python 3",
   "language": "python",
   "name": "python3"
  },
  "language_info": {
   "codemirror_mode": {
    "name": "ipython",
    "version": 3
   },
   "file_extension": ".py",
   "mimetype": "text/x-python",
   "name": "python",
   "nbconvert_exporter": "python",
   "pygments_lexer": "ipython3",
   "version": "3.8.8"
  }
 },
 "nbformat": 4,
 "nbformat_minor": 5
}
