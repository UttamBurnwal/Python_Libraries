{
 "cells": [
  {
   "cell_type": "markdown",
   "id": "b2985ce0",
   "metadata": {},
   "source": [
    "# While Loop"
   ]
  },
  {
   "cell_type": "code",
   "execution_count": 6,
   "id": "b77a23f8",
   "metadata": {},
   "outputs": [
    {
     "name": "stdout",
     "output_type": "stream",
     "text": [
      "Count = 0\n",
      "Count = 1\n",
      "Count = 2\n",
      "Count = 3\n",
      "Count = 4\n",
      "Count = 5\n"
     ]
    }
   ],
   "source": [
    "count = 0\n",
    "while count <=5:\n",
    "    print('Count =', count)\n",
    "    count = count+1"
   ]
  },
  {
   "cell_type": "code",
   "execution_count": 7,
   "id": "82280bbb",
   "metadata": {},
   "outputs": [
    {
     "name": "stdout",
     "output_type": "stream",
     "text": [
      "Enter a number:6\n",
      "Sum of 10 consequetive number of is: 105\n"
     ]
    }
   ],
   "source": [
    "# Program to add 10 consequetive numbers\n",
    "count = int(input('Enter a number:'))\n",
    "d= count+9\n",
    "s = 0\n",
    "while count <=d:\n",
    "    s=s+count\n",
    "    count=count+1\n",
    "print('Sum of 10 consequetive number of is:',s)"
   ]
  },
  {
   "cell_type": "code",
   "execution_count": 8,
   "id": "bbb6ef26",
   "metadata": {},
   "outputs": [
    {
     "name": "stdout",
     "output_type": "stream",
     "text": [
      "Enter a number:5645\n",
      "The reverse of the number 5645 is 5465\n"
     ]
    }
   ],
   "source": [
    "# Reversing any number\n",
    "num = int(input('Enter a number:'))\n",
    "x = num\n",
    "rev = 0\n",
    "while num>0:\n",
    "    rem = num%10\n",
    "    num = num//10\n",
    "    rev = rev*10+rem\n",
    "print('The reverse of the number',x,'is',rev)"
   ]
  },
  {
   "cell_type": "code",
   "execution_count": 9,
   "id": "9a5c3fb2",
   "metadata": {},
   "outputs": [
    {
     "name": "stdout",
     "output_type": "stream",
     "text": [
      "Enter a number:23\n",
      "The sum of number divisible by 5 and 10 in 23 is 50\n"
     ]
    }
   ],
   "source": [
    "count = int(input('Enter a number:'))\n",
    "d = count\n",
    "n = 1\n",
    "s =0\n",
    "while n<=count:\n",
    "    if n%5==0:\n",
    "        s = s+n\n",
    "    n=n+1\n",
    "print('The sum of number divisible by 5 and 10 in',d,'is',s)"
   ]
  },
  {
   "cell_type": "code",
   "execution_count": 10,
   "id": "cd43dc74",
   "metadata": {},
   "outputs": [
    {
     "name": "stdout",
     "output_type": "stream",
     "text": [
      "Enter a number:7\n",
      "The factorial of number 7 is 5040\n"
     ]
    }
   ],
   "source": [
    "# Finding the factorial of a number\n",
    "count = int(input('Enter a number:'))\n",
    "if count >=0:\n",
    "    d=count\n",
    "    n =1\n",
    "    ans =1\n",
    "    while n<=count:\n",
    "        ans = ans*n\n",
    "        n = n+1\n",
    "    print('The factorial of number',d,'is',ans)\n",
    "else:\n",
    "    print('Error!!! Enter a positive number')"
   ]
  },
  {
   "cell_type": "code",
   "execution_count": 11,
   "id": "68caffb7",
   "metadata": {},
   "outputs": [
    {
     "name": "stdout",
     "output_type": "stream",
     "text": [
      "Enter a number:153\n",
      "The number 153 is an Armstrong number\n"
     ]
    }
   ],
   "source": [
    "# Finding out whether the given number is Armstrong number or not: abc = a*3 + b*3 + c*3\n",
    "num = int(input('Enter a number:'))\n",
    "out = 0\n",
    "x = num\n",
    "\n",
    "while num>0:\n",
    "    d = num%10\n",
    "    num = num//10\n",
    "    out = out +(d*d*d)\n",
    "if x == out:\n",
    "    print('The number',x,'is an Armstrong number')\n",
    "else:\n",
    "    print('The number',x,'is not an Armstrong number')"
   ]
  },
  {
   "cell_type": "code",
   "execution_count": 12,
   "id": "de2cb129",
   "metadata": {},
   "outputs": [
    {
     "name": "stdout",
     "output_type": "stream",
     "text": [
      "Enter a number: 7\n",
      "Square of number 7 is 49\n",
      "Square of number 8 is 64\n",
      "Square of number 9 is 81\n",
      "Square of number 10 is 100\n",
      "Square of number 11 is 121\n"
     ]
    }
   ],
   "source": [
    "# Printing square of next five numbers\n",
    "c = int(input('Enter a number: '))\n",
    "d = c+4\n",
    "\n",
    "while c<=d:\n",
    "    s = c*c\n",
    "    print('Square of number',c,'is',s)\n",
    "    c=c+1\n",
    "    "
   ]
  },
  {
   "cell_type": "markdown",
   "id": "30e89fcb",
   "metadata": {},
   "source": [
    "# For Loop"
   ]
  },
  {
   "cell_type": "code",
   "execution_count": 13,
   "id": "70e69cc6",
   "metadata": {},
   "outputs": [
    {
     "name": "stdout",
     "output_type": "stream",
     "text": [
      "A B C D E F G H I J K L M N O P Q R S T U V W X Y Z "
     ]
    }
   ],
   "source": [
    "# Printing capital letters A to Z\n",
    "for i in range(65,91):\n",
    "    print(chr(i), end=' ')"
   ]
  },
  {
   "cell_type": "code",
   "execution_count": 14,
   "id": "efb5dcbd",
   "metadata": {},
   "outputs": [
    {
     "name": "stdout",
     "output_type": "stream",
     "text": [
      "10 9 8 7 6 5 4 3 2 1 "
     ]
    }
   ],
   "source": [
    "# Printing 1 to 10 in reverse order\n",
    "for i in range(10,0,-1):\n",
    "    print(i, end=' ')"
   ]
  },
  {
   "cell_type": "code",
   "execution_count": 15,
   "id": "29e97aac",
   "metadata": {},
   "outputs": [
    {
     "name": "stdout",
     "output_type": "stream",
     "text": [
      "Enter a number: 7\n",
      "Square of 7 is 49\n",
      "Square of 8 is 64\n",
      "Square of 9 is 81\n",
      "Square of 10 is 100\n",
      "Square of 11 is 121\n"
     ]
    }
   ],
   "source": [
    "# Printing square of next five numbers\n",
    "count = int(input('Enter a number: '))\n",
    "for i in range(count, count+5):\n",
    "    sq = i*i\n",
    "    print('Square of',i,'is',sq)"
   ]
  },
  {
   "cell_type": "code",
   "execution_count": 16,
   "id": "19c0a3bf",
   "metadata": {},
   "outputs": [
    {
     "name": "stdout",
     "output_type": "stream",
     "text": [
      "Enter a number:6\n",
      "0\n",
      "2\n",
      "4\n",
      "6\n",
      "Sum of the even numbers are: 12\n"
     ]
    }
   ],
   "source": [
    "# Find the even number from 0 to number and also find the sum of it\n",
    "count=int(input('Enter a number:'))\n",
    "sum=0\n",
    "for i in range(0,count+1):\n",
    "    if i%2==0:\n",
    "        print(i)\n",
    "        sum=sum+i\n",
    "print('Sum of the even numbers are:',sum)"
   ]
  },
  {
   "cell_type": "code",
   "execution_count": 17,
   "id": "ba99b541",
   "metadata": {},
   "outputs": [
    {
     "name": "stdout",
     "output_type": "stream",
     "text": [
      "Enter a number:7\n",
      "1\n",
      "Sum of the numbers are 1\n"
     ]
    }
   ],
   "source": [
    "# Find the number who are not divisible by 2, 3 or 5 and also find the sum of those numbers\n",
    "count = int(input('Enter a number:'))\n",
    "sum = 0\n",
    "for i in range(0,count):\n",
    "    if i%2==0 or i%3==0 or i%5==0:\n",
    "        continue\n",
    "    else:\n",
    "        print(i)\n",
    "        sum=sum+i\n",
    "print('Sum of the numbers are',sum)"
   ]
  },
  {
   "cell_type": "code",
   "execution_count": 18,
   "id": "1ca4c013",
   "metadata": {},
   "outputs": [
    {
     "name": "stdout",
     "output_type": "stream",
     "text": [
      "Enter the first number: 6\n",
      "Enter the second number: 8\n",
      "Enter the third number: 9\n",
      "Enter the fourth number: 2\n",
      "The smaller number is 2\n"
     ]
    }
   ],
   "source": [
    "# Find the smallest number\n",
    "num1 = int(input('Enter the first number: '))\n",
    "num2 = int(input('Enter the second number: '))\n",
    "num3 = int(input('Enter the third number: '))\n",
    "num4 = int(input('Enter the fourth number: '))\n",
    "sum = num1+num2+num3+num4\n",
    "for i in range(sum,-100, -1):\n",
    "    if i ==num1 or i == num2 or i==num3 or i ==num4:\n",
    "        l=i\n",
    "print('The smaller number is',l)\n"
   ]
  },
  {
   "cell_type": "code",
   "execution_count": 19,
   "id": "4745ff47",
   "metadata": {},
   "outputs": [
    {
     "name": "stdout",
     "output_type": "stream",
     "text": [
      "Enter the first number: 5\n",
      "Enter the second number: 6\n",
      "Enter the third number: 5\n",
      "6 is greater\n"
     ]
    }
   ],
   "source": [
    "# Which one is greater!!\n",
    "num1 = int(input('Enter the first number: '))\n",
    "num2 = int(input('Enter the second number: '))\n",
    "num3 = int(input('Enter the third number: '))\n",
    "if num1>=num2 and num1>=num3:\n",
    "        print(num1, 'is greater')\n",
    "elif num2>=num1 and num2>=num3:\n",
    "        print(num2,'is greater')\n",
    "else:\n",
    "    print(num3,'is greater')\n"
   ]
  },
  {
   "cell_type": "code",
   "execution_count": 21,
   "id": "4da4a608",
   "metadata": {},
   "outputs": [
    {
     "name": "stdout",
     "output_type": "stream",
     "text": [
      "Enter a number: 10\n",
      "0 1 1 2 3 5 8 13 21 34 "
     ]
    }
   ],
   "source": [
    "# Printing a Fibanacci series\n",
    "n=int(input('Enter a number: '))\n",
    "a=0\n",
    "b=1\n",
    "print(a,end=\" \")\n",
    "print(b,end=\" \")\n",
    "for i in range(1,n-1):\n",
    "    sum=a+b\n",
    "    print(sum,end=\" \")\n",
    "    a=b\n",
    "    b=sum"
   ]
  },
  {
   "cell_type": "code",
   "execution_count": 26,
   "id": "95fd2309",
   "metadata": {},
   "outputs": [
    {
     "name": "stdout",
     "output_type": "stream",
     "text": [
      "Enter a number: 11\n",
      "   1    2    3    4    5    6    7    8    9   10   11 \n",
      "   2    4    6    8   10   12   14   16   18   20   22 \n",
      "   3    6    9   12   15   18   21   24   27   30   33 \n",
      "   4    8   12   16   20   24   28   32   36   40   44 \n",
      "   5   10   15   20   25   30   35   40   45   50   55 \n",
      "   6   12   18   24   30   36   42   48   54   60   66 \n",
      "   7   14   21   28   35   42   49   56   63   70   77 \n",
      "   8   16   24   32   40   48   56   64   72   80   88 \n",
      "   9   18   27   36   45   54   63   72   81   90   99 \n",
      "  10   20   30   40   50   60   70   80   90  100  110 \n"
     ]
    }
   ],
   "source": [
    "# Print the n tables\n",
    "n = int(input('Enter a number: '))\n",
    "for i in range(1,11):\n",
    "    for j in range(1,n+1):\n",
    "        print(format(i*j, '4d'),end=\" \")\n",
    "    print()"
   ]
  },
  {
   "cell_type": "code",
   "execution_count": null,
   "id": "8aaed4b1",
   "metadata": {},
   "outputs": [],
   "source": []
  }
 ],
 "metadata": {
  "kernelspec": {
   "display_name": "Python 3 (ipykernel)",
   "language": "python",
   "name": "python3"
  },
  "language_info": {
   "codemirror_mode": {
    "name": "ipython",
    "version": 3
   },
   "file_extension": ".py",
   "mimetype": "text/x-python",
   "name": "python",
   "nbconvert_exporter": "python",
   "pygments_lexer": "ipython3",
   "version": "3.8.12"
  }
 },
 "nbformat": 4,
 "nbformat_minor": 5
}
