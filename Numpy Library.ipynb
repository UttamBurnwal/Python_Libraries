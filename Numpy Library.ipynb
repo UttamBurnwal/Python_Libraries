{
 "cells": [
  {
   "cell_type": "code",
   "execution_count": 2,
   "id": "14627ce4",
   "metadata": {},
   "outputs": [],
   "source": [
    "import numpy as np"
   ]
  },
  {
   "cell_type": "code",
   "execution_count": 2,
   "id": "94138497",
   "metadata": {},
   "outputs": [],
   "source": [
    "n1 = np.array([10, 20, 30 ,40])"
   ]
  },
  {
   "cell_type": "code",
   "execution_count": 3,
   "id": "e9d617a8",
   "metadata": {},
   "outputs": [],
   "source": [
    "n2 = np.array([[10, 20, 30, 40], [50, 60, 70, 80]])"
   ]
  },
  {
   "cell_type": "code",
   "execution_count": 4,
   "id": "d09e975e",
   "metadata": {},
   "outputs": [
    {
     "data": {
      "text/plain": [
       "array([10, 20, 30, 40])"
      ]
     },
     "execution_count": 4,
     "metadata": {},
     "output_type": "execute_result"
    }
   ],
   "source": [
    "n1"
   ]
  },
  {
   "cell_type": "code",
   "execution_count": 5,
   "id": "72b6e48e",
   "metadata": {},
   "outputs": [
    {
     "data": {
      "text/plain": [
       "array([[10, 20, 30, 40],\n",
       "       [50, 60, 70, 80]])"
      ]
     },
     "execution_count": 5,
     "metadata": {},
     "output_type": "execute_result"
    }
   ],
   "source": [
    "n2"
   ]
  },
  {
   "cell_type": "code",
   "execution_count": 6,
   "id": "e6f2534a",
   "metadata": {},
   "outputs": [
    {
     "data": {
      "text/plain": [
       "numpy.ndarray"
      ]
     },
     "execution_count": 6,
     "metadata": {},
     "output_type": "execute_result"
    }
   ],
   "source": [
    "type(n1)"
   ]
  },
  {
   "cell_type": "code",
   "execution_count": 7,
   "id": "8e9bedd2",
   "metadata": {},
   "outputs": [
    {
     "data": {
      "text/plain": [
       "numpy.ndarray"
      ]
     },
     "execution_count": 7,
     "metadata": {},
     "output_type": "execute_result"
    }
   ],
   "source": [
    "type(n2)"
   ]
  },
  {
   "cell_type": "code",
   "execution_count": 8,
   "id": "faa958c4",
   "metadata": {},
   "outputs": [],
   "source": [
    "n3 = np.zeros((1, 2), dtype = int)"
   ]
  },
  {
   "cell_type": "code",
   "execution_count": 9,
   "id": "fd75d73c",
   "metadata": {},
   "outputs": [
    {
     "data": {
      "text/plain": [
       "array([[0, 0]])"
      ]
     },
     "execution_count": 9,
     "metadata": {},
     "output_type": "execute_result"
    }
   ],
   "source": [
    "n3"
   ]
  },
  {
   "cell_type": "code",
   "execution_count": 10,
   "id": "450e520e",
   "metadata": {},
   "outputs": [],
   "source": [
    "n4 = np.full((2,3), 3)"
   ]
  },
  {
   "cell_type": "code",
   "execution_count": 11,
   "id": "5815f971",
   "metadata": {},
   "outputs": [
    {
     "data": {
      "text/plain": [
       "array([[3, 3, 3],\n",
       "       [3, 3, 3]])"
      ]
     },
     "execution_count": 11,
     "metadata": {},
     "output_type": "execute_result"
    }
   ],
   "source": [
    "n4"
   ]
  },
  {
   "cell_type": "code",
   "execution_count": 12,
   "id": "eb30448d",
   "metadata": {},
   "outputs": [
    {
     "data": {
      "text/plain": [
       "(2, 3)"
      ]
     },
     "execution_count": 12,
     "metadata": {},
     "output_type": "execute_result"
    }
   ],
   "source": [
    "n4.shape"
   ]
  },
  {
   "cell_type": "code",
   "execution_count": 13,
   "id": "f68dfc0d",
   "metadata": {},
   "outputs": [
    {
     "data": {
      "text/plain": [
       "array([[3, 3],\n",
       "       [3, 3],\n",
       "       [3, 3]])"
      ]
     },
     "execution_count": 13,
     "metadata": {},
     "output_type": "execute_result"
    }
   ],
   "source": [
    "n4.shape = (3,2)\n",
    "n4"
   ]
  },
  {
   "cell_type": "code",
   "execution_count": 14,
   "id": "f5c7068e",
   "metadata": {},
   "outputs": [
    {
     "data": {
      "text/plain": [
       "(2, 4)"
      ]
     },
     "execution_count": 14,
     "metadata": {},
     "output_type": "execute_result"
    }
   ],
   "source": [
    "n2.shape"
   ]
  },
  {
   "cell_type": "code",
   "execution_count": 15,
   "id": "04af1be9",
   "metadata": {},
   "outputs": [
    {
     "data": {
      "text/plain": [
       "array([[10, 20, 30, 40],\n",
       "       [50, 60, 70, 80]])"
      ]
     },
     "execution_count": 15,
     "metadata": {},
     "output_type": "execute_result"
    }
   ],
   "source": [
    "n2"
   ]
  },
  {
   "cell_type": "code",
   "execution_count": 16,
   "id": "c14dcbb8",
   "metadata": {},
   "outputs": [],
   "source": [
    "n2.shape = (4,2)"
   ]
  },
  {
   "cell_type": "code",
   "execution_count": 17,
   "id": "a917cf0c",
   "metadata": {},
   "outputs": [
    {
     "data": {
      "text/plain": [
       "array([[10, 20],\n",
       "       [30, 40],\n",
       "       [50, 60],\n",
       "       [70, 80]])"
      ]
     },
     "execution_count": 17,
     "metadata": {},
     "output_type": "execute_result"
    }
   ],
   "source": [
    "n2"
   ]
  },
  {
   "cell_type": "markdown",
   "id": "85a4f8da",
   "metadata": {},
   "source": [
    "### Stacking of arrays"
   ]
  },
  {
   "cell_type": "code",
   "execution_count": 52,
   "id": "f86091a0",
   "metadata": {},
   "outputs": [],
   "source": [
    "n5 = np.array([10,20,30])\n",
    "n6 = np.array([30,40,60])"
   ]
  },
  {
   "cell_type": "code",
   "execution_count": 57,
   "id": "f9e80e1b",
   "metadata": {},
   "outputs": [
    {
     "data": {
      "text/plain": [
       "array([10, 20, 30, 30, 40, 60])"
      ]
     },
     "execution_count": 57,
     "metadata": {},
     "output_type": "execute_result"
    }
   ],
   "source": [
    "np.concatenate((n5, n6))"
   ]
  },
  {
   "cell_type": "code",
   "execution_count": 19,
   "id": "f5bfedb8",
   "metadata": {},
   "outputs": [
    {
     "data": {
      "text/plain": [
       "array([[10, 20, 30],\n",
       "       [30, 40, 60]])"
      ]
     },
     "execution_count": 19,
     "metadata": {},
     "output_type": "execute_result"
    }
   ],
   "source": [
    "np.vstack((n5, n6))"
   ]
  },
  {
   "cell_type": "code",
   "execution_count": 20,
   "id": "aacd12dc",
   "metadata": {},
   "outputs": [],
   "source": [
    "n7 = np.array([1, 5, 3])\n",
    "n8 = np.array([3, 6])"
   ]
  },
  {
   "cell_type": "code",
   "execution_count": 21,
   "id": "dc782792",
   "metadata": {},
   "outputs": [
    {
     "data": {
      "text/plain": [
       "array([1, 5, 3, 3, 6])"
      ]
     },
     "execution_count": 21,
     "metadata": {},
     "output_type": "execute_result"
    }
   ],
   "source": [
    "np.hstack((n7, n8))"
   ]
  },
  {
   "cell_type": "code",
   "execution_count": 22,
   "id": "3aed2dc9",
   "metadata": {},
   "outputs": [
    {
     "data": {
      "text/plain": [
       "array([[10, 30],\n",
       "       [20, 40],\n",
       "       [30, 60]])"
      ]
     },
     "execution_count": 22,
     "metadata": {},
     "output_type": "execute_result"
    }
   ],
   "source": [
    "np.column_stack((n5, n6))"
   ]
  },
  {
   "cell_type": "code",
   "execution_count": 23,
   "id": "48f66b90",
   "metadata": {},
   "outputs": [],
   "source": [
    "n9 = np.array([10,20,30, 40, 50, 60])\n",
    "n0 = np.array([40, 50, 60, 70, 80, 90])"
   ]
  },
  {
   "cell_type": "markdown",
   "id": "2c5f104d",
   "metadata": {},
   "source": [
    "### Finding intersection and unqiue elements in arrays"
   ]
  },
  {
   "cell_type": "code",
   "execution_count": 24,
   "id": "32d1c989",
   "metadata": {},
   "outputs": [
    {
     "data": {
      "text/plain": [
       "array([40, 50, 60])"
      ]
     },
     "execution_count": 24,
     "metadata": {},
     "output_type": "execute_result"
    }
   ],
   "source": [
    "# Common element between both the elements. (Intersection)\n",
    "\n",
    "np.intersect1d(n9, n0) "
   ]
  },
  {
   "cell_type": "code",
   "execution_count": 25,
   "id": "970359e0",
   "metadata": {},
   "outputs": [
    {
     "data": {
      "text/plain": [
       "array([10, 20, 30])"
      ]
     },
     "execution_count": 25,
     "metadata": {},
     "output_type": "execute_result"
    }
   ],
   "source": [
    "# Elements that are unqiue to first array\n",
    "\n",
    "np.setdiff1d(n9, n0)"
   ]
  },
  {
   "cell_type": "code",
   "execution_count": 26,
   "id": "63553925",
   "metadata": {},
   "outputs": [
    {
     "data": {
      "text/plain": [
       "array([70, 80, 90])"
      ]
     },
     "execution_count": 26,
     "metadata": {},
     "output_type": "execute_result"
    }
   ],
   "source": [
    "# Elements that are unqiue to first array\n",
    "\n",
    "np.setdiff1d(n0, n9)"
   ]
  },
  {
   "cell_type": "markdown",
   "id": "54364dff",
   "metadata": {},
   "source": [
    "### Addition operation on array: columns and row operations"
   ]
  },
  {
   "cell_type": "code",
   "execution_count": 27,
   "id": "2a567ed3",
   "metadata": {},
   "outputs": [
    {
     "data": {
      "text/plain": [
       "600"
      ]
     },
     "execution_count": 27,
     "metadata": {},
     "output_type": "execute_result"
    }
   ],
   "source": [
    "# Total Addition\n",
    "n9 = np.array([10,20,30, 40, 50, 60])\n",
    "n0 = np.array([40, 50, 60, 70, 80, 90])\n",
    "\n",
    "np.sum([n0, n9])"
   ]
  },
  {
   "cell_type": "code",
   "execution_count": 28,
   "id": "bf719af9",
   "metadata": {},
   "outputs": [
    {
     "data": {
      "text/plain": [
       "array([ 50,  70,  90, 110, 130, 150])"
      ]
     },
     "execution_count": 28,
     "metadata": {},
     "output_type": "execute_result"
    }
   ],
   "source": [
    "# Addition along the column\n",
    "\n",
    "np.sum([n9, n0], axis = 0)"
   ]
  },
  {
   "cell_type": "code",
   "execution_count": 29,
   "id": "f3a3a116",
   "metadata": {},
   "outputs": [
    {
     "data": {
      "text/plain": [
       "array([210, 390])"
      ]
     },
     "execution_count": 29,
     "metadata": {},
     "output_type": "execute_result"
    }
   ],
   "source": [
    "# Addition along the row\n",
    "\n",
    "np.sum([n9, n0], axis = 1)"
   ]
  },
  {
   "cell_type": "markdown",
   "id": "adb3ef28",
   "metadata": {},
   "source": [
    "### Mathematical Scalar Operations"
   ]
  },
  {
   "cell_type": "code",
   "execution_count": 30,
   "id": "0bb19857",
   "metadata": {},
   "outputs": [],
   "source": [
    "n1 = np.array([10, 20, 30 ,40])"
   ]
  },
  {
   "cell_type": "code",
   "execution_count": 31,
   "id": "d18b4434",
   "metadata": {},
   "outputs": [
    {
     "data": {
      "text/plain": [
       "array([11, 21, 31, 41])"
      ]
     },
     "execution_count": 31,
     "metadata": {},
     "output_type": "execute_result"
    }
   ],
   "source": [
    "# Addition \n",
    "n1 = n1 + 1\n",
    "n1"
   ]
  },
  {
   "cell_type": "code",
   "execution_count": 32,
   "id": "250b5b6e",
   "metadata": {},
   "outputs": [
    {
     "data": {
      "text/plain": [
       "array([10, 20, 30, 40])"
      ]
     },
     "execution_count": 32,
     "metadata": {},
     "output_type": "execute_result"
    }
   ],
   "source": [
    "# Subtraction\n",
    "n1 = n1 -1\n",
    "n1"
   ]
  },
  {
   "cell_type": "code",
   "execution_count": 33,
   "id": "c91b48b1",
   "metadata": {},
   "outputs": [
    {
     "data": {
      "text/plain": [
       "array([20, 40, 60, 80])"
      ]
     },
     "execution_count": 33,
     "metadata": {},
     "output_type": "execute_result"
    }
   ],
   "source": [
    "# Mulltiplication\n",
    "n1 = n1*2\n",
    "n1"
   ]
  },
  {
   "cell_type": "code",
   "execution_count": 34,
   "id": "b83ecd33",
   "metadata": {},
   "outputs": [
    {
     "data": {
      "text/plain": [
       "array([10., 20., 30., 40.])"
      ]
     },
     "execution_count": 34,
     "metadata": {},
     "output_type": "execute_result"
    }
   ],
   "source": [
    "# Division\n",
    "n1 = n1/2\n",
    "n1"
   ]
  },
  {
   "cell_type": "code",
   "execution_count": 35,
   "id": "e30cee8a",
   "metadata": {},
   "outputs": [],
   "source": [
    "n1 = np.array([10, 20, 30 ,40])"
   ]
  },
  {
   "cell_type": "markdown",
   "id": "dc3cae7d",
   "metadata": {},
   "source": [
    "### Mean, Median and Standard Deviation"
   ]
  },
  {
   "cell_type": "code",
   "execution_count": 36,
   "id": "7a94c271",
   "metadata": {},
   "outputs": [
    {
     "data": {
      "text/plain": [
       "25.0"
      ]
     },
     "execution_count": 36,
     "metadata": {},
     "output_type": "execute_result"
    }
   ],
   "source": [
    "np.mean(n1)"
   ]
  },
  {
   "cell_type": "code",
   "execution_count": 37,
   "id": "7af6ea45",
   "metadata": {},
   "outputs": [
    {
     "data": {
      "text/plain": [
       "11.180339887498949"
      ]
     },
     "execution_count": 37,
     "metadata": {},
     "output_type": "execute_result"
    }
   ],
   "source": [
    "np.std(n1)"
   ]
  },
  {
   "cell_type": "code",
   "execution_count": 38,
   "id": "32f65120",
   "metadata": {},
   "outputs": [
    {
     "data": {
      "text/plain": [
       "25.0"
      ]
     },
     "execution_count": 38,
     "metadata": {},
     "output_type": "execute_result"
    }
   ],
   "source": [
    "np.median(n1)"
   ]
  },
  {
   "cell_type": "markdown",
   "id": "64d0e9f6",
   "metadata": {},
   "source": [
    "### Extraction of elements"
   ]
  },
  {
   "cell_type": "code",
   "execution_count": 40,
   "id": "837fab6d",
   "metadata": {},
   "outputs": [
    {
     "data": {
      "text/plain": [
       "array([[ 1,  2,  3,  4],\n",
       "       [ 4,  5,  6,  7],\n",
       "       [ 7,  8,  9, 10],\n",
       "       [ 9, 10, 11, 12]])"
      ]
     },
     "execution_count": 40,
     "metadata": {},
     "output_type": "execute_result"
    }
   ],
   "source": [
    "n1 = np.array([[1,2,3,4], [4,5,6,7], [7,8,9,10],[9,10,11,12]])\n",
    "n1"
   ]
  },
  {
   "cell_type": "code",
   "execution_count": 4,
   "id": "9cb9a992",
   "metadata": {},
   "outputs": [
    {
     "data": {
      "text/plain": [
       "array([1, 2, 3])"
      ]
     },
     "execution_count": 4,
     "metadata": {},
     "output_type": "execute_result"
    }
   ],
   "source": [
    "# Extraction of entire row (first)\n",
    "n1[0]"
   ]
  },
  {
   "cell_type": "code",
   "execution_count": 32,
   "id": "86bc6eff",
   "metadata": {},
   "outputs": [
    {
     "data": {
      "text/plain": [
       "(3, 3)"
      ]
     },
     "execution_count": 32,
     "metadata": {},
     "output_type": "execute_result"
    }
   ],
   "source": [
    "n1.shape"
   ]
  },
  {
   "cell_type": "code",
   "execution_count": 45,
   "id": "b56bdcc4",
   "metadata": {},
   "outputs": [
    {
     "data": {
      "text/plain": [
       "array([[ 9, 10],\n",
       "       [11, 12]])"
      ]
     },
     "execution_count": 45,
     "metadata": {},
     "output_type": "execute_result"
    }
   ],
   "source": [
    "# Extraction of entire column (third)\n",
    "n1[2:4,2:5]"
   ]
  },
  {
   "cell_type": "code",
   "execution_count": 42,
   "id": "5d6e0908",
   "metadata": {},
   "outputs": [
    {
     "data": {
      "text/plain": [
       "3"
      ]
     },
     "execution_count": 42,
     "metadata": {},
     "output_type": "execute_result"
    }
   ],
   "source": [
    "# Extracting elements of the matrix: You have to mention first row number and then column number\n",
    "n1[0][2]"
   ]
  },
  {
   "cell_type": "markdown",
   "id": "91327172",
   "metadata": {},
   "source": [
    "### Transpose"
   ]
  },
  {
   "cell_type": "code",
   "execution_count": 43,
   "id": "78cb175c",
   "metadata": {},
   "outputs": [
    {
     "data": {
      "text/plain": [
       "array([[1, 2, 3],\n",
       "       [4, 5, 6],\n",
       "       [7, 8, 9]])"
      ]
     },
     "execution_count": 43,
     "metadata": {},
     "output_type": "execute_result"
    }
   ],
   "source": [
    "n1 = np.array([[1,2,3], [4,5,6], [7,8,9]])\n",
    "n1"
   ]
  },
  {
   "cell_type": "code",
   "execution_count": 44,
   "id": "632c7ab1",
   "metadata": {},
   "outputs": [
    {
     "data": {
      "text/plain": [
       "array([[1, 4, 7],\n",
       "       [2, 5, 8],\n",
       "       [3, 6, 9]])"
      ]
     },
     "execution_count": 44,
     "metadata": {},
     "output_type": "execute_result"
    }
   ],
   "source": [
    "n1.transpose()"
   ]
  },
  {
   "cell_type": "markdown",
   "id": "a3abfcd2",
   "metadata": {},
   "source": [
    "### Multiplication (Dot Product: Matrix * Matrix)"
   ]
  },
  {
   "cell_type": "code",
   "execution_count": 58,
   "id": "fcea1142",
   "metadata": {},
   "outputs": [
    {
     "data": {
      "text/plain": [
       "(array([[1, 2, 3],\n",
       "        [4, 5, 6],\n",
       "        [7, 8, 9]]),\n",
       " array([[4, 5, 6],\n",
       "        [5, 6, 7],\n",
       "        [6, 3, 4]]))"
      ]
     },
     "execution_count": 58,
     "metadata": {},
     "output_type": "execute_result"
    }
   ],
   "source": [
    "n1 = np.array([[1,2,3], [4,5,6], [7,8,9]])\n",
    "n2 = np.array([[4,5,6], [5,6,7], [6, 3, 4]])\n",
    "n1, n2"
   ]
  },
  {
   "cell_type": "code",
   "execution_count": 60,
   "id": "2e53ee16",
   "metadata": {},
   "outputs": [
    {
     "data": {
      "text/plain": [
       "array([[1, 2, 3, 4, 5, 6],\n",
       "       [4, 5, 6, 5, 6, 7],\n",
       "       [7, 8, 9, 6, 3, 4]])"
      ]
     },
     "execution_count": 60,
     "metadata": {},
     "output_type": "execute_result"
    }
   ],
   "source": [
    "np.concatenate((n1, n2), axis =1)"
   ]
  },
  {
   "cell_type": "code",
   "execution_count": 46,
   "id": "b4232846",
   "metadata": {},
   "outputs": [
    {
     "data": {
      "text/plain": [
       "array([[ 4, 10, 18],\n",
       "       [20, 30, 42],\n",
       "       [42, 24, 36]])"
      ]
     },
     "execution_count": 46,
     "metadata": {},
     "output_type": "execute_result"
    }
   ],
   "source": [
    "n1*n2"
   ]
  },
  {
   "cell_type": "code",
   "execution_count": 47,
   "id": "f90c23d5",
   "metadata": {},
   "outputs": [
    {
     "data": {
      "text/plain": [
       "array([[ 32,  26,  32],\n",
       "       [ 77,  68,  83],\n",
       "       [122, 110, 134]])"
      ]
     },
     "execution_count": 47,
     "metadata": {},
     "output_type": "execute_result"
    }
   ],
   "source": [
    "# Dot Product\n",
    "\n",
    "n1.dot(n2)"
   ]
  },
  {
   "cell_type": "code",
   "execution_count": 48,
   "id": "5f49eb4b",
   "metadata": {},
   "outputs": [
    {
     "data": {
      "text/plain": [
       "array([[ 66,  81,  96],\n",
       "       [ 78,  96, 114],\n",
       "       [ 46,  59,  72]])"
      ]
     },
     "execution_count": 48,
     "metadata": {},
     "output_type": "execute_result"
    }
   ],
   "source": [
    "n2.dot(n1)"
   ]
  },
  {
   "cell_type": "markdown",
   "id": "210b2ab6",
   "metadata": {},
   "source": [
    "### Saving and Loading Numpy Array"
   ]
  },
  {
   "cell_type": "code",
   "execution_count": 49,
   "id": "ca2cb489",
   "metadata": {},
   "outputs": [
    {
     "data": {
      "text/plain": [
       "array([[1, 2, 3],\n",
       "       [4, 5, 6],\n",
       "       [7, 8, 9]])"
      ]
     },
     "execution_count": 49,
     "metadata": {},
     "output_type": "execute_result"
    }
   ],
   "source": [
    "n1"
   ]
  },
  {
   "cell_type": "code",
   "execution_count": 50,
   "id": "ea24a151",
   "metadata": {},
   "outputs": [],
   "source": [
    "np.save('array_file',n1)"
   ]
  },
  {
   "cell_type": "code",
   "execution_count": 51,
   "id": "f85793db",
   "metadata": {},
   "outputs": [
    {
     "data": {
      "text/plain": [
       "array([[1, 2, 3],\n",
       "       [4, 5, 6],\n",
       "       [7, 8, 9]])"
      ]
     },
     "execution_count": 51,
     "metadata": {},
     "output_type": "execute_result"
    }
   ],
   "source": [
    "n2 = np.load('array_file.npy')\n",
    "n2"
   ]
  },
  {
   "cell_type": "code",
   "execution_count": null,
   "id": "d484cd7c",
   "metadata": {},
   "outputs": [],
   "source": []
  },
  {
   "cell_type": "code",
   "execution_count": null,
   "id": "50ffa054",
   "metadata": {},
   "outputs": [],
   "source": []
  }
 ],
 "metadata": {
  "kernelspec": {
   "display_name": "Python 3",
   "language": "python",
   "name": "python3"
  },
  "language_info": {
   "codemirror_mode": {
    "name": "ipython",
    "version": 3
   },
   "file_extension": ".py",
   "mimetype": "text/x-python",
   "name": "python",
   "nbconvert_exporter": "python",
   "pygments_lexer": "ipython3",
   "version": "3.8.8"
  }
 },
 "nbformat": 4,
 "nbformat_minor": 5
}
