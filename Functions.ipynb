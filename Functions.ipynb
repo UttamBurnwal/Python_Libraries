{
 "cells": [
  {
   "cell_type": "code",
   "execution_count": 37,
   "id": "465898bb",
   "metadata": {},
   "outputs": [],
   "source": [
    "import numpy as np"
   ]
  },
  {
   "cell_type": "code",
   "execution_count": 1,
   "id": "2c74121b",
   "metadata": {},
   "outputs": [],
   "source": [
    "def display():\n",
    "    print('Welcome to Python')"
   ]
  },
  {
   "cell_type": "code",
   "execution_count": 2,
   "id": "3e8a484a",
   "metadata": {},
   "outputs": [
    {
     "name": "stdout",
     "output_type": "stream",
     "text": [
      "Welcome to Python\n"
     ]
    }
   ],
   "source": [
    "display()"
   ]
  },
  {
   "cell_type": "code",
   "execution_count": 3,
   "id": "a124d431",
   "metadata": {},
   "outputs": [],
   "source": [
    "# Message Print Function\n",
    "\n",
    "def print_msg():\n",
    "    a = input(\"Enter Your Name: \")\n",
    "    print('Dear',a,', Welcome to Python')"
   ]
  },
  {
   "cell_type": "code",
   "execution_count": 4,
   "id": "57219037",
   "metadata": {},
   "outputs": [
    {
     "name": "stdout",
     "output_type": "stream",
     "text": [
      "Enter Your Name: Uttam\n",
      "Dear Uttam , Welcome to Python\n"
     ]
    }
   ],
   "source": [
    "print_msg()"
   ]
  },
  {
   "cell_type": "code",
   "execution_count": 5,
   "id": "aba0f62f",
   "metadata": {},
   "outputs": [
    {
     "name": "stdout",
     "output_type": "stream",
     "text": [
      "Sum of 1 to 25 is 325\n",
      "Sum of 26 to 70 is 2160\n",
      "Sum of 71 to 100 is 2565\n"
     ]
    }
   ],
   "source": [
    "s = 0\n",
    "for i in range(1,26):\n",
    "    s = s+i\n",
    "print('Sum of 1 to 25 is',s)\n",
    "\n",
    "u = 0 \n",
    "for i in range(26,71):\n",
    "    u = u+i\n",
    "print('Sum of 26 to 70 is', u)\n",
    "\n",
    "m = 0\n",
    "for i in range(71, 101):\n",
    "    m = m+ i\n",
    "print('Sum of 71 to 100 is',m)"
   ]
  },
  {
   "cell_type": "code",
   "execution_count": 6,
   "id": "0a88a298",
   "metadata": {},
   "outputs": [],
   "source": [
    "# Sum Function\n",
    "\n",
    "def sum(x,y):\n",
    "    s = 0\n",
    "    for i in range(x, y+1):\n",
    "        s = s+i\n",
    "    print('Sum of',x,'&',y,'is',s)"
   ]
  },
  {
   "cell_type": "code",
   "execution_count": 7,
   "id": "4cacb4be",
   "metadata": {},
   "outputs": [
    {
     "name": "stdout",
     "output_type": "stream",
     "text": [
      "Sum of 1 & 25 is 325\n",
      "Sum of 26 & 70 is 2160\n",
      "Sum of 71 & 100 is 2565\n"
     ]
    }
   ],
   "source": [
    "sum(1,25)\n",
    "sum(26,70)\n",
    "sum(71,100)"
   ]
  },
  {
   "cell_type": "code",
   "execution_count": 8,
   "id": "44afdae4",
   "metadata": {},
   "outputs": [],
   "source": [
    "# Which one is greater function\n",
    "\n",
    "def greater(a,b,c):\n",
    "    print('First Number:',a)\n",
    "    print('Second Number:',b)\n",
    "    print('Third Number:',c)\n",
    "    if a >= b and a>=c:\n",
    "        print('a is greater')\n",
    "    elif b >= a and b >= c:\n",
    "        print('b is greater')\n",
    "    else:\n",
    "        print('c is greater')"
   ]
  },
  {
   "cell_type": "code",
   "execution_count": 9,
   "id": "25cf0509",
   "metadata": {},
   "outputs": [
    {
     "name": "stdout",
     "output_type": "stream",
     "text": [
      "First Number: 7\n",
      "Second Number: 12\n",
      "Third Number: 7\n",
      "b is greater\n"
     ]
    }
   ],
   "source": [
    "greater(7,12,7)"
   ]
  },
  {
   "cell_type": "code",
   "execution_count": 10,
   "id": "8cc8d6d4",
   "metadata": {},
   "outputs": [],
   "source": [
    "# Factorial Function\n",
    "\n",
    "def factorial(a):\n",
    "    fac = 1\n",
    "    for i in range(1, a+1):\n",
    "        fac = fac*i\n",
    "        i = i+1\n",
    "    print('Factorial of number',a,'is',fac)"
   ]
  },
  {
   "cell_type": "code",
   "execution_count": 15,
   "id": "aef8eef3",
   "metadata": {},
   "outputs": [
    {
     "name": "stdout",
     "output_type": "stream",
     "text": [
      "Factorial of number 8 is 40320\n"
     ]
    }
   ],
   "source": [
    "factorial(8)"
   ]
  },
  {
   "cell_type": "code",
   "execution_count": 25,
   "id": "93b2f0c6",
   "metadata": {},
   "outputs": [],
   "source": [
    "# Displaying Name and Age Function\n",
    "\n",
    "def Display(Name, Age):\n",
    "    print('Name:',Name,'Age:',Age)"
   ]
  },
  {
   "cell_type": "code",
   "execution_count": 26,
   "id": "cbd486a1",
   "metadata": {},
   "outputs": [
    {
     "name": "stdout",
     "output_type": "stream",
     "text": [
      "Name: John Age: 25\n"
     ]
    }
   ],
   "source": [
    "Display(Name='John', Age=25)"
   ]
  },
  {
   "cell_type": "code",
   "execution_count": 44,
   "id": "331d5810",
   "metadata": {},
   "outputs": [],
   "source": [
    "# Area of Circle Function\n",
    "\n",
    "def area_circle(radius):\n",
    "    if radius >0:\n",
    "        pi =3.14\n",
    "        area = pi*radius*radius\n",
    "        print('Area of Circle with radius',radius,'is',area)\n",
    "    else:\n",
    "        print('Error!! Enter a positive number')"
   ]
  },
  {
   "cell_type": "code",
   "execution_count": 46,
   "id": "3d310638",
   "metadata": {},
   "outputs": [
    {
     "name": "stdout",
     "output_type": "stream",
     "text": [
      "Area of Circle with radius 8 is 200.96\n"
     ]
    }
   ],
   "source": [
    "area_circle(radius = 8)"
   ]
  },
  {
   "cell_type": "code",
   "execution_count": 47,
   "id": "d7ee300f",
   "metadata": {},
   "outputs": [],
   "source": [
    "# Distance between the co-ordinates function\n",
    "\n",
    "def cal_distance(x1, y1, x2, y2):\n",
    "    print('The first coordinate (x1, y1) is',(x1,y1))\n",
    "    print('The second coordinate (x2, y2) is',(x2,y2))\n",
    "    dis = np.sqrt((x1 - x2)**2 + (y1 - y2)**2)\n",
    "    print('The distance between',(x1,y1),'and',(x2,y2),'is',dis)"
   ]
  },
  {
   "cell_type": "code",
   "execution_count": 48,
   "id": "aaaa74f2",
   "metadata": {},
   "outputs": [
    {
     "name": "stdout",
     "output_type": "stream",
     "text": [
      "The first coordinate (x1, y1) is (2, 3)\n",
      "The second coordinate (x2, y2) is (5, 7)\n",
      "The distance between (2, 3) and (5, 7) is 5.0\n"
     ]
    }
   ],
   "source": [
    "cal_distance(x1=2, y1=3, x2=5, y2=7)"
   ]
  },
  {
   "cell_type": "code",
   "execution_count": 51,
   "id": "4e1db88d",
   "metadata": {},
   "outputs": [],
   "source": [
    "def a(c,d):\n",
    "    return c+d, c-d"
   ]
  },
  {
   "cell_type": "code",
   "execution_count": 52,
   "id": "b3c4df26",
   "metadata": {},
   "outputs": [
    {
     "data": {
      "text/plain": [
       "(5, -1)"
      ]
     },
     "execution_count": 52,
     "metadata": {},
     "output_type": "execute_result"
    }
   ],
   "source": [
    "a(2,3)"
   ]
  },
  {
   "cell_type": "code",
   "execution_count": 53,
   "id": "f589082e",
   "metadata": {},
   "outputs": [
    {
     "name": "stdout",
     "output_type": "stream",
     "text": [
      "Factorial of number 0 is 1\n"
     ]
    }
   ],
   "source": [
    "factorial(0)"
   ]
  },
  {
   "cell_type": "code",
   "execution_count": 81,
   "id": "8611cb7a",
   "metadata": {},
   "outputs": [],
   "source": [
    "# Fibonacci Function\n",
    "\n",
    "def fib(n):\n",
    "    if n==0:\n",
    "        return 1\n",
    "    if n==1:\n",
    "        return 1\n",
    "    return fib(n-1) + fib(n-2)"
   ]
  },
  {
   "cell_type": "code",
   "execution_count": 82,
   "id": "4179577c",
   "metadata": {},
   "outputs": [
    {
     "data": {
      "text/plain": [
       "34"
      ]
     },
     "execution_count": 82,
     "metadata": {},
     "output_type": "execute_result"
    }
   ],
   "source": [
    "fib(8)"
   ]
  },
  {
   "cell_type": "code",
   "execution_count": 5,
   "id": "6d729354",
   "metadata": {},
   "outputs": [],
   "source": [
    "# Find the Fibonnaci number\n",
    "def fib(f):\n",
    "    a = 0\n",
    "    b = 1\n",
    "    print('Fibonacci Position Entered:',f)\n",
    "    for i in range(1, f-1):\n",
    "        sum = a+b \n",
    "        a = b\n",
    "        b = sum\n",
    "    print('The Fibonacci Number is',sum)\n"
   ]
  },
  {
   "cell_type": "code",
   "execution_count": 6,
   "id": "7fe154fc",
   "metadata": {},
   "outputs": [
    {
     "name": "stdout",
     "output_type": "stream",
     "text": [
      "Fibonacci Position Entered: 10\n",
      "The Fibonacci Number is 34\n"
     ]
    }
   ],
   "source": [
    "fib(f = 10)"
   ]
  },
  {
   "cell_type": "code",
   "execution_count": 7,
   "id": "19980a39",
   "metadata": {},
   "outputs": [
    {
     "data": {
      "text/plain": [
       "[4, 6, 7, 5]"
      ]
     },
     "execution_count": 7,
     "metadata": {},
     "output_type": "execute_result"
    }
   ],
   "source": [
    "# Filter Function\n",
    "\n",
    "mylist = [2,4,3,6,7,5]\n",
    "new_list = list(filter(lambda x: x>3, mylist))\n",
    "new_list"
   ]
  },
  {
   "cell_type": "code",
   "execution_count": 14,
   "id": "c384fdee",
   "metadata": {},
   "outputs": [
    {
     "data": {
      "text/plain": [
       "[4, 8, 6, 12, 14, 10]"
      ]
     },
     "execution_count": 14,
     "metadata": {},
     "output_type": "execute_result"
    }
   ],
   "source": [
    "# Mapping out function\n",
    "\n",
    "mylist = [2,4,3,6,7,5]\n",
    "new_list = list(map(lambda x: x*2, mylist))\n",
    "new_list"
   ]
  },
  {
   "cell_type": "code",
   "execution_count": 13,
   "id": "b76061e6",
   "metadata": {},
   "outputs": [
    {
     "name": "stdout",
     "output_type": "stream",
     "text": [
      "Enter the principal amount: Rs 10000\n",
      "Enter the number of years: 7\n",
      "Enter the rate(%): 5\n",
      "Starting Balance \tInterest\t \tEnding Balance\t\n",
      "10000.00\t \t500.00\t \t\t10500.00\t\n",
      "10500.00\t \t525.00\t \t\t11025.00\t\n",
      "11025.00\t \t551.25\t \t\t11576.25\t\n",
      "11576.25\t \t578.81\t \t\t12155.06\t\n",
      "12155.06\t \t607.75\t \t\t12762.82\t\n",
      "12762.82\t \t638.14\t \t\t13400.96\t\n",
      "13400.96\t \t670.05\t \t\t14071.00\t\n",
      "Total Interest Deposited: Rs 4071.00\n"
     ]
    }
   ],
   "source": [
    "# Compound Interest Calculator\n",
    "\n",
    "def comp_int_cal(p,n,r):\n",
    "    print('Starting Balance','\\tInterest\\t','\\tEnding Balance\\t')\n",
    "    total = 0\n",
    "    tot = 0\n",
    "    x = r/100\n",
    "    for i in range(1, n+1):\n",
    "        z_new = p*(1+x)**i - p\n",
    "        z_old = p*(1+x)**(i-1) - p\n",
    "        tot = tot + (z_new - z_old)\n",
    "        if(i ==1):\n",
    "            print('{0:.2f}\\t'.format(p),end=' ')\n",
    "            print('\\t{0:.2f}\\t'.format(z_new-z_old),end=' ')\n",
    "            print('\\t\\t{0:.2f}\\t'.format(z_new +p))\n",
    "        else:\n",
    "            print('{0:.2f}\\t'.format(p+z_old),end=' ')\n",
    "            print('\\t{0:.2f}\\t'.format(z_new-z_old),end=' ')\n",
    "            print('\\t\\t{0:.2f}\\t'.format(z_new +p))\n",
    "    print('Total Interest Deposited: Rs {0:.2f}'.format(tot))\n",
    "        \n",
    "p = int(input('Enter the principal amount: Rs '))\n",
    "n = int(input('Enter the number of years: '))\n",
    "r = int(input('Enter the rate(%): '))\n",
    "comp_int_cal(p,n,r)"
   ]
  },
  {
   "cell_type": "code",
   "execution_count": null,
   "id": "1d303105",
   "metadata": {},
   "outputs": [],
   "source": []
  }
 ],
 "metadata": {
  "kernelspec": {
   "display_name": "Python 3",
   "language": "python",
   "name": "python3"
  },
  "language_info": {
   "codemirror_mode": {
    "name": "ipython",
    "version": 3
   },
   "file_extension": ".py",
   "mimetype": "text/x-python",
   "name": "python",
   "nbconvert_exporter": "python",
   "pygments_lexer": "ipython3",
   "version": "3.8.8"
  }
 },
 "nbformat": 4,
 "nbformat_minor": 5
}
