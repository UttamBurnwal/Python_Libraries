{
 "cells": [
  {
   "cell_type": "code",
   "execution_count": 1,
   "id": "3f5d6fa6",
   "metadata": {},
   "outputs": [],
   "source": [
    "a = 'IITMADRAS'"
   ]
  },
  {
   "cell_type": "markdown",
   "id": "15ee700a",
   "metadata": {},
   "source": [
    "## Indexing"
   ]
  },
  {
   "cell_type": "code",
   "execution_count": 17,
   "id": "2aafc7dd",
   "metadata": {},
   "outputs": [
    {
     "data": {
      "text/plain": [
       "'T'"
      ]
     },
     "execution_count": 17,
     "metadata": {},
     "output_type": "execute_result"
    }
   ],
   "source": [
    "# Indexing of a position\n",
    "a[2]"
   ]
  },
  {
   "cell_type": "code",
   "execution_count": 18,
   "id": "eb0f4de4",
   "metadata": {},
   "outputs": [
    {
     "data": {
      "text/plain": [
       "'IIT'"
      ]
     },
     "execution_count": 18,
     "metadata": {},
     "output_type": "execute_result"
    }
   ],
   "source": [
    "# : means from all values from one position to the next position\n",
    "a[0:3]"
   ]
  },
  {
   "cell_type": "code",
   "execution_count": 19,
   "id": "961321f4",
   "metadata": {},
   "outputs": [
    {
     "data": {
      "text/plain": [
       "'ITAR'"
      ]
     },
     "execution_count": 19,
     "metadata": {},
     "output_type": "execute_result"
    }
   ],
   "source": [
    "# Reading numbers with incrementation ::x : increments by x\n",
    "a[0:8:2]"
   ]
  },
  {
   "cell_type": "code",
   "execution_count": 2,
   "id": "16377fb5",
   "metadata": {},
   "outputs": [
    {
     "data": {
      "text/plain": [
       "'ITARS'"
      ]
     },
     "execution_count": 2,
     "metadata": {},
     "output_type": "execute_result"
    }
   ],
   "source": [
    "# Reading string from beginning with the increment of 2\n",
    "a[0::2]"
   ]
  },
  {
   "cell_type": "code",
   "execution_count": 27,
   "id": "98dc2d63",
   "metadata": {},
   "outputs": [
    {
     "data": {
      "text/plain": [
       "'RA'"
      ]
     },
     "execution_count": 27,
     "metadata": {},
     "output_type": "execute_result"
    }
   ],
   "source": [
    "# Indexing left to right with negavtive position; however it would never print the last character using this method\n",
    "a[-3:-1]"
   ]
  },
  {
   "cell_type": "code",
   "execution_count": 32,
   "id": "494203ac",
   "metadata": {},
   "outputs": [
    {
     "data": {
      "text/plain": [
       "'SARDAMTII'"
      ]
     },
     "execution_count": 32,
     "metadata": {},
     "output_type": "execute_result"
    }
   ],
   "source": [
    "# Indexing and printing in reverse order\n",
    "a[-1::-1]"
   ]
  },
  {
   "cell_type": "code",
   "execution_count": 34,
   "id": "95499b7a",
   "metadata": {},
   "outputs": [
    {
     "data": {
      "text/plain": [
       "'SRATI'"
      ]
     },
     "execution_count": 34,
     "metadata": {},
     "output_type": "execute_result"
    }
   ],
   "source": [
    "a[-1::-2]"
   ]
  },
  {
   "cell_type": "code",
   "execution_count": 6,
   "id": "0e16ac0b",
   "metadata": {},
   "outputs": [
    {
     "data": {
      "text/plain": [
       "'SARDAMTII'"
      ]
     },
     "execution_count": 6,
     "metadata": {},
     "output_type": "execute_result"
    }
   ],
   "source": [
    "a[::-1]"
   ]
  },
  {
   "cell_type": "code",
   "execution_count": 5,
   "id": "67813f25",
   "metadata": {},
   "outputs": [
    {
     "data": {
      "text/plain": [
       "'S'"
      ]
     },
     "execution_count": 5,
     "metadata": {},
     "output_type": "execute_result"
    }
   ],
   "source": [
    "a[-1:]"
   ]
  },
  {
   "cell_type": "code",
   "execution_count": 33,
   "id": "73cf3728",
   "metadata": {},
   "outputs": [
    {
     "data": {
      "text/plain": [
       "'S'"
      ]
     },
     "execution_count": 33,
     "metadata": {},
     "output_type": "execute_result"
    }
   ],
   "source": [
    "a[-1::]"
   ]
  },
  {
   "cell_type": "code",
   "execution_count": 7,
   "id": "47d25aa4",
   "metadata": {},
   "outputs": [
    {
     "data": {
      "text/plain": [
       "'S'"
      ]
     },
     "execution_count": 7,
     "metadata": {},
     "output_type": "execute_result"
    }
   ],
   "source": [
    "a[-1::]"
   ]
  },
  {
   "cell_type": "code",
   "execution_count": 8,
   "id": "83a54f73",
   "metadata": {},
   "outputs": [
    {
     "data": {
      "text/plain": [
       "'IITMADR'"
      ]
     },
     "execution_count": 8,
     "metadata": {},
     "output_type": "execute_result"
    }
   ],
   "source": [
    "a[:-2]"
   ]
  },
  {
   "cell_type": "code",
   "execution_count": 9,
   "id": "9994c632",
   "metadata": {},
   "outputs": [
    {
     "data": {
      "text/plain": [
       "'S'"
      ]
     },
     "execution_count": 9,
     "metadata": {},
     "output_type": "execute_result"
    }
   ],
   "source": [
    "a[-1]"
   ]
  },
  {
   "cell_type": "code",
   "execution_count": 10,
   "id": "9b6976ed",
   "metadata": {},
   "outputs": [
    {
     "data": {
      "text/plain": [
       "'4 plus 9 equals 13'"
      ]
     },
     "execution_count": 10,
     "metadata": {},
     "output_type": "execute_result"
    }
   ],
   "source": [
    "'{} plus {} equals {}'.format(4,9,13)"
   ]
  },
  {
   "cell_type": "code",
   "execution_count": 11,
   "id": "76bbdbee",
   "metadata": {},
   "outputs": [],
   "source": [
    "s1 = 'He is a good guy'"
   ]
  },
  {
   "cell_type": "code",
   "execution_count": 12,
   "id": "c43b2448",
   "metadata": {},
   "outputs": [
    {
     "data": {
      "text/plain": [
       "['He', 'is', 'a', 'good', 'guy']"
      ]
     },
     "execution_count": 12,
     "metadata": {},
     "output_type": "execute_result"
    }
   ],
   "source": [
    "s1.split()"
   ]
  },
  {
   "cell_type": "code",
   "execution_count": 13,
   "id": "d22f33b7",
   "metadata": {},
   "outputs": [
    {
     "data": {
      "text/plain": [
       "True"
      ]
     },
     "execution_count": 13,
     "metadata": {},
     "output_type": "execute_result"
    }
   ],
   "source": [
    "s ='Pythom'\n",
    "s.isalnum()"
   ]
  },
  {
   "cell_type": "code",
   "execution_count": 14,
   "id": "690b1fa6",
   "metadata": {},
   "outputs": [
    {
     "data": {
      "text/plain": [
       "False"
      ]
     },
     "execution_count": 14,
     "metadata": {},
     "output_type": "execute_result"
    }
   ],
   "source": [
    "s ='Pythom Programming'\n",
    "s.isalnum()"
   ]
  },
  {
   "cell_type": "code",
   "execution_count": 15,
   "id": "64a902dc",
   "metadata": {},
   "outputs": [
    {
     "data": {
      "text/plain": [
       "True"
      ]
     },
     "execution_count": 15,
     "metadata": {},
     "output_type": "execute_result"
    }
   ],
   "source": [
    "s ='uttam'\n",
    "s.isalnum()"
   ]
  },
  {
   "cell_type": "markdown",
   "id": "900b9bfc",
   "metadata": {},
   "source": [
    "# Class"
   ]
  },
  {
   "cell_type": "code",
   "execution_count": 41,
   "id": "7bf1ed36",
   "metadata": {},
   "outputs": [
    {
     "data": {
      "text/plain": [
       "15"
      ]
     },
     "execution_count": 41,
     "metadata": {},
     "output_type": "execute_result"
    }
   ],
   "source": [
    "# Iterating a string\n",
    "\n",
    "w = \"My name is Karn\"\n",
    "t = len(w)\n",
    "t"
   ]
  },
  {
   "cell_type": "code",
   "execution_count": 42,
   "id": "b2415239",
   "metadata": {},
   "outputs": [
    {
     "name": "stdout",
     "output_type": "stream",
     "text": [
      "My name is Karn"
     ]
    }
   ],
   "source": [
    "for i in range(t):\n",
    "    print(w[i], end = '')"
   ]
  },
  {
   "cell_type": "code",
   "execution_count": 44,
   "id": "71b88a3e",
   "metadata": {},
   "outputs": [
    {
     "name": "stdout",
     "output_type": "stream",
     "text": [
      "My name is Karn"
     ]
    }
   ],
   "source": [
    "for i in w:\n",
    "    print(i, end='')"
   ]
  },
  {
   "cell_type": "code",
   "execution_count": 45,
   "id": "283bc34c",
   "metadata": {},
   "outputs": [
    {
     "name": "stdout",
     "output_type": "stream",
     "text": [
      "nraK si eman yM"
     ]
    }
   ],
   "source": [
    "# Reverse printing a string\n",
    "\n",
    "for i in range(t-1, -1, -1):\n",
    "    print(w[i], end ='')"
   ]
  },
  {
   "cell_type": "code",
   "execution_count": 47,
   "id": "27e180fa",
   "metadata": {},
   "outputs": [
    {
     "data": {
      "text/plain": [
       "'nraK si eman yM'"
      ]
     },
     "execution_count": 47,
     "metadata": {},
     "output_type": "execute_result"
    }
   ],
   "source": [
    "w = \"My name is Karn\"\n",
    "x = w[-1::-1]\n",
    "x"
   ]
  },
  {
   "cell_type": "code",
   "execution_count": 49,
   "id": "45f5565a",
   "metadata": {},
   "outputs": [
    {
     "name": "stdout",
     "output_type": "stream",
     "text": [
      "nraK si eman yM"
     ]
    }
   ],
   "source": [
    "for i in x:\n",
    "    print(i, end ='')"
   ]
  },
  {
   "cell_type": "markdown",
   "id": "1f0ffe45",
   "metadata": {},
   "source": [
    "# Basic String Functions\n",
    "### * Upper\n",
    "### * Lower\n",
    "### * Title\n",
    "### * Capitalize"
   ]
  },
  {
   "cell_type": "code",
   "execution_count": 66,
   "id": "0c0fc35e",
   "metadata": {},
   "outputs": [],
   "source": [
    "w = 'My name is Karn. I like coding.'"
   ]
  },
  {
   "cell_type": "code",
   "execution_count": 67,
   "id": "5c67b348",
   "metadata": {},
   "outputs": [
    {
     "data": {
      "text/plain": [
       "'my name is karn. i like coding.'"
      ]
     },
     "execution_count": 67,
     "metadata": {},
     "output_type": "execute_result"
    }
   ],
   "source": [
    "# Converts every character to lowercase\n",
    "\n",
    "w.lower()"
   ]
  },
  {
   "cell_type": "code",
   "execution_count": 68,
   "id": "57bcacdb",
   "metadata": {},
   "outputs": [
    {
     "data": {
      "text/plain": [
       "'MY NAME IS KARN. I LIKE CODING.'"
      ]
     },
     "execution_count": 68,
     "metadata": {},
     "output_type": "execute_result"
    }
   ],
   "source": [
    "# Converts every character to uppercase\n",
    "\n",
    "w.upper()"
   ]
  },
  {
   "cell_type": "code",
   "execution_count": 69,
   "id": "2958ebb7",
   "metadata": {},
   "outputs": [
    {
     "data": {
      "text/plain": [
       "'My Name Is Karn. I Like Coding.'"
      ]
     },
     "execution_count": 69,
     "metadata": {},
     "output_type": "execute_result"
    }
   ],
   "source": [
    "# First letter of every word is converted into capital form\n",
    "\n",
    "w.title()"
   ]
  },
  {
   "cell_type": "code",
   "execution_count": 71,
   "id": "418693e4",
   "metadata": {},
   "outputs": [
    {
     "data": {
      "text/plain": [
       "'My name is karn. i like coding.'"
      ]
     },
     "execution_count": 71,
     "metadata": {},
     "output_type": "execute_result"
    }
   ],
   "source": [
    "# Only first letter of first word is converted into uppercase while the rest remains lowercase\n",
    "\n",
    "w.capitalize()"
   ]
  },
  {
   "cell_type": "markdown",
   "id": "f76920bf",
   "metadata": {},
   "source": [
    "# Important String Functions\n",
    "\n",
    "### * Find\n",
    "### * Index\n",
    "### * isalpha\n",
    "### * isdigit\n",
    "### * isalnum"
   ]
  },
  {
   "cell_type": "code",
   "execution_count": 77,
   "id": "2f8c9a7f",
   "metadata": {},
   "outputs": [
    {
     "data": {
      "text/plain": [
       "12"
      ]
     },
     "execution_count": 77,
     "metadata": {},
     "output_type": "execute_result"
    }
   ],
   "source": [
    "# Finding the position of a sub-string. It returns -1 if it could not find the sub-string ('substring', starting, ending)\n",
    "\n",
    "w.find('a', 5, 14)"
   ]
  },
  {
   "cell_type": "code",
   "execution_count": 78,
   "id": "0e3951b4",
   "metadata": {},
   "outputs": [
    {
     "data": {
      "text/plain": [
       "12"
      ]
     },
     "execution_count": 78,
     "metadata": {},
     "output_type": "execute_result"
    }
   ],
   "source": [
    "# Finding the index of a sub-string. It returns eroor if it could not find the sub-string ('substring', starting, ending)\n",
    "\n",
    "w.index('a', 5, 14)"
   ]
  },
  {
   "cell_type": "markdown",
   "id": "8657e4ae",
   "metadata": {},
   "source": [
    "##### 'is...' func helps in identification of certain and only answers in True or False"
   ]
  },
  {
   "cell_type": "code",
   "execution_count": 100,
   "id": "c9618092",
   "metadata": {},
   "outputs": [
    {
     "data": {
      "text/plain": [
       "True"
      ]
     },
     "execution_count": 100,
     "metadata": {},
     "output_type": "execute_result"
    }
   ],
   "source": [
    "# isalpha checks only the alphabet elements. Any other element would throw a false.\n",
    "\n",
    "b = 'welcome'\n",
    "b.isalpha()"
   ]
  },
  {
   "cell_type": "code",
   "execution_count": 101,
   "id": "e2000f58",
   "metadata": {},
   "outputs": [
    {
     "data": {
      "text/plain": [
       "False"
      ]
     },
     "execution_count": 101,
     "metadata": {},
     "output_type": "execute_result"
    }
   ],
   "source": [
    "c = 'welcome123'\n",
    "c.isalpha()"
   ]
  },
  {
   "cell_type": "code",
   "execution_count": 102,
   "id": "78ca5774",
   "metadata": {},
   "outputs": [
    {
     "data": {
      "text/plain": [
       "True"
      ]
     },
     "execution_count": 102,
     "metadata": {},
     "output_type": "execute_result"
    }
   ],
   "source": [
    "# isdigit checks only the digit or numerical elements. Any other element would throw a false.\n",
    "\n",
    "d = '123'\n",
    "d.isdigit()"
   ]
  },
  {
   "cell_type": "code",
   "execution_count": 103,
   "id": "40eb259e",
   "metadata": {},
   "outputs": [
    {
     "data": {
      "text/plain": [
       "False"
      ]
     },
     "execution_count": 103,
     "metadata": {},
     "output_type": "execute_result"
    }
   ],
   "source": [
    "e = 'Welcome123'\n",
    "e.isdigit()"
   ]
  },
  {
   "cell_type": "code",
   "execution_count": 104,
   "id": "55542e73",
   "metadata": {},
   "outputs": [
    {
     "data": {
      "text/plain": [
       "True"
      ]
     },
     "execution_count": 104,
     "metadata": {},
     "output_type": "execute_result"
    }
   ],
   "source": [
    "# isalnum check both alphabet as well as numbers. However any other element would throw a false, even a space.\n",
    "\n",
    "f = 'Welcome123'\n",
    "f.isalnum()"
   ]
  },
  {
   "cell_type": "code",
   "execution_count": 105,
   "id": "97bf6975",
   "metadata": {},
   "outputs": [
    {
     "data": {
      "text/plain": [
       "False"
      ]
     },
     "execution_count": 105,
     "metadata": {},
     "output_type": "execute_result"
    }
   ],
   "source": [
    "g = 'Welcome@123'\n",
    "g.isalnum()"
   ]
  },
  {
   "cell_type": "markdown",
   "id": "e0ae7735",
   "metadata": {},
   "source": [
    "# Formatting\n",
    "\n",
    "### * Escape Characters\n",
    "### * Raw Strings\n",
    "### * Startswith and Endswith\n",
    "### * Split \n",
    "### * Join\n",
    "### * Strip"
   ]
  },
  {
   "cell_type": "code",
   "execution_count": 106,
   "id": "0ae7e508",
   "metadata": {},
   "outputs": [],
   "source": [
    "# Escape Characters\n",
    "\n",
    "s = 'This is a \\n pen'"
   ]
  },
  {
   "cell_type": "code",
   "execution_count": 107,
   "id": "1ba78620",
   "metadata": {},
   "outputs": [
    {
     "name": "stdout",
     "output_type": "stream",
     "text": [
      "This is a \n",
      " pen\n"
     ]
    }
   ],
   "source": [
    "print(s)"
   ]
  },
  {
   "cell_type": "code",
   "execution_count": 108,
   "id": "b1703365",
   "metadata": {},
   "outputs": [],
   "source": [
    "# Raw Strings\n",
    "\n",
    "s = r'This is a \\n pen'"
   ]
  },
  {
   "cell_type": "code",
   "execution_count": 109,
   "id": "09968f56",
   "metadata": {},
   "outputs": [
    {
     "name": "stdout",
     "output_type": "stream",
     "text": [
      "This is a \\n pen\n"
     ]
    }
   ],
   "source": [
    "print(s)"
   ]
  },
  {
   "cell_type": "code",
   "execution_count": 110,
   "id": "c9757fae",
   "metadata": {},
   "outputs": [
    {
     "data": {
      "text/plain": [
       "True"
      ]
     },
     "execution_count": 110,
     "metadata": {},
     "output_type": "execute_result"
    }
   ],
   "source": [
    "'pen' in s"
   ]
  },
  {
   "cell_type": "code",
   "execution_count": 111,
   "id": "f1fee0cc",
   "metadata": {},
   "outputs": [
    {
     "data": {
      "text/plain": [
       "False"
      ]
     },
     "execution_count": 111,
     "metadata": {},
     "output_type": "execute_result"
    }
   ],
   "source": [
    "'a pen' in s"
   ]
  },
  {
   "cell_type": "code",
   "execution_count": 112,
   "id": "8251afd1",
   "metadata": {},
   "outputs": [
    {
     "data": {
      "text/plain": [
       "False"
      ]
     },
     "execution_count": 112,
     "metadata": {},
     "output_type": "execute_result"
    }
   ],
   "source": [
    "# Startswith and Endswith helps in understanding whether the substring is in first or last position. It is also case sensitive.\n",
    "\n",
    "s.startswith('this')"
   ]
  },
  {
   "cell_type": "code",
   "execution_count": 113,
   "id": "790740b0",
   "metadata": {},
   "outputs": [
    {
     "data": {
      "text/plain": [
       "True"
      ]
     },
     "execution_count": 113,
     "metadata": {},
     "output_type": "execute_result"
    }
   ],
   "source": [
    "s.startswith('This')"
   ]
  },
  {
   "cell_type": "code",
   "execution_count": 114,
   "id": "f06844b5",
   "metadata": {},
   "outputs": [
    {
     "data": {
      "text/plain": [
       "False"
      ]
     },
     "execution_count": 114,
     "metadata": {},
     "output_type": "execute_result"
    }
   ],
   "source": [
    "s.endswith('this')"
   ]
  },
  {
   "cell_type": "code",
   "execution_count": 115,
   "id": "2fa4c755",
   "metadata": {},
   "outputs": [
    {
     "data": {
      "text/plain": [
       "True"
      ]
     },
     "execution_count": 115,
     "metadata": {},
     "output_type": "execute_result"
    }
   ],
   "source": [
    "s.endswith('pen')"
   ]
  },
  {
   "cell_type": "code",
   "execution_count": 133,
   "id": "d3976c9a",
   "metadata": {},
   "outputs": [
    {
     "data": {
      "text/plain": [
       "['This', 'is', 'a', '\\\\n', 'pen']"
      ]
     },
     "execution_count": 133,
     "metadata": {},
     "output_type": "execute_result"
    }
   ],
   "source": [
    "# Split functions splits the string into different sub-string and presents it in a form of a list.\n",
    "\n",
    "v = s.split()\n",
    "v"
   ]
  },
  {
   "cell_type": "code",
   "execution_count": 140,
   "id": "a2fba3d3",
   "metadata": {},
   "outputs": [
    {
     "data": {
      "text/plain": [
       "'This is a \\\\n pen'"
      ]
     },
     "execution_count": 140,
     "metadata": {},
     "output_type": "execute_result"
    }
   ],
   "source": [
    "# Joins the sub-string into single string\n",
    "\n",
    "' '.join(v)"
   ]
  },
  {
   "cell_type": "code",
   "execution_count": 143,
   "id": "180daad0",
   "metadata": {},
   "outputs": [
    {
     "data": {
      "text/plain": [
       "'this is a pen'"
      ]
     },
     "execution_count": 143,
     "metadata": {},
     "output_type": "execute_result"
    }
   ],
   "source": [
    "# Strip function allows you remove extra space in string. You can directly strip or can also use left strip or right strip.\n",
    "\n",
    "a = '      this is a pen     '\n",
    "a.strip()"
   ]
  },
  {
   "cell_type": "code",
   "execution_count": 146,
   "id": "7995abec",
   "metadata": {},
   "outputs": [
    {
     "data": {
      "text/plain": [
       "'this is a pen    '"
      ]
     },
     "execution_count": 146,
     "metadata": {},
     "output_type": "execute_result"
    }
   ],
   "source": [
    "a = '    this is a pen    '\n",
    "a.lstrip()"
   ]
  },
  {
   "cell_type": "code",
   "execution_count": 147,
   "id": "b79ff95e",
   "metadata": {},
   "outputs": [
    {
     "data": {
      "text/plain": [
       "'    this is a pen'"
      ]
     },
     "execution_count": 147,
     "metadata": {},
     "output_type": "execute_result"
    }
   ],
   "source": [
    "a = '    this is a pen    '\n",
    "a.rstrip()"
   ]
  },
  {
   "cell_type": "markdown",
   "id": "46c2ab50",
   "metadata": {},
   "source": [
    "# String Formatting"
   ]
  },
  {
   "cell_type": "code",
   "execution_count": 1,
   "id": "9499f6b3",
   "metadata": {},
   "outputs": [],
   "source": [
    "person = {'name': 'Jenn', 'age': 23}"
   ]
  },
  {
   "cell_type": "code",
   "execution_count": 3,
   "id": "3b0f94ff",
   "metadata": {},
   "outputs": [
    {
     "data": {
      "text/plain": [
       "'My name is Jenn. My age is 23'"
      ]
     },
     "execution_count": 3,
     "metadata": {},
     "output_type": "execute_result"
    }
   ],
   "source": [
    "sentence = 'My name is {}. My age is {}'.format(person['name'], person['age'])\n",
    "sentence"
   ]
  },
  {
   "cell_type": "code",
   "execution_count": 4,
   "id": "5258ad47",
   "metadata": {},
   "outputs": [
    {
     "data": {
      "text/plain": [
       "'My name is Jenn. My age is 23'"
      ]
     },
     "execution_count": 4,
     "metadata": {},
     "output_type": "execute_result"
    }
   ],
   "source": [
    "'My name is {0}. My age is {1}'.format(person['name'], person['age'])"
   ]
  },
  {
   "cell_type": "code",
   "execution_count": 12,
   "id": "c4a6c624",
   "metadata": {},
   "outputs": [
    {
     "data": {
      "text/plain": [
       "'My name is Jenn. My age is 23.'"
      ]
     },
     "execution_count": 12,
     "metadata": {},
     "output_type": "execute_result"
    }
   ],
   "source": [
    "'My name is {0[name]}. My age is {1[age]}.'.format(person, person)"
   ]
  },
  {
   "cell_type": "code",
   "execution_count": 13,
   "id": "b58c83b2",
   "metadata": {},
   "outputs": [
    {
     "data": {
      "text/plain": [
       "'My name is Jenn. My age is 23.'"
      ]
     },
     "execution_count": 13,
     "metadata": {},
     "output_type": "execute_result"
    }
   ],
   "source": [
    "'My name is {0[name]}. My age is {0[age]}.'.format(person)"
   ]
  },
  {
   "cell_type": "code",
   "execution_count": 14,
   "id": "c9740a6c",
   "metadata": {},
   "outputs": [],
   "source": [
    "tag = 'h1'\n",
    "text = 'This is heading'"
   ]
  },
  {
   "cell_type": "code",
   "execution_count": 15,
   "id": "02e8a124",
   "metadata": {},
   "outputs": [
    {
     "data": {
      "text/plain": [
       "'<h1><This is heading></h1>'"
      ]
     },
     "execution_count": 15,
     "metadata": {},
     "output_type": "execute_result"
    }
   ],
   "source": [
    "'<{0}><{1}></{0}>'.format(tag, text)"
   ]
  },
  {
   "cell_type": "code",
   "execution_count": 16,
   "id": "36fbf203",
   "metadata": {},
   "outputs": [],
   "source": [
    "class Person():\n",
    "    def __init__(self, name, age):\n",
    "        self.name = name\n",
    "        self.age = age\n",
    "p1 = Person('Jenn', 23)"
   ]
  },
  {
   "cell_type": "code",
   "execution_count": 17,
   "id": "9e6ccd64",
   "metadata": {},
   "outputs": [
    {
     "data": {
      "text/plain": [
       "'My name is Jenn. My age is 23.'"
      ]
     },
     "execution_count": 17,
     "metadata": {},
     "output_type": "execute_result"
    }
   ],
   "source": [
    "'My name is {0.name}. My age is {0.age}.'.format(p1)"
   ]
  },
  {
   "cell_type": "code",
   "execution_count": 18,
   "id": "9ce2a609",
   "metadata": {},
   "outputs": [
    {
     "data": {
      "text/plain": [
       "'My name is Jenn. My age is 23.'"
      ]
     },
     "execution_count": 18,
     "metadata": {},
     "output_type": "execute_result"
    }
   ],
   "source": [
    "'My name is {name}. My age is {age}.'.format(name = 'Jenn', age = 23)"
   ]
  },
  {
   "cell_type": "code",
   "execution_count": 21,
   "id": "9f8e0d11",
   "metadata": {},
   "outputs": [
    {
     "name": "stdout",
     "output_type": "stream",
     "text": [
      "The value is 1.\n",
      "The value is 2.\n",
      "The value is 3.\n",
      "The value is 4.\n",
      "The value is 5.\n",
      "The value is 6.\n",
      "The value is 7.\n",
      "The value is 8.\n",
      "The value is 9.\n",
      "The value is 10.\n"
     ]
    }
   ],
   "source": [
    "for i in range(1,11):\n",
    "    sentence = 'The value is {}.'.format(i)\n",
    "    print(sentence)"
   ]
  },
  {
   "cell_type": "code",
   "execution_count": 25,
   "id": "7cab670e",
   "metadata": {},
   "outputs": [
    {
     "name": "stdout",
     "output_type": "stream",
     "text": [
      "The value is 01.\n",
      "The value is 02.\n",
      "The value is 03.\n",
      "The value is 04.\n",
      "The value is 05.\n",
      "The value is 06.\n",
      "The value is 07.\n",
      "The value is 08.\n",
      "The value is 09.\n",
      "The value is 10.\n"
     ]
    }
   ],
   "source": [
    "# Formating for zero before a number\n",
    "\n",
    "for i in range(1,11):\n",
    "    sentence = 'The value is {:02}.'.format(i)\n",
    "    print(sentence)"
   ]
  },
  {
   "cell_type": "code",
   "execution_count": 26,
   "id": "871cab14",
   "metadata": {},
   "outputs": [
    {
     "name": "stdout",
     "output_type": "stream",
     "text": [
      "The value is 001.\n",
      "The value is 002.\n",
      "The value is 003.\n",
      "The value is 004.\n",
      "The value is 005.\n",
      "The value is 006.\n",
      "The value is 007.\n",
      "The value is 008.\n",
      "The value is 009.\n",
      "The value is 010.\n"
     ]
    }
   ],
   "source": [
    "for i in range(1,11):\n",
    "    sentence = 'The value is {:03}.'.format(i)\n",
    "    print(sentence)"
   ]
  },
  {
   "cell_type": "code",
   "execution_count": 27,
   "id": "ee8f1c13",
   "metadata": {},
   "outputs": [
    {
     "data": {
      "text/plain": [
       "'Pi is equal to 3.14'"
      ]
     },
     "execution_count": 27,
     "metadata": {},
     "output_type": "execute_result"
    }
   ],
   "source": [
    "# Formating for decimals after point (:.xf)\n",
    "\n",
    "pi = 3.14159265\n",
    "'Pi is equal to {:.2f}'.format(pi)"
   ]
  },
  {
   "cell_type": "code",
   "execution_count": 28,
   "id": "1a12fd7d",
   "metadata": {},
   "outputs": [
    {
     "data": {
      "text/plain": [
       "'Pi is equal to 3.142'"
      ]
     },
     "execution_count": 28,
     "metadata": {},
     "output_type": "execute_result"
    }
   ],
   "source": [
    "pi = 3.14159265\n",
    "'Pi is equal to {:.3f}'.format(pi)"
   ]
  },
  {
   "cell_type": "code",
   "execution_count": 29,
   "id": "671d4cd8",
   "metadata": {},
   "outputs": [
    {
     "data": {
      "text/plain": [
       "'1 mb is equal to 1000000 bytes'"
      ]
     },
     "execution_count": 29,
     "metadata": {},
     "output_type": "execute_result"
    }
   ],
   "source": [
    "'1 mb is equal to {} bytes'.format(1000**2)"
   ]
  },
  {
   "cell_type": "code",
   "execution_count": 39,
   "id": "5d0142f6",
   "metadata": {},
   "outputs": [
    {
     "data": {
      "text/plain": [
       "'1 mb is equal to 1,000,000 bytes'"
      ]
     },
     "execution_count": 39,
     "metadata": {},
     "output_type": "execute_result"
    }
   ],
   "source": [
    "'1 mb is equal to {:,} bytes'.format(1000**2)"
   ]
  },
  {
   "cell_type": "code",
   "execution_count": 31,
   "id": "fea7583f",
   "metadata": {},
   "outputs": [
    {
     "data": {
      "text/plain": [
       "'1 mb is equal to 1,000,000.00 bytes'"
      ]
     },
     "execution_count": 31,
     "metadata": {},
     "output_type": "execute_result"
    }
   ],
   "source": [
    "'1 mb is equal to {:,.2f} bytes'.format(1000**2)"
   ]
  },
  {
   "cell_type": "code",
   "execution_count": 40,
   "id": "5977a999",
   "metadata": {},
   "outputs": [
    {
     "name": "stdout",
     "output_type": "stream",
     "text": [
      "2022-01-06 20:56:34\n"
     ]
    }
   ],
   "source": [
    "# Datetime Formatting\n",
    "\n",
    "import datetime\n",
    "my_date = datetime.datetime(2022, 1, 6, 20, 56, 34)\n",
    "print(my_date)"
   ]
  },
  {
   "cell_type": "code",
   "execution_count": 41,
   "id": "07b8ee74",
   "metadata": {},
   "outputs": [
    {
     "data": {
      "text/plain": [
       "'Today is January 06, 2022 falls on a Thursday which is 006 day of the year.'"
      ]
     },
     "execution_count": 41,
     "metadata": {},
     "output_type": "execute_result"
    }
   ],
   "source": [
    "# Today is January 06, 2022 falls on a Thursday which is 006 day of the year. \n",
    "\n",
    "'Today is {0:%B %d, %Y} falls on a {0:%A} which is {0:%j} day of the year.'.format(my_date)"
   ]
  },
  {
   "cell_type": "markdown",
   "id": "418825f8",
   "metadata": {},
   "source": [
    "## F-string"
   ]
  },
  {
   "cell_type": "code",
   "execution_count": 42,
   "id": "19a5372d",
   "metadata": {},
   "outputs": [],
   "source": [
    "first_name = 'Karn'\n",
    "last_name = 'Srivastava'"
   ]
  },
  {
   "cell_type": "code",
   "execution_count": 44,
   "id": "c736f939",
   "metadata": {},
   "outputs": [
    {
     "data": {
      "text/plain": [
       "'My first name is Karn and my last name is Srivastava.'"
      ]
     },
     "execution_count": 44,
     "metadata": {},
     "output_type": "execute_result"
    }
   ],
   "source": [
    "'My first name is {} and my last name is {}.'.format(first_name, last_name)"
   ]
  },
  {
   "cell_type": "code",
   "execution_count": 45,
   "id": "a9fae1f1",
   "metadata": {},
   "outputs": [
    {
     "data": {
      "text/plain": [
       "'My first name is Karn and my last name is Srivastava.'"
      ]
     },
     "execution_count": 45,
     "metadata": {},
     "output_type": "execute_result"
    }
   ],
   "source": [
    "f'My first name is {first_name} and my last name is {last_name}.'"
   ]
  },
  {
   "cell_type": "code",
   "execution_count": 46,
   "id": "9f39a6e5",
   "metadata": {},
   "outputs": [
    {
     "data": {
      "text/plain": [
       "'My first name is KARN and my last name is SRIVASTAVA.'"
      ]
     },
     "execution_count": 46,
     "metadata": {},
     "output_type": "execute_result"
    }
   ],
   "source": [
    "# You can work with these as well\n",
    "\n",
    "f'My first name is {first_name.upper()} and my last name is {last_name.upper()}.'"
   ]
  },
  {
   "cell_type": "code",
   "execution_count": 47,
   "id": "c6768c75",
   "metadata": {},
   "outputs": [
    {
     "ename": "SyntaxError",
     "evalue": "invalid syntax (<ipython-input-47-2b598f3a8b00>, line 2)",
     "output_type": "error",
     "traceback": [
      "\u001b[1;36m  File \u001b[1;32m\"<ipython-input-47-2b598f3a8b00>\"\u001b[1;36m, line \u001b[1;32m2\u001b[0m\n\u001b[1;33m    f'My first name is {person['name']} and my last name is {person['age']}.'\u001b[0m\n\u001b[1;37m                                ^\u001b[0m\n\u001b[1;31mSyntaxError\u001b[0m\u001b[1;31m:\u001b[0m invalid syntax\n"
     ]
    }
   ],
   "source": [
    "person = {'name': 'Jenn', 'age': 23}\n",
    "f'My first name is {person['name']} and my last name is {person['age']}.'"
   ]
  },
  {
   "cell_type": "markdown",
   "id": "bc2c440a",
   "metadata": {},
   "source": [
    "#### The above shows an invalid syntax because the opening ' ' syntax (single quotes) coincides with the ' '  (single quotes) of person['name']. To tackle with that, open the string with double quotes. The problem is now fixed below."
   ]
  },
  {
   "cell_type": "code",
   "execution_count": 48,
   "id": "1a752792",
   "metadata": {},
   "outputs": [
    {
     "data": {
      "text/plain": [
       "'My first name is Jenn and my last name is 23.'"
      ]
     },
     "execution_count": 48,
     "metadata": {},
     "output_type": "execute_result"
    }
   ],
   "source": [
    "f\"My first name is {person['name']} and my last name is {person['age']}.\""
   ]
  },
  {
   "cell_type": "code",
   "execution_count": 50,
   "id": "2835c766",
   "metadata": {},
   "outputs": [
    {
     "data": {
      "text/plain": [
       "'4 times 11 equals 44'"
      ]
     },
     "execution_count": 50,
     "metadata": {},
     "output_type": "execute_result"
    }
   ],
   "source": [
    "# You can also perform calculations inside {} with f-string.\n",
    "\n",
    "f'4 times 11 equals {4*11}'"
   ]
  },
  {
   "cell_type": "code",
   "execution_count": 54,
   "id": "211b9615",
   "metadata": {},
   "outputs": [
    {
     "name": "stdout",
     "output_type": "stream",
     "text": [
      "The value of 2 * 0 = 00\n",
      "The value of 2 * 1 = 02\n",
      "The value of 2 * 2 = 04\n",
      "The value of 2 * 3 = 06\n",
      "The value of 2 * 4 = 08\n",
      "The value of 2 * 5 = 10\n",
      "The value of 2 * 6 = 12\n",
      "The value of 2 * 7 = 14\n",
      "The value of 2 * 8 = 16\n",
      "The value of 2 * 9 = 18\n",
      "The value of 2 * 10 = 20\n"
     ]
    }
   ],
   "source": [
    "for i in range(11):\n",
    "    sent = f'The value of 2 * {i} = {i*2:02}'\n",
    "    print(sent)"
   ]
  },
  {
   "cell_type": "code",
   "execution_count": 55,
   "id": "88418c62",
   "metadata": {},
   "outputs": [
    {
     "data": {
      "text/plain": [
       "'Pi is equal to 3.142'"
      ]
     },
     "execution_count": 55,
     "metadata": {},
     "output_type": "execute_result"
    }
   ],
   "source": [
    "pi = 3.14159265\n",
    "f'Pi is equal to {pi:.3f}'"
   ]
  },
  {
   "cell_type": "code",
   "execution_count": 57,
   "id": "38787a6c",
   "metadata": {},
   "outputs": [
    {
     "name": "stdout",
     "output_type": "stream",
     "text": [
      "1999-09-09 00:00:00\n"
     ]
    }
   ],
   "source": [
    "from datetime import datetime\n",
    "birth = datetime(1999, 9, 9)\n",
    "print(birth)"
   ]
  },
  {
   "cell_type": "code",
   "execution_count": 60,
   "id": "2ef59115",
   "metadata": {},
   "outputs": [
    {
     "data": {
      "text/plain": [
       "'Uttam was born on 09 September, 1999'"
      ]
     },
     "execution_count": 60,
     "metadata": {},
     "output_type": "execute_result"
    }
   ],
   "source": [
    "f'Uttam was born on {birth:%d %B, %Y}'"
   ]
  },
  {
   "cell_type": "code",
   "execution_count": null,
   "id": "6184a278",
   "metadata": {},
   "outputs": [],
   "source": []
  }
 ],
 "metadata": {
  "kernelspec": {
   "display_name": "Python 3",
   "language": "python",
   "name": "python3"
  },
  "language_info": {
   "codemirror_mode": {
    "name": "ipython",
    "version": 3
   },
   "file_extension": ".py",
   "mimetype": "text/x-python",
   "name": "python",
   "nbconvert_exporter": "python",
   "pygments_lexer": "ipython3",
   "version": "3.8.8"
  }
 },
 "nbformat": 4,
 "nbformat_minor": 5
}
