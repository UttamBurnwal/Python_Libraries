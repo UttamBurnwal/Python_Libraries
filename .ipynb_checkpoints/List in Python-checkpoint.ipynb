{
 "cells": [
  {
   "cell_type": "code",
   "execution_count": 1,
   "id": "a5b084fa",
   "metadata": {},
   "outputs": [],
   "source": [
    "grocery = ['Harpic', 'vim', 'veges', 'lollipop']"
   ]
  },
  {
   "cell_type": "code",
   "execution_count": 2,
   "id": "3c704f62",
   "metadata": {},
   "outputs": [
    {
     "data": {
      "text/plain": [
       "['Harpic', 'vim', 'veges', 'lollipop']"
      ]
     },
     "execution_count": 2,
     "metadata": {},
     "output_type": "execute_result"
    }
   ],
   "source": [
    "grocery"
   ]
  },
  {
   "cell_type": "code",
   "execution_count": 11,
   "id": "abcf368f",
   "metadata": {},
   "outputs": [],
   "source": [
    "# Int can be also be entered in the list\n",
    "# list position starts from 0, 1, 2, .......\n",
    "\n",
    "grocery = ['Harpic', 'vim', 'veges', 'lollipop', 56]"
   ]
  },
  {
   "cell_type": "code",
   "execution_count": 12,
   "id": "74a9db9a",
   "metadata": {},
   "outputs": [
    {
     "data": {
      "text/plain": [
       "56"
      ]
     },
     "execution_count": 12,
     "metadata": {},
     "output_type": "execute_result"
    }
   ],
   "source": [
    "grocery[4]"
   ]
  },
  {
   "cell_type": "code",
   "execution_count": 25,
   "id": "174af3dc",
   "metadata": {},
   "outputs": [
    {
     "data": {
      "text/plain": [
       "[2, 7, 8, 9, 2, 4]"
      ]
     },
     "execution_count": 25,
     "metadata": {},
     "output_type": "execute_result"
    }
   ],
   "source": [
    "lott_num = [2, 7, 8, 9, 2, 4]\n",
    "lott_num"
   ]
  },
  {
   "cell_type": "code",
   "execution_count": 26,
   "id": "0f28569c",
   "metadata": {},
   "outputs": [
    {
     "data": {
      "text/plain": [
       "[2, 2, 4, 7, 8, 9]"
      ]
     },
     "execution_count": 26,
     "metadata": {},
     "output_type": "execute_result"
    }
   ],
   "source": [
    "# Sorting Ascending order\n",
    "\n",
    "lott_num.sort()\n",
    "lott_num"
   ]
  },
  {
   "cell_type": "code",
   "execution_count": 27,
   "id": "fb200d2b",
   "metadata": {},
   "outputs": [
    {
     "data": {
      "text/plain": [
       "[9, 8, 7, 4, 2, 2]"
      ]
     },
     "execution_count": 27,
     "metadata": {},
     "output_type": "execute_result"
    }
   ],
   "source": [
    "# Sorting Descending order\n",
    "\n",
    "lott_num.sort(reverse = True)\n",
    "lott_num"
   ]
  },
  {
   "cell_type": "markdown",
   "id": "2c373332",
   "metadata": {},
   "source": [
    "## Sort and Reverse Functions change the original list, while slicing does not affect the original list"
   ]
  },
  {
   "cell_type": "code",
   "execution_count": 28,
   "id": "b6cffc9f",
   "metadata": {},
   "outputs": [
    {
     "data": {
      "text/plain": [
       "[8, 7, 4, 2]"
      ]
     },
     "execution_count": 28,
     "metadata": {},
     "output_type": "execute_result"
    }
   ],
   "source": [
    "lott_num[1:5]"
   ]
  },
  {
   "cell_type": "code",
   "execution_count": 30,
   "id": "8c63ce01",
   "metadata": {},
   "outputs": [
    {
     "data": {
      "text/plain": [
       "[9, 8, 7, 4, 2, 2, 3, 3]"
      ]
     },
     "execution_count": 30,
     "metadata": {},
     "output_type": "execute_result"
    }
   ],
   "source": [
    "# Append: Adds elements only in the end\n",
    "\n",
    "lott_num.append(3)\n",
    "lott_num"
   ]
  },
  {
   "cell_type": "code",
   "execution_count": 37,
   "id": "b04bce19",
   "metadata": {},
   "outputs": [
    {
     "data": {
      "text/plain": [
       "[9, 74, 8, 7, 4, 2, 2, 3, 3]"
      ]
     },
     "execution_count": 37,
     "metadata": {},
     "output_type": "execute_result"
    }
   ],
   "source": [
    "# Insert: Can add element in any position(at any index)\n",
    "\n",
    "lott_num.insert(1, 74)\n",
    "lott_num"
   ]
  },
  {
   "cell_type": "code",
   "execution_count": 38,
   "id": "077697de",
   "metadata": {},
   "outputs": [
    {
     "data": {
      "text/plain": [
       "[9, 8, 7, 4, 2, 2, 3, 3]"
      ]
     },
     "execution_count": 38,
     "metadata": {},
     "output_type": "execute_result"
    }
   ],
   "source": [
    "# Remove: Can remove any element; however it does not take any position as an argument\n",
    "\n",
    "lott_num.remove(74)\n",
    "lott_num"
   ]
  },
  {
   "cell_type": "code",
   "execution_count": 39,
   "id": "069c5499",
   "metadata": {},
   "outputs": [
    {
     "data": {
      "text/plain": [
       "[9, 8, 7, 4, 2, 2, 3]"
      ]
     },
     "execution_count": 39,
     "metadata": {},
     "output_type": "execute_result"
    }
   ],
   "source": [
    "# Pop: Removes elements only in the end\n",
    "\n",
    "lott_num.pop()\n",
    "lott_num"
   ]
  },
  {
   "cell_type": "code",
   "execution_count": 40,
   "id": "5eb7da67",
   "metadata": {},
   "outputs": [
    {
     "data": {
      "text/plain": [
       "[9, 98, 7, 4, 2, 2, 3]"
      ]
     },
     "execution_count": 40,
     "metadata": {},
     "output_type": "execute_result"
    }
   ],
   "source": [
    "# List is mutable: The elements in the list are easy to change. To deal with this issue we use Tuple as they are immutable. \n",
    "\n",
    "lott_num[1] = 98\n",
    "lott_num"
   ]
  },
  {
   "cell_type": "markdown",
   "id": "e437c593",
   "metadata": {},
   "source": [
    "## Tuple"
   ]
  },
  {
   "cell_type": "code",
   "execution_count": 45,
   "id": "90a10035",
   "metadata": {},
   "outputs": [
    {
     "data": {
      "text/plain": [
       "(1, 2, 3)"
      ]
     },
     "execution_count": 45,
     "metadata": {},
     "output_type": "execute_result"
    }
   ],
   "source": [
    "tp = (1, 2, 3)\n",
    "tp"
   ]
  },
  {
   "cell_type": "code",
   "execution_count": 46,
   "id": "a2061bdf",
   "metadata": {},
   "outputs": [
    {
     "ename": "TypeError",
     "evalue": "'tuple' object does not support item assignment",
     "output_type": "error",
     "traceback": [
      "\u001b[1;31m---------------------------------------------------------------------------\u001b[0m",
      "\u001b[1;31mTypeError\u001b[0m                                 Traceback (most recent call last)",
      "\u001b[1;32m<ipython-input-46-747074be2e68>\u001b[0m in \u001b[0;36m<module>\u001b[1;34m\u001b[0m\n\u001b[1;32m----> 1\u001b[1;33m \u001b[0mtp\u001b[0m\u001b[1;33m[\u001b[0m\u001b[1;36m1\u001b[0m\u001b[1;33m]\u001b[0m \u001b[1;33m=\u001b[0m \u001b[1;36m56\u001b[0m\u001b[1;33m\u001b[0m\u001b[1;33m\u001b[0m\u001b[0m\n\u001b[0m",
      "\u001b[1;31mTypeError\u001b[0m: 'tuple' object does not support item assignment"
     ]
    }
   ],
   "source": [
    "tp[1] = 56"
   ]
  },
  {
   "cell_type": "markdown",
   "id": "fb771954",
   "metadata": {},
   "source": [
    "## It can be seen from above that tuple is immutable unlike list which is mutable"
   ]
  },
  {
   "cell_type": "code",
   "execution_count": 41,
   "id": "6082a6f0",
   "metadata": {},
   "outputs": [
    {
     "data": {
      "text/plain": [
       "(8, 1)"
      ]
     },
     "execution_count": 41,
     "metadata": {},
     "output_type": "execute_result"
    }
   ],
   "source": [
    "# Swapping Values\n",
    "\n",
    "a = 1\n",
    "b = 8\n",
    "temp = a\n",
    "a = b\n",
    "b = temp\n",
    "a, b"
   ]
  },
  {
   "cell_type": "code",
   "execution_count": 44,
   "id": "7073ce93",
   "metadata": {},
   "outputs": [
    {
     "data": {
      "text/plain": [
       "(8, 1)"
      ]
     },
     "execution_count": 44,
     "metadata": {},
     "output_type": "execute_result"
    }
   ],
   "source": [
    "# Swapping Values (Quick Alternative)\n",
    "\n",
    "a = 1\n",
    "b = 8\n",
    "a, b = b , a\n",
    "a, b"
   ]
  },
  {
   "cell_type": "code",
   "execution_count": 50,
   "id": "c62e2099",
   "metadata": {},
   "outputs": [
    {
     "name": "stdout",
     "output_type": "stream",
     "text": [
      "9\n",
      "98\n",
      "7\n",
      "4\n",
      "2\n",
      "2\n",
      "3\n"
     ]
    }
   ],
   "source": [
    "for i in lott_num:\n",
    "    print(i)"
   ]
  },
  {
   "cell_type": "code",
   "execution_count": null,
   "id": "8e461e61",
   "metadata": {},
   "outputs": [],
   "source": []
  }
 ],
 "metadata": {
  "kernelspec": {
   "display_name": "Python 3",
   "language": "python",
   "name": "python3"
  },
  "language_info": {
   "codemirror_mode": {
    "name": "ipython",
    "version": 3
   },
   "file_extension": ".py",
   "mimetype": "text/x-python",
   "name": "python",
   "nbconvert_exporter": "python",
   "pygments_lexer": "ipython3",
   "version": "3.8.8"
  }
 },
 "nbformat": 4,
 "nbformat_minor": 5
}
