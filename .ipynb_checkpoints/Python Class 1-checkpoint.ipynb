{
 "cells": [
  {
   "cell_type": "code",
   "execution_count": 3,
   "id": "670588c6",
   "metadata": {},
   "outputs": [
    {
     "name": "stdout",
     "output_type": "stream",
     "text": [
      "hello world!!\n"
     ]
    }
   ],
   "source": [
    "print(\"hello world!!\")"
   ]
  },
  {
   "cell_type": "code",
   "execution_count": 25,
   "id": "7da4cb21",
   "metadata": {},
   "outputs": [],
   "source": [
    "#syllabus for Day 1\n",
    "\n",
    "# Variables\n",
    "#=declare vaiables\n",
    "#=types of variables\n",
    "#=assigning literals\n",
    "\n",
    "#Data types\n",
    "#=Mutables\n",
    "#=Immutable"
   ]
  },
  {
   "cell_type": "code",
   "execution_count": 36,
   "id": "3d61b0a5",
   "metadata": {},
   "outputs": [],
   "source": [
    "# shift+ enter= shortcut to run function\n",
    "# alt+enter = run cell and insert below\n",
    "# ctrl + enter = run selected cell"
   ]
  },
  {
   "cell_type": "code",
   "execution_count": 13,
   "id": "1e2049fe",
   "metadata": {
    "scrolled": true
   },
   "outputs": [],
   "source": [
    "a = 18 #declaring variable"
   ]
  },
  {
   "cell_type": "code",
   "execution_count": 15,
   "id": "05c55c84",
   "metadata": {},
   "outputs": [
    {
     "data": {
      "text/plain": [
       "18"
      ]
     },
     "execution_count": 15,
     "metadata": {},
     "output_type": "execute_result"
    }
   ],
   "source": [
    "a"
   ]
  },
  {
   "cell_type": "code",
   "execution_count": 16,
   "id": "88f5b97c",
   "metadata": {},
   "outputs": [],
   "source": [
    "#Variables = containers that are neutral, which can store any value or information on it\n",
    "#literal = information that will be stored in variable"
   ]
  },
  {
   "cell_type": "code",
   "execution_count": 17,
   "id": "a8bed725",
   "metadata": {},
   "outputs": [
    {
     "data": {
      "text/plain": [
       "int"
      ]
     },
     "execution_count": 17,
     "metadata": {},
     "output_type": "execute_result"
    }
   ],
   "source": [
    "type(a)"
   ]
  },
  {
   "cell_type": "code",
   "execution_count": 19,
   "id": "d3a70d72",
   "metadata": {},
   "outputs": [],
   "source": [
    "a = 45.5"
   ]
  },
  {
   "cell_type": "code",
   "execution_count": 20,
   "id": "909b4265",
   "metadata": {},
   "outputs": [
    {
     "data": {
      "text/plain": [
       "45.5"
      ]
     },
     "execution_count": 20,
     "metadata": {},
     "output_type": "execute_result"
    }
   ],
   "source": [
    "a"
   ]
  },
  {
   "cell_type": "code",
   "execution_count": 21,
   "id": "3c25ea77",
   "metadata": {},
   "outputs": [
    {
     "data": {
      "text/plain": [
       "float"
      ]
     },
     "execution_count": 21,
     "metadata": {},
     "output_type": "execute_result"
    }
   ],
   "source": [
    "type(a)"
   ]
  },
  {
   "cell_type": "code",
   "execution_count": 22,
   "id": "31bfb286",
   "metadata": {},
   "outputs": [],
   "source": [
    "a = 'python'"
   ]
  },
  {
   "cell_type": "code",
   "execution_count": 23,
   "id": "6e4d6233",
   "metadata": {},
   "outputs": [
    {
     "data": {
      "text/plain": [
       "'python'"
      ]
     },
     "execution_count": 23,
     "metadata": {},
     "output_type": "execute_result"
    }
   ],
   "source": [
    "a"
   ]
  },
  {
   "cell_type": "code",
   "execution_count": 24,
   "id": "733f3637",
   "metadata": {},
   "outputs": [
    {
     "data": {
      "text/plain": [
       "str"
      ]
     },
     "execution_count": 24,
     "metadata": {},
     "output_type": "execute_result"
    }
   ],
   "source": [
    "type (a)"
   ]
  },
  {
   "cell_type": "code",
   "execution_count": 29,
   "id": "7848637e",
   "metadata": {},
   "outputs": [],
   "source": [
    "#Case sensitive\n",
    "\n",
    "a= 10\n",
    "A=12"
   ]
  },
  {
   "cell_type": "code",
   "execution_count": 30,
   "id": "0b11e718",
   "metadata": {},
   "outputs": [
    {
     "data": {
      "text/plain": [
       "(12, 10)"
      ]
     },
     "execution_count": 30,
     "metadata": {},
     "output_type": "execute_result"
    }
   ],
   "source": [
    "A, a"
   ]
  },
  {
   "cell_type": "code",
   "execution_count": 31,
   "id": "5db9d629",
   "metadata": {},
   "outputs": [],
   "source": [
    "# 3 Golden Rules to declrae variables\n",
    "\n",
    "#1: Don't use the keywords which have pre-defined functionality; ex: print, def, type, and so on\n",
    "#2: It should always start with letter and not numeric value or number. Ony underscore is allowed apart from letters.\n",
    "#3: It cannot have any special symbol, except underscore"
   ]
  },
  {
   "cell_type": "code",
   "execution_count": 37,
   "id": "6b89984c",
   "metadata": {},
   "outputs": [],
   "source": [
    "# Assigningg literals (information)to variables\n",
    "# Static way= Assigning values manually\n",
    "# Dynamic way or User definbed variable = Assign the value at run time"
   ]
  },
  {
   "cell_type": "code",
   "execution_count": 41,
   "id": "6687a7a4",
   "metadata": {},
   "outputs": [
    {
     "name": "stdout",
     "output_type": "stream",
     "text": [
      "Enter the number45\n"
     ]
    }
   ],
   "source": [
    "#Dynamic way = user defined variable\n",
    "# in built input\n",
    "# syntax variable = input ('Enter message shown asking input')\n",
    "\n",
    "h= input('Enter the number')"
   ]
  },
  {
   "cell_type": "code",
   "execution_count": 42,
   "id": "001ab729",
   "metadata": {},
   "outputs": [
    {
     "data": {
      "text/plain": [
       "'45'"
      ]
     },
     "execution_count": 42,
     "metadata": {},
     "output_type": "execute_result"
    }
   ],
   "source": [
    "h"
   ]
  },
  {
   "cell_type": "code",
   "execution_count": 43,
   "id": "d6de5275",
   "metadata": {},
   "outputs": [
    {
     "data": {
      "text/plain": [
       "str"
      ]
     },
     "execution_count": 43,
     "metadata": {},
     "output_type": "execute_result"
    }
   ],
   "source": [
    "type(h)"
   ]
  },
  {
   "cell_type": "code",
   "execution_count": null,
   "id": "4a1affaa",
   "metadata": {},
   "outputs": [],
   "source": [
    "# type casting = converting one data format to another\n",
    "# data format to integer = int()\n",
    "# data format to float = float()"
   ]
  },
  {
   "cell_type": "code",
   "execution_count": 47,
   "id": "ff096535",
   "metadata": {},
   "outputs": [],
   "source": [
    "h = int(h)"
   ]
  },
  {
   "cell_type": "code",
   "execution_count": 48,
   "id": "29a2379e",
   "metadata": {},
   "outputs": [
    {
     "data": {
      "text/plain": [
       "55"
      ]
     },
     "execution_count": 48,
     "metadata": {},
     "output_type": "execute_result"
    }
   ],
   "source": [
    "h+10"
   ]
  },
  {
   "cell_type": "code",
   "execution_count": 49,
   "id": "8ecfe755",
   "metadata": {},
   "outputs": [
    {
     "name": "stdout",
     "output_type": "stream",
     "text": [
      "Enter the number45\n"
     ]
    }
   ],
   "source": [
    "h= input('Enter the number')"
   ]
  },
  {
   "cell_type": "code",
   "execution_count": 50,
   "id": "c6f35f55",
   "metadata": {},
   "outputs": [
    {
     "data": {
      "text/plain": [
       "'45'"
      ]
     },
     "execution_count": 50,
     "metadata": {},
     "output_type": "execute_result"
    }
   ],
   "source": [
    "h"
   ]
  },
  {
   "cell_type": "code",
   "execution_count": 53,
   "id": "38049742",
   "metadata": {},
   "outputs": [
    {
     "name": "stdout",
     "output_type": "stream",
     "text": [
      "Enter the number45\n"
     ]
    }
   ],
   "source": [
    "h = int(input('Enter the number'))"
   ]
  },
  {
   "cell_type": "code",
   "execution_count": 54,
   "id": "c0cfe7a8",
   "metadata": {},
   "outputs": [
    {
     "data": {
      "text/plain": [
       "45"
      ]
     },
     "execution_count": 54,
     "metadata": {},
     "output_type": "execute_result"
    }
   ],
   "source": [
    "h"
   ]
  },
  {
   "cell_type": "code",
   "execution_count": 55,
   "id": "05219aa9",
   "metadata": {},
   "outputs": [
    {
     "name": "stdout",
     "output_type": "stream",
     "text": [
      "Enter the NameJohn\n"
     ]
    }
   ],
   "source": [
    "t = input('Enter the Name')"
   ]
  },
  {
   "cell_type": "code",
   "execution_count": 56,
   "id": "d9001abf",
   "metadata": {},
   "outputs": [
    {
     "data": {
      "text/plain": [
       "'John'"
      ]
     },
     "execution_count": 56,
     "metadata": {},
     "output_type": "execute_result"
    }
   ],
   "source": [
    "t"
   ]
  },
  {
   "cell_type": "code",
   "execution_count": 57,
   "id": "d165409b",
   "metadata": {},
   "outputs": [],
   "source": [
    "a = 'John'\n",
    "b = 'Cena'"
   ]
  },
  {
   "cell_type": "code",
   "execution_count": 58,
   "id": "e226a8bb",
   "metadata": {},
   "outputs": [
    {
     "data": {
      "text/plain": [
       "'JohnCena'"
      ]
     },
     "execution_count": 58,
     "metadata": {},
     "output_type": "execute_result"
    }
   ],
   "source": [
    "a+b"
   ]
  },
  {
   "cell_type": "code",
   "execution_count": 59,
   "id": "d0551d00",
   "metadata": {},
   "outputs": [],
   "source": [
    "#Data type\n",
    "\n",
    "#Mutable: in which information store can be changed or altered, even after they are declared. (List, Dictionary, set)\n",
    "\n",
    "# Immutable: in which information store cannot be changed once they have been declared (Tuples, strings)"
   ]
  },
  {
   "cell_type": "code",
   "execution_count": null,
   "id": "8123bd3f",
   "metadata": {},
   "outputs": [],
   "source": []
  },
  {
   "cell_type": "code",
   "execution_count": null,
   "id": "0237d156",
   "metadata": {},
   "outputs": [],
   "source": []
  },
  {
   "cell_type": "code",
   "execution_count": null,
   "id": "f922021e",
   "metadata": {},
   "outputs": [],
   "source": []
  },
  {
   "cell_type": "code",
   "execution_count": null,
   "id": "5e0d462f",
   "metadata": {},
   "outputs": [],
   "source": []
  },
  {
   "cell_type": "code",
   "execution_count": null,
   "id": "e67cb662",
   "metadata": {},
   "outputs": [],
   "source": []
  },
  {
   "cell_type": "code",
   "execution_count": null,
   "id": "47849004",
   "metadata": {},
   "outputs": [],
   "source": []
  },
  {
   "cell_type": "code",
   "execution_count": null,
   "id": "a1c15214",
   "metadata": {},
   "outputs": [],
   "source": []
  },
  {
   "cell_type": "code",
   "execution_count": null,
   "id": "fc0dd357",
   "metadata": {},
   "outputs": [],
   "source": []
  },
  {
   "cell_type": "code",
   "execution_count": null,
   "id": "4d332f9c",
   "metadata": {},
   "outputs": [],
   "source": []
  },
  {
   "cell_type": "code",
   "execution_count": null,
   "id": "dd74a7b7",
   "metadata": {},
   "outputs": [],
   "source": []
  },
  {
   "cell_type": "code",
   "execution_count": null,
   "id": "1f909f87",
   "metadata": {},
   "outputs": [],
   "source": []
  }
 ],
 "metadata": {
  "kernelspec": {
   "display_name": "Python 3",
   "language": "python",
   "name": "python3"
  },
  "language_info": {
   "codemirror_mode": {
    "name": "ipython",
    "version": 3
   },
   "file_extension": ".py",
   "mimetype": "text/x-python",
   "name": "python",
   "nbconvert_exporter": "python",
   "pygments_lexer": "ipython3",
   "version": "3.8.8"
  }
 },
 "nbformat": 4,
 "nbformat_minor": 5
}
