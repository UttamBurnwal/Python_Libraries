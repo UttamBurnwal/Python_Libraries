{
 "cells": [
  {
   "cell_type": "markdown",
   "id": "89fe4afb",
   "metadata": {},
   "source": [
    "# String\n",
    "#Immutable data type"
   ]
  },
  {
   "cell_type": "code",
   "execution_count": 2,
   "id": "24ede7cc",
   "metadata": {},
   "outputs": [],
   "source": [
    "x='PYTHON'"
   ]
  },
  {
   "cell_type": "code",
   "execution_count": 3,
   "id": "358bdf72",
   "metadata": {},
   "outputs": [
    {
     "data": {
      "text/plain": [
       "'PYTHON'"
      ]
     },
     "execution_count": 3,
     "metadata": {},
     "output_type": "execute_result"
    }
   ],
   "source": [
    "x"
   ]
  },
  {
   "cell_type": "code",
   "execution_count": 12,
   "id": "7895e60e",
   "metadata": {},
   "outputs": [],
   "source": [
    "# Assessing and extracting elements from collection\n",
    "\n",
    "# Indexing--> If you want you access any particular or individual element\n",
    "\n",
    "# SLICING--> It helps in the access of sequence of elements\n",
    "\n",
    "# P  Y  T  H  O  N\n",
    "# 0  1  2  3  4  5 --> indexes\n",
    "#-6 -5 -4 -3 -2 -1  --> Reverse index"
   ]
  },
  {
   "cell_type": "code",
   "execution_count": 9,
   "id": "54789406",
   "metadata": {},
   "outputs": [
    {
     "data": {
      "text/plain": [
       "'H'"
      ]
     },
     "execution_count": 9,
     "metadata": {},
     "output_type": "execute_result"
    }
   ],
   "source": [
    "# Indexing\n",
    "\n",
    "x[3]"
   ]
  },
  {
   "cell_type": "code",
   "execution_count": 10,
   "id": "7d7d8b33",
   "metadata": {},
   "outputs": [
    {
     "data": {
      "text/plain": [
       "'N'"
      ]
     },
     "execution_count": 10,
     "metadata": {},
     "output_type": "execute_result"
    }
   ],
   "source": [
    "x[-1]"
   ]
  },
  {
   "cell_type": "code",
   "execution_count": 7,
   "id": "d84b0cda",
   "metadata": {
    "scrolled": true
   },
   "outputs": [
    {
     "data": {
      "text/plain": [
       "'THON'"
      ]
     },
     "execution_count": 7,
     "metadata": {},
     "output_type": "execute_result"
    }
   ],
   "source": [
    "# Slicing\n",
    "\n",
    "# Syntax: variable_name[Start index: End Index + 1]\n",
    "\n",
    "x [2:6]"
   ]
  },
  {
   "cell_type": "code",
   "execution_count": 11,
   "id": "7cc6345b",
   "metadata": {},
   "outputs": [
    {
     "data": {
      "text/plain": [
       "'HO'"
      ]
     },
     "execution_count": 11,
     "metadata": {},
     "output_type": "execute_result"
    }
   ],
   "source": [
    "x[-3:-1]"
   ]
  },
  {
   "cell_type": "code",
   "execution_count": 13,
   "id": "dce5cf43",
   "metadata": {},
   "outputs": [
    {
     "data": {
      "text/plain": [
       "'PYT'"
      ]
     },
     "execution_count": 13,
     "metadata": {},
     "output_type": "execute_result"
    }
   ],
   "source": [
    "x[0:3]"
   ]
  },
  {
   "cell_type": "code",
   "execution_count": 39,
   "id": "1fc03bd7",
   "metadata": {},
   "outputs": [],
   "source": [
    "# String is immutable as it does not allow to chnage the element of its variable\n",
    "\n",
    "#x[2] = 'c'\n",
    "\n",
    "#TypeError                                 Traceback (most recent call last)\n",
    "#<ipython-input-14-de5fd2224bb7> in <module>\n",
    "      # String is immutable as it does not allow to chnage the element of its variable\n",
    "       \n",
    "#----> 3 x[2] = 'c'\n",
    "\n",
    "#TypeError: 'str' object does not support item assignment"
   ]
  },
  {
   "cell_type": "markdown",
   "id": "8d6de5fd",
   "metadata": {},
   "source": [
    "# Tuples"
   ]
  },
  {
   "cell_type": "code",
   "execution_count": 17,
   "id": "c83217c6",
   "metadata": {},
   "outputs": [],
   "source": [
    "# Tuples--> Set of heterogenous elements (different types of data formats)\n",
    "\n",
    "#syntax: variable-name = (a1, a2, a3)"
   ]
  },
  {
   "cell_type": "code",
   "execution_count": 18,
   "id": "6c0a786b",
   "metadata": {},
   "outputs": [],
   "source": [
    "tup = (1,2,3,'rose', 5.5,6.6)"
   ]
  },
  {
   "cell_type": "code",
   "execution_count": 19,
   "id": "c9f1fb08",
   "metadata": {},
   "outputs": [
    {
     "data": {
      "text/plain": [
       "tuple"
      ]
     },
     "execution_count": 19,
     "metadata": {},
     "output_type": "execute_result"
    }
   ],
   "source": [
    "type(tup)"
   ]
  },
  {
   "cell_type": "code",
   "execution_count": 21,
   "id": "542a42bb",
   "metadata": {},
   "outputs": [
    {
     "data": {
      "text/plain": [
       "3"
      ]
     },
     "execution_count": 21,
     "metadata": {},
     "output_type": "execute_result"
    }
   ],
   "source": [
    "tup[2]"
   ]
  },
  {
   "cell_type": "code",
   "execution_count": 40,
   "id": "9792eec8",
   "metadata": {},
   "outputs": [],
   "source": [
    "#tup[2]= 6 (immutable)\n",
    "\n",
    "#TypeError                                 Traceback (most recent call last)\n",
    "#<ipython-input-22-a6d2fa852162> in <module>\n",
    "#----> 1 tup[2]= 6\n",
    "\n",
    "#TypeError: 'tuple' object does not support item assignment"
   ]
  },
  {
   "cell_type": "markdown",
   "id": "e8e971ab",
   "metadata": {},
   "source": [
    "# List"
   ]
  },
  {
   "cell_type": "code",
   "execution_count": 27,
   "id": "b37df133",
   "metadata": {},
   "outputs": [],
   "source": [
    "# Mutable Datatype\n",
    "\n",
    "# List--> Set of heterogenous elements (different types of data formats)\n",
    "# The definition between list and tuple is same, however the difference is\n",
    "# the brackets we use. In tuple, we use round bracket, but in list we use square bracket."
   ]
  },
  {
   "cell_type": "code",
   "execution_count": 29,
   "id": "d9452302",
   "metadata": {},
   "outputs": [],
   "source": [
    "# Syntax --> variable_name[a1, a2, a3,...]"
   ]
  },
  {
   "cell_type": "code",
   "execution_count": 30,
   "id": "c8b53467",
   "metadata": {},
   "outputs": [],
   "source": [
    "my_list = [1, 4, 7, 'rose', 5.5, 8.2]"
   ]
  },
  {
   "cell_type": "code",
   "execution_count": 31,
   "id": "a2cee1c5",
   "metadata": {},
   "outputs": [
    {
     "data": {
      "text/plain": [
       "list"
      ]
     },
     "execution_count": 31,
     "metadata": {},
     "output_type": "execute_result"
    }
   ],
   "source": [
    "type(my_list)"
   ]
  },
  {
   "cell_type": "code",
   "execution_count": 37,
   "id": "5190ec37",
   "metadata": {},
   "outputs": [],
   "source": [
    "my_list[2] = 8 #list is mutable, it easily changes the element from the list"
   ]
  },
  {
   "cell_type": "code",
   "execution_count": 38,
   "id": "f70c19ca",
   "metadata": {},
   "outputs": [
    {
     "data": {
      "text/plain": [
       "[1, 4, 8, 'rose', 5.5, 8.2]"
      ]
     },
     "execution_count": 38,
     "metadata": {},
     "output_type": "execute_result"
    }
   ],
   "source": [
    "my_list"
   ]
  },
  {
   "cell_type": "markdown",
   "id": "1a0c648e",
   "metadata": {},
   "source": [
    "# Dictionary"
   ]
  },
  {
   "cell_type": "code",
   "execution_count": 41,
   "id": "77956831",
   "metadata": {},
   "outputs": [],
   "source": [
    "#Dictionary --> heps to store information key va;ue pirs\n",
    "#user defined keys--> Indexes\n",
    "#syntax: variable-name= {key vale1: a1, a2, a3....., key value n: n1, n2, n3}"
   ]
  },
  {
   "cell_type": "code",
   "execution_count": 42,
   "id": "8f8f642c",
   "metadata": {},
   "outputs": [],
   "source": [
    "age= {'John': 23, 'Karan': 27, 'Sumit': 37}"
   ]
  },
  {
   "cell_type": "code",
   "execution_count": 47,
   "id": "54c189a4",
   "metadata": {
    "scrolled": true
   },
   "outputs": [
    {
     "data": {
      "text/plain": [
       "{'John': 23, 'Karan': 27, 'Sumit': 37}"
      ]
     },
     "execution_count": 47,
     "metadata": {},
     "output_type": "execute_result"
    }
   ],
   "source": [
    "age"
   ]
  },
  {
   "cell_type": "code",
   "execution_count": 48,
   "id": "ff6d98be",
   "metadata": {},
   "outputs": [
    {
     "data": {
      "text/plain": [
       "dict"
      ]
     },
     "execution_count": 48,
     "metadata": {},
     "output_type": "execute_result"
    }
   ],
   "source": [
    "type(age)"
   ]
  },
  {
   "cell_type": "code",
   "execution_count": 46,
   "id": "7436229f",
   "metadata": {},
   "outputs": [
    {
     "data": {
      "text/plain": [
       "23"
      ]
     },
     "execution_count": 46,
     "metadata": {},
     "output_type": "execute_result"
    }
   ],
   "source": [
    "age['John']"
   ]
  },
  {
   "cell_type": "code",
   "execution_count": 51,
   "id": "07786ab6",
   "metadata": {},
   "outputs": [],
   "source": [
    "age['John']= 37 #mutable, the values can easily be changed"
   ]
  },
  {
   "cell_type": "code",
   "execution_count": 52,
   "id": "5869ffa0",
   "metadata": {},
   "outputs": [
    {
     "data": {
      "text/plain": [
       "{'John': 37, 'Karan': 27, 'Sumit': 37}"
      ]
     },
     "execution_count": 52,
     "metadata": {},
     "output_type": "execute_result"
    }
   ],
   "source": [
    "age"
   ]
  },
  {
   "cell_type": "code",
   "execution_count": 55,
   "id": "7fa6b1e3",
   "metadata": {},
   "outputs": [],
   "source": [
    "age_2= {25:'John', 37:'Sumit', 32:'Karan'}"
   ]
  },
  {
   "cell_type": "code",
   "execution_count": 56,
   "id": "3b442710",
   "metadata": {},
   "outputs": [
    {
     "data": {
      "text/plain": [
       "'John'"
      ]
     },
     "execution_count": 56,
     "metadata": {},
     "output_type": "execute_result"
    }
   ],
   "source": [
    "age_2[25]"
   ]
  },
  {
   "cell_type": "code",
   "execution_count": 57,
   "id": "1759d8c8",
   "metadata": {},
   "outputs": [],
   "source": [
    "#set --> unordered, unindexed list of element, it can have only unique values\n",
    "\n",
    "#syntax: variable = {a1, a2, a3,...}"
   ]
  },
  {
   "cell_type": "code",
   "execution_count": 58,
   "id": "c25ba4a3",
   "metadata": {},
   "outputs": [],
   "source": [
    "set_1 = {1,2,4,6,9,76,45,82,'rose', 2,4,2,5,2,4,7}"
   ]
  },
  {
   "cell_type": "code",
   "execution_count": 60,
   "id": "1aa640c3",
   "metadata": {},
   "outputs": [
    {
     "data": {
      "text/plain": [
       "{1, 2, 4, 45, 5, 6, 7, 76, 82, 9, 'rose'}"
      ]
     },
     "execution_count": 60,
     "metadata": {},
     "output_type": "execute_result"
    }
   ],
   "source": [
    "set_1 #just shows unique values"
   ]
  },
  {
   "cell_type": "code",
   "execution_count": 70,
   "id": "1cb946f9",
   "metadata": {},
   "outputs": [],
   "source": [
    "# problem statment --> Remove all duplicate elements from list\n",
    "lis= [1,2,2,2,2,5,5,6,7,6,7,8,9,9,8]"
   ]
  },
  {
   "cell_type": "code",
   "execution_count": 71,
   "id": "57b2e142",
   "metadata": {},
   "outputs": [
    {
     "data": {
      "text/plain": [
       "list"
      ]
     },
     "execution_count": 71,
     "metadata": {},
     "output_type": "execute_result"
    }
   ],
   "source": [
    "type(lis)"
   ]
  },
  {
   "cell_type": "code",
   "execution_count": 73,
   "id": "07a51188",
   "metadata": {},
   "outputs": [
    {
     "data": {
      "text/plain": [
       "{1, 2, 5, 6, 7, 8, 9}"
      ]
     },
     "execution_count": 73,
     "metadata": {},
     "output_type": "execute_result"
    }
   ],
   "source": [
    "set(lis) #converting list into set temporarily just to remove values"
   ]
  },
  {
   "cell_type": "code",
   "execution_count": 74,
   "id": "cc4aff55",
   "metadata": {},
   "outputs": [
    {
     "data": {
      "text/plain": [
       "list"
      ]
     },
     "execution_count": 74,
     "metadata": {},
     "output_type": "execute_result"
    }
   ],
   "source": [
    "type(lis)"
   ]
  },
  {
   "cell_type": "code",
   "execution_count": 67,
   "id": "4ba997c1",
   "metadata": {},
   "outputs": [],
   "source": [
    "lis = set(lis) #converting list into set permanenetly"
   ]
  },
  {
   "cell_type": "code",
   "execution_count": 94,
   "id": "4962ef84",
   "metadata": {
    "scrolled": true
   },
   "outputs": [
    {
     "data": {
      "text/plain": [
       "list"
      ]
     },
     "execution_count": 94,
     "metadata": {},
     "output_type": "execute_result"
    }
   ],
   "source": [
    "type(lis)"
   ]
  },
  {
   "cell_type": "markdown",
   "id": "c6c633f7",
   "metadata": {},
   "source": [
    "# Conditional Statement"
   ]
  },
  {
   "cell_type": "code",
   "execution_count": 76,
   "id": "5dcbe2a3",
   "metadata": {},
   "outputs": [],
   "source": [
    "#Conditional Statement--> helps to control flow ecexution  based upon certain condition\n",
    "\n",
    "# Two structrures of CS\n",
    "# -->IF ELSE STRUCTURE\n",
    "#--> IF ELIF ELSE STRUCTURE"
   ]
  },
  {
   "cell_type": "code",
   "execution_count": 80,
   "id": "8cff6c40",
   "metadata": {},
   "outputs": [],
   "source": [
    "# 1\n",
    "\n",
    "#if condition:\n",
    "    #task 1\n",
    "#else:\n",
    "    #task 2\n",
    "\n",
    "#condition-=-> true-->task 1--> get out block\n",
    "#condition--> fasle --> task 2--> get out block"
   ]
  },
  {
   "cell_type": "code",
   "execution_count": 97,
   "id": "458fc31b",
   "metadata": {
    "scrolled": true
   },
   "outputs": [
    {
     "name": "stdout",
     "output_type": "stream",
     "text": [
      "x is larger\n"
     ]
    }
   ],
   "source": [
    "# First Structure--> if else\n",
    "\n",
    "x = 30\n",
    "if x> 20:\n",
    "    print (\"x is larger\")\n",
    "else:\n",
    "    print (\"x is smaller\")"
   ]
  },
  {
   "cell_type": "code",
   "execution_count": 99,
   "id": "15bae982",
   "metadata": {},
   "outputs": [],
   "source": [
    "# 2\n",
    "\n",
    "#if condition 1:\n",
    "    #task 1\n",
    "#elif condition 2:\n",
    "    #task 2\n",
    "#else:\n",
    "    #task 3\n",
    "\n",
    "    \n",
    "#condition1 --> true-->task 1--> get out block\n",
    "#condition 1--> fasle --> condition 2-->true--> task 2--> get out block\n",
    "#condition 1--> fasle --> condition 2-->false--> else--> true--> task 3--> get out block"
   ]
  },
  {
   "cell_type": "code",
   "execution_count": 96,
   "id": "37963981",
   "metadata": {},
   "outputs": [
    {
     "name": "stdout",
     "output_type": "stream",
     "text": [
      "a is greater than b\n"
     ]
    }
   ],
   "source": [
    "# Second Strucure--> if elif else\n",
    "\n",
    "a=30\n",
    "b=20\n",
    "if a>b:\n",
    "    print(\"a is greater than b\")\n",
    "elif a==b:\n",
    "    print(\"a is equal to b\")\n",
    "else:\n",
    "    print(\"a is smaller than b\")"
   ]
  },
  {
   "cell_type": "markdown",
   "id": "c6f73ca9",
   "metadata": {},
   "source": [
    "# Looping Statement"
   ]
  },
  {
   "cell_type": "code",
   "execution_count": null,
   "id": "50498965",
   "metadata": {},
   "outputs": [],
   "source": [
    "# Two types of Loop:\n",
    "# For loop\n",
    "# While Loop"
   ]
  },
  {
   "cell_type": "code",
   "execution_count": 103,
   "id": "67017859",
   "metadata": {},
   "outputs": [
    {
     "data": {
      "text/plain": [
       "[0, 1, 2, 3, 4, 5, 6, 7, 8, 9]"
      ]
     },
     "execution_count": 103,
     "metadata": {},
     "output_type": "execute_result"
    }
   ],
   "source": [
    "list(range(0,10))"
   ]
  },
  {
   "cell_type": "code",
   "execution_count": 110,
   "id": "65b07322",
   "metadata": {
    "scrolled": true
   },
   "outputs": [
    {
     "data": {
      "text/plain": [
       "(0, 1, 2, 3, 4, 5, 6, 7, 8, 9)"
      ]
     },
     "execution_count": 110,
     "metadata": {},
     "output_type": "execute_result"
    }
   ],
   "source": [
    "tuple(range(0,10))"
   ]
  },
  {
   "cell_type": "code",
   "execution_count": 111,
   "id": "601af6cb",
   "metadata": {},
   "outputs": [],
   "source": [
    "# For Loop"
   ]
  },
  {
   "cell_type": "code",
   "execution_count": 107,
   "id": "12db19eb",
   "metadata": {},
   "outputs": [
    {
     "name": "stdout",
     "output_type": "stream",
     "text": [
      "PYTHON 0\n",
      "PYTHON 1\n",
      "PYTHON 2\n",
      "PYTHON 3\n",
      "PYTHON 4\n",
      "PYTHON 5\n",
      "PYTHON 6\n",
      "PYTHON 7\n",
      "PYTHON 8\n",
      "PYTHON 9\n"
     ]
    }
   ],
   "source": [
    "#probelm statemnet to print python ten times\n",
    "\n",
    "for x in range(10):\n",
    "    print('PYTHON',x)"
   ]
  },
  {
   "cell_type": "code",
   "execution_count": 108,
   "id": "623d2099",
   "metadata": {},
   "outputs": [],
   "source": [
    "my_list = ['John', 22, 34.5, 23]"
   ]
  },
  {
   "cell_type": "code",
   "execution_count": 109,
   "id": "67d0ec1c",
   "metadata": {},
   "outputs": [
    {
     "name": "stdout",
     "output_type": "stream",
     "text": [
      "John\n",
      "22\n",
      "34.5\n",
      "23\n"
     ]
    }
   ],
   "source": [
    "for x in my_list:\n",
    "    print(x)"
   ]
  },
  {
   "cell_type": "code",
   "execution_count": 1,
   "id": "c75698b2",
   "metadata": {},
   "outputs": [],
   "source": [
    "# while loop"
   ]
  },
  {
   "cell_type": "code",
   "execution_count": 2,
   "id": "30001636",
   "metadata": {},
   "outputs": [
    {
     "name": "stdout",
     "output_type": "stream",
     "text": [
      "PYTHON 0\n",
      "PYTHON 1\n",
      "PYTHON 2\n",
      "PYTHON 3\n",
      "PYTHON 4\n",
      "PYTHON 5\n",
      "PYTHON 6\n",
      "PYTHON 7\n",
      "PYTHON 8\n",
      "PYTHON 9\n"
     ]
    }
   ],
   "source": [
    "i =0\n",
    "while i<10:\n",
    "    print('PYTHON',i)\n",
    "    i=i+1"
   ]
  },
  {
   "cell_type": "code",
   "execution_count": 3,
   "id": "cd94634e",
   "metadata": {},
   "outputs": [],
   "source": [
    "# functions --> reusablility\n",
    "# user defined\n",
    "\n",
    "#inbuilt\n",
    "\n",
    "#lambda\n"
   ]
  },
  {
   "cell_type": "code",
   "execution_count": 4,
   "id": "47c36e6f",
   "metadata": {},
   "outputs": [],
   "source": [
    "def adder (a,b): \n",
    "    c=a+b\n",
    "    return c"
   ]
  },
  {
   "cell_type": "code",
   "execution_count": 5,
   "id": "9898ad8a",
   "metadata": {},
   "outputs": [
    {
     "data": {
      "text/plain": [
       "57"
      ]
     },
     "execution_count": 5,
     "metadata": {},
     "output_type": "execute_result"
    }
   ],
   "source": [
    "a=10\n",
    "b=20\n",
    "adder(10, 47)"
   ]
  },
  {
   "cell_type": "code",
   "execution_count": 6,
   "id": "e2458ae7",
   "metadata": {},
   "outputs": [
    {
     "data": {
      "text/plain": [
       "1455175374"
      ]
     },
     "execution_count": 6,
     "metadata": {},
     "output_type": "execute_result"
    }
   ],
   "source": [
    "adder(578587687,876587687)"
   ]
  },
  {
   "cell_type": "code",
   "execution_count": 7,
   "id": "8e146e0f",
   "metadata": {},
   "outputs": [],
   "source": [
    "#append--> add elemnets to list"
   ]
  },
  {
   "cell_type": "code",
   "execution_count": 8,
   "id": "8382be50",
   "metadata": {},
   "outputs": [],
   "source": [
    "my_list= [\"john\", 2,3]"
   ]
  },
  {
   "cell_type": "code",
   "execution_count": 9,
   "id": "d4bcc88b",
   "metadata": {},
   "outputs": [],
   "source": [
    "my_list.append(852)"
   ]
  },
  {
   "cell_type": "code",
   "execution_count": 10,
   "id": "1aff405b",
   "metadata": {},
   "outputs": [],
   "source": [
    "#pop--> removes the element"
   ]
  },
  {
   "cell_type": "code",
   "execution_count": 11,
   "id": "e08d552b",
   "metadata": {},
   "outputs": [
    {
     "data": {
      "text/plain": [
       "3"
      ]
     },
     "execution_count": 11,
     "metadata": {},
     "output_type": "execute_result"
    }
   ],
   "source": [
    "my_list.pop(2) #works on index"
   ]
  },
  {
   "cell_type": "code",
   "execution_count": 12,
   "id": "af55d4cf",
   "metadata": {},
   "outputs": [],
   "source": [
    "#lambda function--> one line function --> fast executive and less memory\n",
    "m =lambda a,b: a*b"
   ]
  },
  {
   "cell_type": "code",
   "execution_count": 13,
   "id": "82aec9b1",
   "metadata": {},
   "outputs": [
    {
     "data": {
      "text/plain": [
       "10"
      ]
     },
     "execution_count": 13,
     "metadata": {},
     "output_type": "execute_result"
    }
   ],
   "source": [
    "m(2,5)"
   ]
  },
  {
   "cell_type": "code",
   "execution_count": null,
   "id": "f9f27717",
   "metadata": {},
   "outputs": [],
   "source": []
  },
  {
   "cell_type": "code",
   "execution_count": null,
   "id": "b1a2f87f",
   "metadata": {},
   "outputs": [],
   "source": []
  },
  {
   "cell_type": "code",
   "execution_count": null,
   "id": "cbf39358",
   "metadata": {},
   "outputs": [],
   "source": []
  },
  {
   "cell_type": "code",
   "execution_count": null,
   "id": "2b51201a",
   "metadata": {},
   "outputs": [],
   "source": []
  },
  {
   "cell_type": "code",
   "execution_count": null,
   "id": "6c965aa4",
   "metadata": {},
   "outputs": [],
   "source": []
  },
  {
   "cell_type": "code",
   "execution_count": null,
   "id": "0ac869a8",
   "metadata": {},
   "outputs": [],
   "source": []
  },
  {
   "cell_type": "code",
   "execution_count": null,
   "id": "34ae6036",
   "metadata": {},
   "outputs": [],
   "source": []
  },
  {
   "cell_type": "code",
   "execution_count": null,
   "id": "5353f51e",
   "metadata": {},
   "outputs": [],
   "source": []
  },
  {
   "cell_type": "code",
   "execution_count": null,
   "id": "609eb51d",
   "metadata": {},
   "outputs": [],
   "source": []
  },
  {
   "cell_type": "code",
   "execution_count": null,
   "id": "efbd3e08",
   "metadata": {},
   "outputs": [],
   "source": []
  },
  {
   "cell_type": "code",
   "execution_count": null,
   "id": "bf52886b",
   "metadata": {},
   "outputs": [],
   "source": []
  },
  {
   "cell_type": "code",
   "execution_count": null,
   "id": "5f7c9ad1",
   "metadata": {},
   "outputs": [],
   "source": []
  },
  {
   "cell_type": "code",
   "execution_count": null,
   "id": "da9ecb1c",
   "metadata": {},
   "outputs": [],
   "source": []
  },
  {
   "cell_type": "code",
   "execution_count": null,
   "id": "cb15ce7b",
   "metadata": {},
   "outputs": [],
   "source": []
  },
  {
   "cell_type": "code",
   "execution_count": null,
   "id": "427e0773",
   "metadata": {},
   "outputs": [],
   "source": []
  },
  {
   "cell_type": "code",
   "execution_count": null,
   "id": "81c5134b",
   "metadata": {},
   "outputs": [],
   "source": []
  },
  {
   "cell_type": "code",
   "execution_count": null,
   "id": "3e4080ec",
   "metadata": {},
   "outputs": [],
   "source": []
  },
  {
   "cell_type": "code",
   "execution_count": null,
   "id": "fe16647d",
   "metadata": {},
   "outputs": [],
   "source": []
  },
  {
   "cell_type": "code",
   "execution_count": null,
   "id": "90206703",
   "metadata": {},
   "outputs": [],
   "source": []
  },
  {
   "cell_type": "code",
   "execution_count": null,
   "id": "fdf78931",
   "metadata": {},
   "outputs": [],
   "source": []
  },
  {
   "cell_type": "code",
   "execution_count": null,
   "id": "db5991ba",
   "metadata": {},
   "outputs": [],
   "source": []
  },
  {
   "cell_type": "code",
   "execution_count": null,
   "id": "39e3c1a2",
   "metadata": {},
   "outputs": [],
   "source": []
  },
  {
   "cell_type": "code",
   "execution_count": null,
   "id": "1e01d804",
   "metadata": {},
   "outputs": [],
   "source": []
  },
  {
   "cell_type": "code",
   "execution_count": null,
   "id": "f977886e",
   "metadata": {},
   "outputs": [],
   "source": []
  },
  {
   "cell_type": "code",
   "execution_count": null,
   "id": "b7727bc7",
   "metadata": {},
   "outputs": [],
   "source": []
  },
  {
   "cell_type": "code",
   "execution_count": null,
   "id": "45960e38",
   "metadata": {},
   "outputs": [],
   "source": []
  },
  {
   "cell_type": "code",
   "execution_count": null,
   "id": "146f8f07",
   "metadata": {},
   "outputs": [],
   "source": []
  }
 ],
 "metadata": {
  "kernelspec": {
   "display_name": "Python 3",
   "language": "python",
   "name": "python3"
  },
  "language_info": {
   "codemirror_mode": {
    "name": "ipython",
    "version": 3
   },
   "file_extension": ".py",
   "mimetype": "text/x-python",
   "name": "python",
   "nbconvert_exporter": "python",
   "pygments_lexer": "ipython3",
   "version": "3.8.8"
  }
 },
 "nbformat": 4,
 "nbformat_minor": 5
}
