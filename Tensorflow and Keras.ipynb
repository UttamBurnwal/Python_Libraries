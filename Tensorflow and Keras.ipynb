{
 "cells": [
  {
   "cell_type": "code",
   "execution_count": 1,
   "id": "bb89915b",
   "metadata": {},
   "outputs": [
    {
     "data": {
      "text/plain": [
       "'2.3.0'"
      ]
     },
     "execution_count": 1,
     "metadata": {},
     "output_type": "execute_result"
    }
   ],
   "source": [
    "import tensorflow as tf\n",
    "tf.__version__"
   ]
  },
  {
   "cell_type": "code",
   "execution_count": 4,
   "id": "7ff137ef",
   "metadata": {},
   "outputs": [
    {
     "data": {
      "text/plain": [
       "<tf.Tensor: shape=(2, 2), dtype=int32, numpy=\n",
       "array([[1, 2],\n",
       "       [3, 4]])>"
      ]
     },
     "execution_count": 4,
     "metadata": {},
     "output_type": "execute_result"
    }
   ],
   "source": [
    "a = tf.constant([[1,2],\n",
    "                 [3,4]])\n",
    "a"
   ]
  },
  {
   "cell_type": "code",
   "execution_count": 5,
   "id": "056b82c1",
   "metadata": {},
   "outputs": [
    {
     "data": {
      "text/plain": [
       "<tf.Variable 'Variable:0' shape=(2, 2) dtype=int32, numpy=\n",
       "array([[1, 2],\n",
       "       [3, 4]])>"
      ]
     },
     "execution_count": 5,
     "metadata": {},
     "output_type": "execute_result"
    }
   ],
   "source": [
    "b = tf.Variable([[1,2],\n",
    "                 [3,4]])\n",
    "b"
   ]
  },
  {
   "cell_type": "code",
   "execution_count": 7,
   "id": "c58d6097",
   "metadata": {},
   "outputs": [
    {
     "data": {
      "text/plain": [
       "<tf.Tensor: shape=(4, 2), dtype=int32, numpy=\n",
       "array([[1, 2],\n",
       "       [3, 4],\n",
       "       [1, 2],\n",
       "       [3, 4]])>"
      ]
     },
     "execution_count": 7,
     "metadata": {},
     "output_type": "execute_result"
    }
   ],
   "source": [
    "AB = tf.concat(values = [a,b], axis = 0)\n",
    "AB"
   ]
  },
  {
   "cell_type": "code",
   "execution_count": 8,
   "id": "72a7cb9b",
   "metadata": {},
   "outputs": [
    {
     "data": {
      "text/plain": [
       "<tf.Tensor: shape=(2, 4), dtype=int32, numpy=\n",
       "array([[1, 2, 1, 2],\n",
       "       [3, 4, 3, 4]])>"
      ]
     },
     "execution_count": 8,
     "metadata": {},
     "output_type": "execute_result"
    }
   ],
   "source": [
    "AB = tf.concat(values = [a,b], axis = 1)\n",
    "AB"
   ]
  },
  {
   "cell_type": "code",
   "execution_count": 11,
   "id": "426e1444",
   "metadata": {},
   "outputs": [
    {
     "data": {
      "text/plain": [
       "<tf.Tensor: shape=(2, 3), dtype=int32, numpy=\n",
       "array([[0, 0, 0],\n",
       "       [0, 0, 0]])>"
      ]
     },
     "execution_count": 11,
     "metadata": {},
     "output_type": "execute_result"
    }
   ],
   "source": [
    "t = tf.zeros(shape = (2,3), dtype = tf.int32)\n",
    "t"
   ]
  },
  {
   "cell_type": "code",
   "execution_count": 15,
   "id": "b8d8c8f5",
   "metadata": {},
   "outputs": [
    {
     "data": {
      "text/plain": [
       "<tf.Tensor: shape=(2, 3), dtype=int32, numpy=\n",
       "array([[1, 1, 1],\n",
       "       [1, 1, 1]])>"
      ]
     },
     "execution_count": 15,
     "metadata": {},
     "output_type": "execute_result"
    }
   ],
   "source": [
    "o = tf.ones(shape = (2,3), dtype = tf.int32)\n",
    "o"
   ]
  },
  {
   "cell_type": "code",
   "execution_count": 17,
   "id": "db467634",
   "metadata": {},
   "outputs": [
    {
     "data": {
      "text/plain": [
       "<tf.Tensor: shape=(3, 2), dtype=int32, numpy=\n",
       "array([[5, 5],\n",
       "       [5, 5],\n",
       "       [5, 5]])>"
      ]
     },
     "execution_count": 17,
     "metadata": {},
     "output_type": "execute_result"
    }
   ],
   "source": [
    "v = tf.constant(5, shape=(3,2))\n",
    "v"
   ]
  },
  {
   "cell_type": "code",
   "execution_count": 18,
   "id": "24031dd9",
   "metadata": {},
   "outputs": [
    {
     "data": {
      "text/plain": [
       "<tf.Tensor: shape=(4, 2), dtype=int32, numpy=\n",
       "array([[1, 2],\n",
       "       [1, 2],\n",
       "       [3, 4],\n",
       "       [3, 4]])>"
      ]
     },
     "execution_count": 18,
     "metadata": {},
     "output_type": "execute_result"
    }
   ],
   "source": [
    "reshaped_ab =  tf.reshape(AB, shape = [4,2])\n",
    "reshaped_ab"
   ]
  },
  {
   "cell_type": "code",
   "execution_count": 25,
   "id": "26586e94",
   "metadata": {},
   "outputs": [
    {
     "data": {
      "text/plain": [
       "<tf.Tensor: shape=(3, 5), dtype=int32, numpy=\n",
       "array([[69, 84, 97, 29, 54],\n",
       "       [88, 16, 75, 18, 84],\n",
       "       [32, 21, 50, 90, 31]])>"
      ]
     },
     "execution_count": 25,
     "metadata": {},
     "output_type": "execute_result"
    }
   ],
   "source": [
    "c = tf.random.uniform(shape=(3,5), maxval = 100, dtype = tf.int32)\n",
    "c"
   ]
  },
  {
   "cell_type": "code",
   "execution_count": 26,
   "id": "d6444740",
   "metadata": {},
   "outputs": [
    {
     "data": {
      "text/plain": [
       "<tf.Tensor: shape=(3, 5), dtype=float32, numpy=\n",
       "array([[69., 84., 97., 29., 54.],\n",
       "       [88., 16., 75., 18., 84.],\n",
       "       [32., 21., 50., 90., 31.]], dtype=float32)>"
      ]
     },
     "execution_count": 26,
     "metadata": {},
     "output_type": "execute_result"
    }
   ],
   "source": [
    "d = tf.cast(c, dtype = tf.float32)\n",
    "d"
   ]
  },
  {
   "cell_type": "code",
   "execution_count": 29,
   "id": "89a0de06",
   "metadata": {},
   "outputs": [
    {
     "data": {
      "text/plain": [
       "<tf.Tensor: shape=(5, 3), dtype=float32, numpy=\n",
       "array([[69., 88., 32.],\n",
       "       [84., 16., 21.],\n",
       "       [97., 75., 50.],\n",
       "       [29., 18., 90.],\n",
       "       [54., 84., 31.]], dtype=float32)>"
      ]
     },
     "execution_count": 29,
     "metadata": {},
     "output_type": "execute_result"
    }
   ],
   "source": [
    "a = tf.transpose(d)\n",
    "a"
   ]
  },
  {
   "cell_type": "code",
   "execution_count": 31,
   "id": "3780fc7f",
   "metadata": {},
   "outputs": [
    {
     "data": {
      "text/plain": [
       "<tf.Tensor: shape=(3, 3), dtype=float32, numpy=\n",
       "array([[24983., 19749., 13106.],\n",
       "       [19749., 21005., 11126.],\n",
       "       [13106., 11126., 13026.]], dtype=float32)>"
      ]
     },
     "execution_count": 31,
     "metadata": {},
     "output_type": "execute_result"
    }
   ],
   "source": [
    "da = tf.matmul(d,a)\n",
    "da"
   ]
  },
  {
   "cell_type": "code",
   "execution_count": 41,
   "id": "106af984",
   "metadata": {},
   "outputs": [
    {
     "data": {
      "text/plain": [
       "<tf.Tensor: shape=(2, 2), dtype=int32, numpy=\n",
       "array([[ 1,  4],\n",
       "       [ 9, 16]])>"
      ]
     },
     "execution_count": 41,
     "metadata": {},
     "output_type": "execute_result"
    }
   ],
   "source": [
    "a = tf.constant([[1,2],\n",
    "                 [3,4]], dtype = tf.int32)\n",
    "b = tf.Variable([[1,2],\n",
    "                 [3,4]])\n",
    "\n",
    "da1 = tf.multiply(a,b)\n",
    "da1"
   ]
  },
  {
   "cell_type": "code",
   "execution_count": 53,
   "id": "acb6deaa",
   "metadata": {},
   "outputs": [
    {
     "name": "stdout",
     "output_type": "stream",
     "text": [
      "Rows: 3 Columns: 3\n"
     ]
    }
   ],
   "source": [
    "r, c = da.shape\n",
    "print('Rows:',r,\n",
    "     'Columns:',c)"
   ]
  },
  {
   "cell_type": "code",
   "execution_count": 52,
   "id": "ee077c99",
   "metadata": {},
   "outputs": [
    {
     "data": {
      "text/plain": [
       "<tf.Tensor: shape=(3, 3), dtype=int32, numpy=\n",
       "array([[1, 0, 0],\n",
       "       [0, 1, 0],\n",
       "       [0, 0, 1]])>"
      ]
     },
     "execution_count": 52,
     "metadata": {},
     "output_type": "execute_result"
    }
   ],
   "source": [
    "# Identity Matrix\n",
    "im = tf.eye(3, dtype = tf.int32)\n",
    "im"
   ]
  },
  {
   "cell_type": "code",
   "execution_count": 65,
   "id": "d0250574",
   "metadata": {},
   "outputs": [],
   "source": [
    "import random\n",
    "t_s = []\n",
    "t_l = []\n",
    "for i in range(50):\n",
    "    r_y = random.randint(13, 64)\n",
    "    t_s.append(r_y)\n",
    "    t_l.append(1)\n",
    "    r_o = random.randint(65,100)\n",
    "    t_s.append(r_o)\n",
    "    t_l.append(0)"
   ]
  },
  {
   "cell_type": "code",
   "execution_count": 67,
   "id": "65ff4ca9",
   "metadata": {},
   "outputs": [
    {
     "data": {
      "text/plain": [
       "[25,\n",
       " 97,\n",
       " 33,\n",
       " 82,\n",
       " 64,\n",
       " 98,\n",
       " 38,\n",
       " 81,\n",
       " 59,\n",
       " 78,\n",
       " 44,\n",
       " 89,\n",
       " 52,\n",
       " 86,\n",
       " 39,\n",
       " 84,\n",
       " 18,\n",
       " 87,\n",
       " 21,\n",
       " 77,\n",
       " 17,\n",
       " 68,\n",
       " 19,\n",
       " 88,\n",
       " 37,\n",
       " 94,\n",
       " 53,\n",
       " 71,\n",
       " 16,\n",
       " 75,\n",
       " 21,\n",
       " 73,\n",
       " 63,\n",
       " 80,\n",
       " 40,\n",
       " 86,\n",
       " 54,\n",
       " 96,\n",
       " 27,\n",
       " 70,\n",
       " 23,\n",
       " 85,\n",
       " 17,\n",
       " 79,\n",
       " 53,\n",
       " 73,\n",
       " 38,\n",
       " 71,\n",
       " 21,\n",
       " 84,\n",
       " 59,\n",
       " 70,\n",
       " 35,\n",
       " 72,\n",
       " 30,\n",
       " 75,\n",
       " 41,\n",
       " 86,\n",
       " 37,\n",
       " 73,\n",
       " 16,\n",
       " 72,\n",
       " 26,\n",
       " 91,\n",
       " 34,\n",
       " 74,\n",
       " 30,\n",
       " 82,\n",
       " 24,\n",
       " 72,\n",
       " 61,\n",
       " 74,\n",
       " 26,\n",
       " 70,\n",
       " 31,\n",
       " 84,\n",
       " 53,\n",
       " 75,\n",
       " 56,\n",
       " 92,\n",
       " 63,\n",
       " 74,\n",
       " 56,\n",
       " 93,\n",
       " 62,\n",
       " 89,\n",
       " 61,\n",
       " 85,\n",
       " 44,\n",
       " 65,\n",
       " 21,\n",
       " 86,\n",
       " 44,\n",
       " 92,\n",
       " 46,\n",
       " 70,\n",
       " 22,\n",
       " 71,\n",
       " 47,\n",
       " 96]"
      ]
     },
     "execution_count": 67,
     "metadata": {},
     "output_type": "execute_result"
    }
   ],
   "source": [
    "t_s"
   ]
  },
  {
   "cell_type": "code",
   "execution_count": 68,
   "id": "a47c46ac",
   "metadata": {},
   "outputs": [
    {
     "data": {
      "text/plain": [
       "[1,\n",
       " 0,\n",
       " 1,\n",
       " 0,\n",
       " 1,\n",
       " 0,\n",
       " 1,\n",
       " 0,\n",
       " 1,\n",
       " 0,\n",
       " 1,\n",
       " 0,\n",
       " 1,\n",
       " 0,\n",
       " 1,\n",
       " 0,\n",
       " 1,\n",
       " 0,\n",
       " 1,\n",
       " 0,\n",
       " 1,\n",
       " 0,\n",
       " 1,\n",
       " 0,\n",
       " 1,\n",
       " 0,\n",
       " 1,\n",
       " 0,\n",
       " 1,\n",
       " 0,\n",
       " 1,\n",
       " 0,\n",
       " 1,\n",
       " 0,\n",
       " 1,\n",
       " 0,\n",
       " 1,\n",
       " 0,\n",
       " 1,\n",
       " 0,\n",
       " 1,\n",
       " 0,\n",
       " 1,\n",
       " 0,\n",
       " 1,\n",
       " 0,\n",
       " 1,\n",
       " 0,\n",
       " 1,\n",
       " 0,\n",
       " 1,\n",
       " 0,\n",
       " 1,\n",
       " 0,\n",
       " 1,\n",
       " 0,\n",
       " 1,\n",
       " 0,\n",
       " 1,\n",
       " 0,\n",
       " 1,\n",
       " 0,\n",
       " 1,\n",
       " 0,\n",
       " 1,\n",
       " 0,\n",
       " 1,\n",
       " 0,\n",
       " 1,\n",
       " 0,\n",
       " 1,\n",
       " 0,\n",
       " 1,\n",
       " 0,\n",
       " 1,\n",
       " 0,\n",
       " 1,\n",
       " 0,\n",
       " 1,\n",
       " 0,\n",
       " 1,\n",
       " 0,\n",
       " 1,\n",
       " 0,\n",
       " 1,\n",
       " 0,\n",
       " 1,\n",
       " 0,\n",
       " 1,\n",
       " 0,\n",
       " 1,\n",
       " 0,\n",
       " 1,\n",
       " 0,\n",
       " 1,\n",
       " 0,\n",
       " 1,\n",
       " 0,\n",
       " 1,\n",
       " 0]"
      ]
     },
     "execution_count": 68,
     "metadata": {},
     "output_type": "execute_result"
    }
   ],
   "source": [
    "t_l"
   ]
  },
  {
   "cell_type": "code",
   "execution_count": null,
   "id": "bd7771fc",
   "metadata": {},
   "outputs": [],
   "source": [
    "    "
   ]
  }
 ],
 "metadata": {
  "kernelspec": {
   "display_name": "Python 3 (ipykernel)",
   "language": "python",
   "name": "python3"
  },
  "language_info": {
   "codemirror_mode": {
    "name": "ipython",
    "version": 3
   },
   "file_extension": ".py",
   "mimetype": "text/x-python",
   "name": "python",
   "nbconvert_exporter": "python",
   "pygments_lexer": "ipython3",
   "version": "3.8.12"
  }
 },
 "nbformat": 4,
 "nbformat_minor": 5
}
