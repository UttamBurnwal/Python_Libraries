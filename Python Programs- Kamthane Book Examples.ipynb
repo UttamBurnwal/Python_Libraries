{
 "cells": [
  {
   "cell_type": "markdown",
   "id": "f37eef87",
   "metadata": {},
   "source": [
    "# Basics of Python Programming"
   ]
  },
  {
   "cell_type": "code",
   "execution_count": 1,
   "id": "2371190a",
   "metadata": {},
   "outputs": [
    {
     "name": "stdout",
     "output_type": "stream",
     "text": [
      "Hello\n",
      "World\n",
      "Good Bye\n"
     ]
    }
   ],
   "source": [
    "# Display the message 'Hello', 'World' and 'Good Bye', each displaying in different line\n",
    "\n",
    "print('Hello')\n",
    "print('World')\n",
    "print('Good Bye')"
   ]
  },
  {
   "cell_type": "code",
   "execution_count": 2,
   "id": "e7e88859",
   "metadata": {},
   "outputs": [
    {
     "name": "stdout",
     "output_type": "stream",
     "text": [
      "Hello World Good Bye\n"
     ]
    }
   ],
   "source": [
    "# Displaying above program in single line\n",
    "\n",
    "print('Hello', end = ' ')\n",
    "print('World', end = ' ')\n",
    "print('Good Bye')"
   ]
  },
  {
   "cell_type": "code",
   "execution_count": 3,
   "id": "23bcbda3",
   "metadata": {},
   "outputs": [
    {
     "name": "stdout",
     "output_type": "stream",
     "text": [
      "Enter the length: 67\n",
      "Enter the breadth: 65\n",
      "Area of rectangle with length 67 and breadth 65 is 4355\n"
     ]
    }
   ],
   "source": [
    "# Calculate area of rectangle\n",
    "\n",
    "length = int(input('Enter the length: '))\n",
    "breadth = int(input('Enter the breadth: '))\n",
    "if length > 0:\n",
    "    if breadth > 0:\n",
    "        area = length*breadth\n",
    "        print(f'Area of rectangle with length {length} and breadth {breadth} is',area)\n",
    "    else:\n",
    "        print('Error!! Enter a positive integer value for breadth')\n",
    "else:\n",
    "    print('Error!! Enter a positive integer value for length')"
   ]
  },
  {
   "cell_type": "code",
   "execution_count": 4,
   "id": "d2e8eab1",
   "metadata": {},
   "outputs": [
    {
     "name": "stdout",
     "output_type": "stream",
     "text": [
      "Enter string 1: hello\n",
      "Enter string 2: world\n",
      "String 1:  hello\n",
      "String 2:  world\n"
     ]
    }
   ],
   "source": [
    "# Program to read string\n",
    "\n",
    "str1 = input('Enter string 1: ')\n",
    "str2 = input('Enter string 2: ')\n",
    "print('String 1: ',str1)\n",
    "print('String 2: ',str2)"
   ]
  },
  {
   "cell_type": "code",
   "execution_count": 5,
   "id": "8f6bac70",
   "metadata": {},
   "outputs": [
    {
     "name": "stdout",
     "output_type": "stream",
     "text": [
      "Please Enter a number:5\n",
      "Entered number is 5\n",
      "Type of X is <class 'int'>\n"
     ]
    }
   ],
   "source": [
    "# Program to enter only digit\n",
    "\n",
    "X=int(input('Please Enter a number:' ))\n",
    "print('Entered number is',X)\n",
    "print('Type of X is',type(X))  "
   ]
  },
  {
   "cell_type": "code",
   "execution_count": 6,
   "id": "7c580b6c",
   "metadata": {},
   "outputs": [
    {
     "name": "stdout",
     "output_type": "stream",
     "text": [
      "Please enter a number:67\n",
      "Num 1 is 67\n",
      "<class 'str'>\n",
      "Converting num1 to int:\n",
      "<class 'int'>\n"
     ]
    }
   ],
   "source": [
    "# Program to demonstrate the use of int and input function\n",
    "\n",
    "num1 = input('Please enter a number:')\n",
    "print('Num 1 is',num1)\n",
    "print(type(num1))\n",
    "\n",
    "print('Converting num1 to int:')\n",
    "num1 = int(num1)\n",
    "print(type(num1))"
   ]
  },
  {
   "cell_type": "code",
   "execution_count": 7,
   "id": "2118a1b2",
   "metadata": {},
   "outputs": [
    {
     "name": "stdout",
     "output_type": "stream",
     "text": [
      "Please enter a number:6\n",
      "Num 1 is 6\n",
      "<class 'int'>\n"
     ]
    }
   ],
   "source": [
    "# Use int before input\n",
    "\n",
    "n = int(input('Please enter a number:'))\n",
    "print('Num 1 is',n)\n",
    "print(type(n))"
   ]
  },
  {
   "cell_type": "code",
   "execution_count": 8,
   "id": "62e4a9ad",
   "metadata": {},
   "outputs": [
    {
     "name": "stdout",
     "output_type": "stream",
     "text": [
      "Enter an integer:56\n",
      "Enter a floating tye number:56.8\n",
      "Sum of integer 56 and float 56.8 is 112.8\n"
     ]
    }
   ],
   "source": [
    "# Addition of int and float type number\n",
    "\n",
    "n1 = int(input('Enter an integer:'))\n",
    "n2 = float(input('Enter a floating tye number:'))\n",
    "sum = n1 + n2\n",
    "print(f'Sum of integer {n1} and float {n2} is',sum)"
   ]
  },
  {
   "cell_type": "code",
   "execution_count": 9,
   "id": "418544b1",
   "metadata": {},
   "outputs": [
    {
     "name": "stdout",
     "output_type": "stream",
     "text": [
      "Enter Name: karn\n",
      "Enter Age: 21\n",
      "Enter Gender: male\n",
      "The name of the client is Karn whose age is 21 and gender is male.\n"
     ]
    }
   ],
   "source": [
    "# Print Name, age and gender\n",
    "\n",
    "name = input('Enter Name: ')\n",
    "age = input('Enter Age: ')\n",
    "gender = input('Enter Gender: ')\n",
    "print(f'The name of the client is {name.capitalize()} whose age is {age} and gender is {gender.lower()}.')"
   ]
  },
  {
   "cell_type": "code",
   "execution_count": 10,
   "id": "ce103b56",
   "metadata": {},
   "outputs": [
    {
     "name": "stdout",
     "output_type": "stream",
     "text": [
      "Enter the radius: 7\n",
      "Area of the circle of radius 7 is 154.00\n"
     ]
    }
   ],
   "source": [
    "# Area of a circle\n",
    "\n",
    "radius = int(input('Enter the radius: '))\n",
    "if radius > 0:\n",
    "    pi = 3.1428\n",
    "    area = pi * radius**2\n",
    "    print(f'Area of the circle of radius {radius} is {area:.2f}')\n",
    "else:\n",
    "    print('Enter a valid value')"
   ]
  },
  {
   "cell_type": "code",
   "execution_count": 11,
   "id": "7390be5d",
   "metadata": {},
   "outputs": [
    {
     "name": "stdout",
     "output_type": "stream",
     "text": [
      "        Hello World!\n"
     ]
    }
   ],
   "source": [
    "print(format('Hello World!','>20s'))"
   ]
  },
  {
   "cell_type": "code",
   "execution_count": 12,
   "id": "2f70a4b3",
   "metadata": {},
   "outputs": [
    {
     "name": "stdout",
     "output_type": "stream",
     "text": [
      "Enter the value for Height: 6\n",
      "Enter the value for base: 7\n",
      "Hypotenuse of a right-angle triangle with base 7 and height 6 is 9.219544457292887\n"
     ]
    }
   ],
   "source": [
    "# Computing the hypotenuse of a triangle\n",
    "\n",
    "h = int(input('Enter the value for Height: '))\n",
    "b = int(input('Enter the value for base: '))\n",
    "if h > 0:\n",
    "    if b> 0:\n",
    "        hy = (b**2 + h**2)**(1/2)\n",
    "        print(f'Hypotenuse of a right-angle triangle with base {b} and height {h} is {hy}')\n",
    "    else:\n",
    "        print('Error! Enter a positive integer value for base')\n",
    "else:\n",
    "    print('Error! Enter a positive integer value for height')"
   ]
  },
  {
   "cell_type": "code",
   "execution_count": 13,
   "id": "e8b582ed",
   "metadata": {},
   "outputs": [
    {
     "name": "stdout",
     "output_type": "stream",
     "text": [
      "[32, 32, 32, 32, 32, 32, 32, 32, 32, 32, 32, 32, 32, 32, 32, 32, 32, 32, 32, 32, 32, 32, 32, 32, 32, 32]\n"
     ]
    }
   ],
   "source": [
    "# Finding the Difference between ASCII code of lower case letter and upper case letter (Note: Its always 32)\n",
    "\n",
    "char1 = \"a,b,c,d,e,f,g,h,i,j,k,l,m,n,o,p,q,r,s,t,u,v,w,x,y,z\"\n",
    "char2= char1.upper()\n",
    "a = char1.split(',')\n",
    "b = char2.split(',')\n",
    "diff_ASCII_value = []\n",
    "for i in range(1, 27):\n",
    "    diff = ord(a[i-1]) - ord(b[i-1])\n",
    "    diff_ASCII_value.append(diff)\n",
    "print(diff_ASCII_value)   "
   ]
  },
  {
   "cell_type": "code",
   "execution_count": 14,
   "id": "50c88621",
   "metadata": {},
   "outputs": [
    {
     "name": "stdout",
     "output_type": "stream",
     "text": [
      "Enter the Selling Price: 70000\n",
      "Enter the Cost Price: 50000\n",
      "Since the Selling Price is greater than the Cost Price. Therefore, Profit is equal to 20000\n",
      "So the shopkeeper earned a profit of 40.00%\n"
     ]
    }
   ],
   "source": [
    "# Find profit and loss\n",
    "\n",
    "sp = int(input('Enter the Selling Price: '))\n",
    "cp = int(input('Enter the Cost Price: '))\n",
    "if sp > 0 and cp > 0:\n",
    "    if sp > cp:\n",
    "        p = sp - cp\n",
    "        pp = p/cp \n",
    "        print(f'Since the Selling Price is greater than the Cost Price. Therefore, Profit is equal to {p}')\n",
    "        print(f'So the shopkeeper earned a profit of {pp:.2%}')\n",
    "    else:\n",
    "        l = cp - sp\n",
    "        lp = l/cp    \n",
    "        print(f'Since Selling Price is less than the Cost Price. Therefore, Loss is equal to {l}')\n",
    "        print(f'So the shopkeeper suffered a loss of {lp:.2%}')\n",
    "else:\n",
    "    print('Error!! Provide a postive integer value for Cost Price and Selling Price')"
   ]
  },
  {
   "cell_type": "code",
   "execution_count": 19,
   "id": "a3744af0",
   "metadata": {},
   "outputs": [
    {
     "name": "stdout",
     "output_type": "stream",
     "text": [
      "Enter the number: 10\n",
      "The square and cube of the number 10 is 100 and 1000\n"
     ]
    }
   ],
   "source": [
    "# Calculate square and cube using * operator\n",
    "\n",
    "num = int(input('Enter the number: '))\n",
    "def sq_cu(num):\n",
    "    sq = num**2\n",
    "    cu = num**3\n",
    "    print(f'The square and cube of the number {num} is {sq} and {cu}')\n",
    "sq_cu(num)"
   ]
  },
  {
   "cell_type": "code",
   "execution_count": 23,
   "id": "90745dfd",
   "metadata": {},
   "outputs": [
    {
     "name": "stdout",
     "output_type": "stream",
     "text": [
      "Enter the Principle Amount in Rs: 50000\n",
      "Enter the Rate of Interest: 5\n",
      "Enter the year: 2\n",
      "Simple Interest: Rs 5000.0\n"
     ]
    }
   ],
   "source": [
    "# Calculate Simple Interest\n",
    "\n",
    "p = int(input('Enter the Principle Amount in Rs: '))\n",
    "r = int(input('Enter the Rate of Interest: '))\n",
    "t = int(input('Enter the year: '))\n",
    "if p > 0 and r > 0 and t> 0:\n",
    "    si = (p*r*t)/100\n",
    "    print(f'Simple Interest: Rs {si}')"
   ]
  },
  {
   "cell_type": "code",
   "execution_count": 25,
   "id": "11882e5a",
   "metadata": {},
   "outputs": [
    {
     "name": "stdout",
     "output_type": "stream",
     "text": [
      "Enter the temperature in Celcius: 23\n",
      "Fahrenheit:  73.4\n"
     ]
    }
   ],
   "source": [
    "# Convert celsius to fahrenheit\n",
    "\n",
    "cel = int(input('Enter the temperature in Celcius: '))\n",
    "far = (9/5)*cel + 32\n",
    "print('Fahrenheit: ',far)"
   ]
  },
  {
   "cell_type": "code",
   "execution_count": 26,
   "id": "b82b1c26",
   "metadata": {},
   "outputs": [
    {
     "name": "stdout",
     "output_type": "stream",
     "text": [
      "Enter the weight of the object in gram: 3900\n",
      "The weight of the object is 3 kg and 900 gm\n"
     ]
    }
   ],
   "source": [
    "# Reading weight in grams and converting it to kg and gram\n",
    "\n",
    "wei = int(input('Enter the weight of the object in gram: '))\n",
    "if wei > 0:\n",
    "    w1 = wei // 1000\n",
    "    w2 = wei % 1000\n",
    "    print(f'The weight of the object is {w1} kg and {w2} gm')"
   ]
  },
  {
   "cell_type": "code",
   "execution_count": 31,
   "id": "f902a42a",
   "metadata": {},
   "outputs": [
    {
     "name": "stdout",
     "output_type": "stream",
     "text": [
      "Enter a four digit number: 7830\n",
      "The reverse of the number 7830, is 0 3 8 7\n"
     ]
    }
   ],
   "source": [
    "# Reverse any four digit number\n",
    "\n",
    "num = int(input('Enter a four digit number: '))\n",
    "m1 = num % 10\n",
    "r1 = num// 10\n",
    "m2 = r1 % 10\n",
    "r2 = r1 // 10\n",
    "m3 = r2 % 10\n",
    "r3 = r2 // 10\n",
    "print(f'The reverse of the number {num}, is',m1,m2,m3,r3)"
   ]
  },
  {
   "cell_type": "code",
   "execution_count": 32,
   "id": "a7e88ca0",
   "metadata": {},
   "outputs": [
    {
     "name": "stdout",
     "output_type": "stream",
     "text": [
      "Enter the value for x1: 3\n",
      "Enter the value for x2: 5\n",
      "Enter the value for y1: -3\n",
      "Enter the value for y2: -5\n",
      "The X Co-ordinate is (3, -3)\n",
      "The Y Co-ordinate is (5, -5)\n",
      "The distance between the X and Y Co-ordinate is 2.8284271247461903\n"
     ]
    }
   ],
   "source": [
    "# Finding the distance between the points\n",
    "\n",
    "x1 = int(input('Enter the value for x1: '))\n",
    "x2 = int(input('Enter the value for x2: '))\n",
    "y1 = int(input('Enter the value for y1: '))\n",
    "y2 = int(input('Enter the value for y2: '))\n",
    "print(f'The X Co-ordinate is {x1, y1}')\n",
    "print(f'The Y Co-ordinate is {x2, y2}')\n",
    "dis = ((x1-x2)**2 + (y1-y2)**2)**(1/2)\n",
    "print('The distance between the X and Y Co-ordinate is',dis)"
   ]
  },
  {
   "cell_type": "code",
   "execution_count": 36,
   "id": "07880008",
   "metadata": {},
   "outputs": [
    {
     "name": "stdout",
     "output_type": "stream",
     "text": [
      "X \t Y \t X**Y\n",
      "10 \t 2 \t 100\n",
      "10 \t 3 \t 1000\n",
      "10 \t 4 \t 10000\n",
      "10 \t 5 \t 100000\n"
     ]
    }
   ],
   "source": [
    "# Displaying table in a certain way\n",
    "\n",
    "print('X \\t Y \\t X**Y')\n",
    "print(f'10 \\t 2 \\t {10**2}')\n",
    "print(f'10 \\t 3 \\t {10**3}')\n",
    "print(f'10 \\t 4 \\t {10**4}')\n",
    "print(f'10 \\t 5 \\t {10**5}')"
   ]
  },
  {
   "cell_type": "code",
   "execution_count": 39,
   "id": "a229bd43",
   "metadata": {},
   "outputs": [
    {
     "name": "stdout",
     "output_type": "stream",
     "text": [
      "Enter the value of P: 4\n",
      "Enter the value of Q: 2\n",
      "The value of Z is 23.0 when P is 4 and Q is 2\n"
     ]
    }
   ],
   "source": [
    "# Calculate the value of a numerix expression\n",
    "\n",
    "p = int(input('Enter the value of P: '))\n",
    "q = int(input('Enter the value of Q: '))\n",
    "Z = (2+(8*p))/2  - ((p-q)*(p+q))/2 + (4*(p+q))/2\n",
    "print(f'The value of Z is {Z} when P is {p} and Q is {q}')"
   ]
  },
  {
   "cell_type": "code",
   "execution_count": 42,
   "id": "1343ff40",
   "metadata": {},
   "outputs": [
    {
     "name": "stdout",
     "output_type": "stream",
     "text": [
      "Enter the first number: 5\n",
      "Enter the second number: 6\n",
      "5 & 6 is 4\n"
     ]
    }
   ],
   "source": [
    "# Learning to use bitwise & operator\n",
    "\n",
    "n1 = int(input('Enter the first number: '))\n",
    "n2 = int(input('Enter the second number: '))\n",
    "print(f'{n1} & {n2} is {n1 & n2}')"
   ]
  },
  {
   "cell_type": "code",
   "execution_count": null,
   "id": "d7f47afe",
   "metadata": {},
   "outputs": [],
   "source": []
  }
 ],
 "metadata": {
  "kernelspec": {
   "display_name": "Python 3",
   "language": "python",
   "name": "python3"
  },
  "language_info": {
   "codemirror_mode": {
    "name": "ipython",
    "version": 3
   },
   "file_extension": ".py",
   "mimetype": "text/x-python",
   "name": "python",
   "nbconvert_exporter": "python",
   "pygments_lexer": "ipython3",
   "version": "3.8.8"
  }
 },
 "nbformat": 4,
 "nbformat_minor": 5
}
